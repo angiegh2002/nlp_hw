{
  "cells": [
    {
      "cell_type": "markdown",
      "metadata": {
        "id": "view-in-github",
        "colab_type": "text"
      },
      "source": [
        "<a href=\"https://colab.research.google.com/github/angiegh2002/nlp_hw/blob/main/DU2425S1-NLP_HW1_BY_-your_name-.ipynb\" target=\"_parent\"><img src=\"https://colab.research.google.com/assets/colab-badge.svg\" alt=\"Open In Colab\"/></a>"
      ]
    },
    {
      "cell_type": "markdown",
      "metadata": {
        "id": "46f519c8"
      },
      "source": [
        "#[إنجي غبيس - دانا كلش ]"
      ]
    },
    {
      "cell_type": "code",
      "source": [
        "from google.colab import drive\n",
        "drive.mount('/content/drive')"
      ],
      "metadata": {
        "id": "QCRv2D5nRl3l",
        "outputId": "50e7a9e5-95c2-496a-8a4a-bf56b9c2989f",
        "colab": {
          "base_uri": "https://localhost:8080/"
        }
      },
      "execution_count": 6,
      "outputs": [
        {
          "output_type": "stream",
          "name": "stdout",
          "text": [
            "Mounted at /content/drive\n"
          ]
        }
      ]
    },
    {
      "cell_type": "code",
      "source": [
        "!git clone https://huggingface.co/datasets/Abdelrahman-Rezk/Arabic_Dialect_Identification"
      ],
      "metadata": {
        "id": "YW-gWbvC94p7",
        "outputId": "4f41cdd6-7c63-428f-a8e3-707207bdc0ad",
        "colab": {
          "base_uri": "https://localhost:8080/"
        }
      },
      "execution_count": 3,
      "outputs": [
        {
          "output_type": "stream",
          "name": "stdout",
          "text": [
            "Cloning into 'Arabic_Dialect_Identification'...\n",
            "remote: Enumerating objects: 33, done.\u001b[K\n",
            "remote: Total 33 (delta 0), reused 0 (delta 0), pack-reused 33 (from 1)\u001b[K\n",
            "Unpacking objects: 100% (33/33), 6.47 KiB | 662.00 KiB/s, done.\n"
          ]
        }
      ]
    },
    {
      "cell_type": "markdown",
      "source": [],
      "metadata": {
        "id": "9P-9p6JKV5Hf"
      }
    },
    {
      "cell_type": "code",
      "source": [
        "!git clone https://github.com/angiegh2002/nlp_hw"
      ],
      "metadata": {
        "id": "99XfGhFs-Gv1",
        "outputId": "a56e2507-3e23-421f-b11e-85bebf0655a9",
        "colab": {
          "base_uri": "https://localhost:8080/"
        }
      },
      "execution_count": 4,
      "outputs": [
        {
          "output_type": "stream",
          "name": "stdout",
          "text": [
            "Cloning into 'nlp_hw'...\n",
            "remote: Enumerating objects: 58, done.\u001b[K\n",
            "remote: Counting objects: 100% (58/58), done.\u001b[K\n",
            "remote: Compressing objects: 100% (56/56), done.\u001b[K\n",
            "remote: Total 58 (delta 16), reused 0 (delta 0), pack-reused 0 (from 0)\u001b[K\n",
            "Receiving objects: 100% (58/58), 8.35 MiB | 4.35 MiB/s, done.\n",
            "Resolving deltas: 100% (16/16), done.\n"
          ]
        }
      ]
    },
    {
      "cell_type": "markdown",
      "metadata": {
        "id": "n_nK61CF1tq-"
      },
      "source": [
        "<h1 style=\"text-align: center;\">Arabic Dialect Identification<h1>"
      ]
    },
    {
      "cell_type": "markdown",
      "metadata": {
        "id": "e7efe140"
      },
      "source": [
        "Prepare libraries"
      ]
    },
    {
      "cell_type": "code",
      "execution_count": 13,
      "metadata": {
        "id": "af6058ed"
      },
      "outputs": [],
      "source": [
        "# here put every import you need e.g. import nltk\n",
        "# it's better to load what you need from the package by from [] import [] instead of import the whole package\n",
        "import pandas as pd\n",
        "import os\n",
        "import json\n",
        "import matplotlib.pyplot as plt\n",
        "import nltk\n",
        "from nltk.tokenize import  wordpunct_tokenize\n",
        "from nltk import FreqDist, bigrams, trigrams\n",
        "from nltk.collocations import BigramCollocationFinder, TrigramCollocationFinder\n",
        "from nltk.metrics import BigramAssocMeasures, TrigramAssocMeasures\n",
        "from collections import Counter\n",
        "from bidi.algorithm import get_display\n",
        "import arabic_reshaper\n",
        "from wordcloud import WordCloud\n",
        "import regex\n",
        "from itertools import tee\n"
      ]
    },
    {
      "cell_type": "code",
      "source": [
        "!pip install python-bidi\n",
        "!pip install arabic_reshaper"
      ],
      "metadata": {
        "id": "NEl1hW2r-xdQ",
        "outputId": "a8b688bc-9fe2-43c2-d702-a133ac65bfbf",
        "colab": {
          "base_uri": "https://localhost:8080/"
        }
      },
      "execution_count": 12,
      "outputs": [
        {
          "output_type": "stream",
          "name": "stdout",
          "text": [
            "Collecting python-bidi\n",
            "  Downloading python_bidi-0.6.3-cp310-cp310-manylinux_2_17_x86_64.manylinux2014_x86_64.whl.metadata (4.9 kB)\n",
            "Downloading python_bidi-0.6.3-cp310-cp310-manylinux_2_17_x86_64.manylinux2014_x86_64.whl (286 kB)\n",
            "\u001b[?25l   \u001b[90m━━━━━━━━━━━━━━━━━━━━━━━━━━━━━━━━━━━━━━━━\u001b[0m \u001b[32m0.0/286.8 kB\u001b[0m \u001b[31m?\u001b[0m eta \u001b[36m-:--:--\u001b[0m\r\u001b[2K   \u001b[91m━━━━━━━━━━━━━━━━━━━\u001b[0m\u001b[91m╸\u001b[0m\u001b[90m━━━━━━━━━━━━━━━━━━━━\u001b[0m \u001b[32m143.4/286.8 kB\u001b[0m \u001b[31m4.1 MB/s\u001b[0m eta \u001b[36m0:00:01\u001b[0m\r\u001b[2K   \u001b[90m━━━━━━━━━━━━━━━━━━━━━━━━━━━━━━━━━━━━━━━━\u001b[0m \u001b[32m286.8/286.8 kB\u001b[0m \u001b[31m4.8 MB/s\u001b[0m eta \u001b[36m0:00:00\u001b[0m\n",
            "\u001b[?25hInstalling collected packages: python-bidi\n",
            "Successfully installed python-bidi-0.6.3\n",
            "Collecting arabic_reshaper\n",
            "  Downloading arabic_reshaper-3.0.0-py3-none-any.whl.metadata (12 kB)\n",
            "Downloading arabic_reshaper-3.0.0-py3-none-any.whl (20 kB)\n",
            "Installing collected packages: arabic_reshaper\n",
            "Successfully installed arabic_reshaper-3.0.0\n"
          ]
        }
      ]
    },
    {
      "cell_type": "markdown",
      "metadata": {
        "id": "229df102"
      },
      "source": [
        "Load data"
      ]
    },
    {
      "cell_type": "markdown",
      "metadata": {
        "id": "QXo2Rii_1trh"
      },
      "source": [
        "<h2 dir=\"rtl\">مثال عن كيفية تنظيم حلول الطلبات:\n",
        "\n",
        "قم بوضع الخلايا الأربع التالية لحل كل طلب</h2>"
      ]
    },
    {
      "cell_type": "markdown",
      "metadata": {
        "id": "8E7xa9XLPW8t"
      },
      "source": [
        "\n",
        "<div dir=\"rtl\">شرح ما يقوم به الكود (like code documentation)<div>"
      ]
    },
    {
      "cell_type": "code",
      "execution_count": null,
      "metadata": {
        "id": "d41a9612"
      },
      "outputs": [],
      "source": [
        "# your code here\n"
      ]
    },
    {
      "cell_type": "code",
      "execution_count": null,
      "metadata": {
        "id": "aNNrMjaaQanf"
      },
      "outputs": [],
      "source": [
        "# example test"
      ]
    },
    {
      "cell_type": "markdown",
      "metadata": {
        "id": "d9NfyVxZQXF7"
      },
      "source": [
        "<div dir=\"rtl\">ملاحظاتك في حال وجودها</div>\n",
        "<div dir=\"rtl\">يمكنك إضافة خلايا لكل طلب بقدر ما تشاء، المهم أن تحافظ على تنظيم الملف</div>"
      ]
    },
    {
      "cell_type": "markdown",
      "metadata": {
        "id": "3400638b"
      },
      "source": [
        "# مهمة 01  : تحميل البيانات"
      ]
    },
    {
      "cell_type": "markdown",
      "metadata": {
        "id": "GA9IUbt71tvs"
      },
      "source": [
        "## [1.1]"
      ]
    },
    {
      "cell_type": "code",
      "execution_count": 14,
      "metadata": {
        "id": "-1-g4NtB1tvt"
      },
      "outputs": [],
      "source": [
        "MADAR_dir=\"/content/nlp_hw/MADAR_Corpus\"\n",
        "MADAR_file_path=[os.path.join(MADAR_dir,filename) for filename in os.listdir(MADAR_dir) if filename.endswith(\".tsv\")]\n",
        "df = [pd.read_csv(Mfilepath, sep='\\t') for Mfilepath in MADAR_file_path ]\n",
        "MADAR_df=pd.concat(df)\n",
        "MADAR_df=MADAR_df.drop_duplicates().dropna()\n",
        "has_nan=MADAR_df.isnull().sum().any()"
      ]
    },
    {
      "cell_type": "code",
      "execution_count": 15,
      "metadata": {
        "tags": [],
        "id": "84ktokFcRdPC",
        "outputId": "7185f6b6-13f4-45f1-aa7c-74a03f386f3b",
        "colab": {
          "base_uri": "https://localhost:8080/"
        }
      },
      "outputs": [
        {
          "output_type": "stream",
          "name": "stdout",
          "text": [
            "number of samples : 112000 \n",
            "number of trian samples : 95600 \n",
            "number of vaild samples : 11200\n",
            "number of test samples :5200\n"
          ]
        }
      ],
      "source": [
        "MADAR_trian_df=pd.concat([MADAR_df[MADAR_df['split'] == 'corpus-6-test-corpus-26-train'] ,MADAR_df[MADAR_df['split'] == 'corpus-6-train']])\n",
        "MADAR_vaild_df=pd.concat([MADAR_df[MADAR_df['split'] == 'corpus-6-test-corpus-26-dev'],MADAR_df[MADAR_df['split'] == 'corpus-6-dev']])\n",
        "MADAR_test_df= MADAR_df[MADAR_df['split'] == 'corpus-6-test-corpus-26-test']\n",
        "print(\"number of samples : {} \\nnumber of trian samples : {} \\nnumber of vaild samples : {}\\nnumber of test samples :{}\".format(len(MADAR_df),len(MADAR_trian_df),len(MADAR_vaild_df),len(MADAR_test_df)))"
      ]
    },
    {
      "cell_type": "code",
      "execution_count": 16,
      "metadata": {
        "tags": [],
        "id": "DxkfbIsVRdPG",
        "outputId": "3656e277-99d0-415c-8755-da724b89e350",
        "colab": {
          "base_uri": "https://localhost:8080/",
          "height": 363
        }
      },
      "outputs": [
        {
          "output_type": "execute_result",
          "data": {
            "text/plain": [
              "   sentID.BTEC                          split lang  \\\n",
              "0            5  corpus-6-test-corpus-26-train  JED   \n",
              "1            9  corpus-6-test-corpus-26-train  JED   \n",
              "2           11  corpus-6-test-corpus-26-train  JED   \n",
              "3           26  corpus-6-test-corpus-26-train  JED   \n",
              "4           27  corpus-6-test-corpus-26-train  JED   \n",
              "5           30  corpus-6-test-corpus-26-train  JED   \n",
              "6           50  corpus-6-test-corpus-26-train  JED   \n",
              "7           64  corpus-6-test-corpus-26-train  JED   \n",
              "8           74  corpus-6-test-corpus-26-train  JED   \n",
              "9           86  corpus-6-test-corpus-26-train  JED   \n",
              "\n",
              "                                              sent  \n",
              "0  شوفه هناك، قدام مكتب المعلومات السياحية بالضبط.  \n",
              "1                       ماقد سمعت بدا العنوان هنا.  \n",
              "2                 امشي سيدا لين ما تلاقي الصيدلية.  \n",
              "3                                      بكم الفطور؟  \n",
              "4                                 كيف أقدر اساعدك؟  \n",
              "5                    روح يسار عند الزواية الثالثة.  \n",
              "6                          تبا كريم وسكر في قهوتك؟  \n",
              "7          ممكن تعطيني كاش للشيك دا الميتين دولار؟  \n",
              "8                اذا لازم يظهر، اتصل عليا لو سمحت.  \n",
              "9                                      فين المقهى؟  "
            ],
            "text/html": [
              "\n",
              "  <div id=\"df-1668e695-1d00-4c97-b31f-0992c933df2b\" class=\"colab-df-container\">\n",
              "    <div>\n",
              "<style scoped>\n",
              "    .dataframe tbody tr th:only-of-type {\n",
              "        vertical-align: middle;\n",
              "    }\n",
              "\n",
              "    .dataframe tbody tr th {\n",
              "        vertical-align: top;\n",
              "    }\n",
              "\n",
              "    .dataframe thead th {\n",
              "        text-align: right;\n",
              "    }\n",
              "</style>\n",
              "<table border=\"1\" class=\"dataframe\">\n",
              "  <thead>\n",
              "    <tr style=\"text-align: right;\">\n",
              "      <th></th>\n",
              "      <th>sentID.BTEC</th>\n",
              "      <th>split</th>\n",
              "      <th>lang</th>\n",
              "      <th>sent</th>\n",
              "    </tr>\n",
              "  </thead>\n",
              "  <tbody>\n",
              "    <tr>\n",
              "      <th>0</th>\n",
              "      <td>5</td>\n",
              "      <td>corpus-6-test-corpus-26-train</td>\n",
              "      <td>JED</td>\n",
              "      <td>شوفه هناك، قدام مكتب المعلومات السياحية بالضبط.</td>\n",
              "    </tr>\n",
              "    <tr>\n",
              "      <th>1</th>\n",
              "      <td>9</td>\n",
              "      <td>corpus-6-test-corpus-26-train</td>\n",
              "      <td>JED</td>\n",
              "      <td>ماقد سمعت بدا العنوان هنا.</td>\n",
              "    </tr>\n",
              "    <tr>\n",
              "      <th>2</th>\n",
              "      <td>11</td>\n",
              "      <td>corpus-6-test-corpus-26-train</td>\n",
              "      <td>JED</td>\n",
              "      <td>امشي سيدا لين ما تلاقي الصيدلية.</td>\n",
              "    </tr>\n",
              "    <tr>\n",
              "      <th>3</th>\n",
              "      <td>26</td>\n",
              "      <td>corpus-6-test-corpus-26-train</td>\n",
              "      <td>JED</td>\n",
              "      <td>بكم الفطور؟</td>\n",
              "    </tr>\n",
              "    <tr>\n",
              "      <th>4</th>\n",
              "      <td>27</td>\n",
              "      <td>corpus-6-test-corpus-26-train</td>\n",
              "      <td>JED</td>\n",
              "      <td>كيف أقدر اساعدك؟</td>\n",
              "    </tr>\n",
              "    <tr>\n",
              "      <th>5</th>\n",
              "      <td>30</td>\n",
              "      <td>corpus-6-test-corpus-26-train</td>\n",
              "      <td>JED</td>\n",
              "      <td>روح يسار عند الزواية الثالثة.</td>\n",
              "    </tr>\n",
              "    <tr>\n",
              "      <th>6</th>\n",
              "      <td>50</td>\n",
              "      <td>corpus-6-test-corpus-26-train</td>\n",
              "      <td>JED</td>\n",
              "      <td>تبا كريم وسكر في قهوتك؟</td>\n",
              "    </tr>\n",
              "    <tr>\n",
              "      <th>7</th>\n",
              "      <td>64</td>\n",
              "      <td>corpus-6-test-corpus-26-train</td>\n",
              "      <td>JED</td>\n",
              "      <td>ممكن تعطيني كاش للشيك دا الميتين دولار؟</td>\n",
              "    </tr>\n",
              "    <tr>\n",
              "      <th>8</th>\n",
              "      <td>74</td>\n",
              "      <td>corpus-6-test-corpus-26-train</td>\n",
              "      <td>JED</td>\n",
              "      <td>اذا لازم يظهر، اتصل عليا لو سمحت.</td>\n",
              "    </tr>\n",
              "    <tr>\n",
              "      <th>9</th>\n",
              "      <td>86</td>\n",
              "      <td>corpus-6-test-corpus-26-train</td>\n",
              "      <td>JED</td>\n",
              "      <td>فين المقهى؟</td>\n",
              "    </tr>\n",
              "  </tbody>\n",
              "</table>\n",
              "</div>\n",
              "    <div class=\"colab-df-buttons\">\n",
              "\n",
              "  <div class=\"colab-df-container\">\n",
              "    <button class=\"colab-df-convert\" onclick=\"convertToInteractive('df-1668e695-1d00-4c97-b31f-0992c933df2b')\"\n",
              "            title=\"Convert this dataframe to an interactive table.\"\n",
              "            style=\"display:none;\">\n",
              "\n",
              "  <svg xmlns=\"http://www.w3.org/2000/svg\" height=\"24px\" viewBox=\"0 -960 960 960\">\n",
              "    <path d=\"M120-120v-720h720v720H120Zm60-500h600v-160H180v160Zm220 220h160v-160H400v160Zm0 220h160v-160H400v160ZM180-400h160v-160H180v160Zm440 0h160v-160H620v160ZM180-180h160v-160H180v160Zm440 0h160v-160H620v160Z\"/>\n",
              "  </svg>\n",
              "    </button>\n",
              "\n",
              "  <style>\n",
              "    .colab-df-container {\n",
              "      display:flex;\n",
              "      gap: 12px;\n",
              "    }\n",
              "\n",
              "    .colab-df-convert {\n",
              "      background-color: #E8F0FE;\n",
              "      border: none;\n",
              "      border-radius: 50%;\n",
              "      cursor: pointer;\n",
              "      display: none;\n",
              "      fill: #1967D2;\n",
              "      height: 32px;\n",
              "      padding: 0 0 0 0;\n",
              "      width: 32px;\n",
              "    }\n",
              "\n",
              "    .colab-df-convert:hover {\n",
              "      background-color: #E2EBFA;\n",
              "      box-shadow: 0px 1px 2px rgba(60, 64, 67, 0.3), 0px 1px 3px 1px rgba(60, 64, 67, 0.15);\n",
              "      fill: #174EA6;\n",
              "    }\n",
              "\n",
              "    .colab-df-buttons div {\n",
              "      margin-bottom: 4px;\n",
              "    }\n",
              "\n",
              "    [theme=dark] .colab-df-convert {\n",
              "      background-color: #3B4455;\n",
              "      fill: #D2E3FC;\n",
              "    }\n",
              "\n",
              "    [theme=dark] .colab-df-convert:hover {\n",
              "      background-color: #434B5C;\n",
              "      box-shadow: 0px 1px 3px 1px rgba(0, 0, 0, 0.15);\n",
              "      filter: drop-shadow(0px 1px 2px rgba(0, 0, 0, 0.3));\n",
              "      fill: #FFFFFF;\n",
              "    }\n",
              "  </style>\n",
              "\n",
              "    <script>\n",
              "      const buttonEl =\n",
              "        document.querySelector('#df-1668e695-1d00-4c97-b31f-0992c933df2b button.colab-df-convert');\n",
              "      buttonEl.style.display =\n",
              "        google.colab.kernel.accessAllowed ? 'block' : 'none';\n",
              "\n",
              "      async function convertToInteractive(key) {\n",
              "        const element = document.querySelector('#df-1668e695-1d00-4c97-b31f-0992c933df2b');\n",
              "        const dataTable =\n",
              "          await google.colab.kernel.invokeFunction('convertToInteractive',\n",
              "                                                    [key], {});\n",
              "        if (!dataTable) return;\n",
              "\n",
              "        const docLinkHtml = 'Like what you see? Visit the ' +\n",
              "          '<a target=\"_blank\" href=https://colab.research.google.com/notebooks/data_table.ipynb>data table notebook</a>'\n",
              "          + ' to learn more about interactive tables.';\n",
              "        element.innerHTML = '';\n",
              "        dataTable['output_type'] = 'display_data';\n",
              "        await google.colab.output.renderOutput(dataTable, element);\n",
              "        const docLink = document.createElement('div');\n",
              "        docLink.innerHTML = docLinkHtml;\n",
              "        element.appendChild(docLink);\n",
              "      }\n",
              "    </script>\n",
              "  </div>\n",
              "\n",
              "\n",
              "<div id=\"df-8f1bd5f3-a88e-403d-b72f-bf166164f2fe\">\n",
              "  <button class=\"colab-df-quickchart\" onclick=\"quickchart('df-8f1bd5f3-a88e-403d-b72f-bf166164f2fe')\"\n",
              "            title=\"Suggest charts\"\n",
              "            style=\"display:none;\">\n",
              "\n",
              "<svg xmlns=\"http://www.w3.org/2000/svg\" height=\"24px\"viewBox=\"0 0 24 24\"\n",
              "     width=\"24px\">\n",
              "    <g>\n",
              "        <path d=\"M19 3H5c-1.1 0-2 .9-2 2v14c0 1.1.9 2 2 2h14c1.1 0 2-.9 2-2V5c0-1.1-.9-2-2-2zM9 17H7v-7h2v7zm4 0h-2V7h2v10zm4 0h-2v-4h2v4z\"/>\n",
              "    </g>\n",
              "</svg>\n",
              "  </button>\n",
              "\n",
              "<style>\n",
              "  .colab-df-quickchart {\n",
              "      --bg-color: #E8F0FE;\n",
              "      --fill-color: #1967D2;\n",
              "      --hover-bg-color: #E2EBFA;\n",
              "      --hover-fill-color: #174EA6;\n",
              "      --disabled-fill-color: #AAA;\n",
              "      --disabled-bg-color: #DDD;\n",
              "  }\n",
              "\n",
              "  [theme=dark] .colab-df-quickchart {\n",
              "      --bg-color: #3B4455;\n",
              "      --fill-color: #D2E3FC;\n",
              "      --hover-bg-color: #434B5C;\n",
              "      --hover-fill-color: #FFFFFF;\n",
              "      --disabled-bg-color: #3B4455;\n",
              "      --disabled-fill-color: #666;\n",
              "  }\n",
              "\n",
              "  .colab-df-quickchart {\n",
              "    background-color: var(--bg-color);\n",
              "    border: none;\n",
              "    border-radius: 50%;\n",
              "    cursor: pointer;\n",
              "    display: none;\n",
              "    fill: var(--fill-color);\n",
              "    height: 32px;\n",
              "    padding: 0;\n",
              "    width: 32px;\n",
              "  }\n",
              "\n",
              "  .colab-df-quickchart:hover {\n",
              "    background-color: var(--hover-bg-color);\n",
              "    box-shadow: 0 1px 2px rgba(60, 64, 67, 0.3), 0 1px 3px 1px rgba(60, 64, 67, 0.15);\n",
              "    fill: var(--button-hover-fill-color);\n",
              "  }\n",
              "\n",
              "  .colab-df-quickchart-complete:disabled,\n",
              "  .colab-df-quickchart-complete:disabled:hover {\n",
              "    background-color: var(--disabled-bg-color);\n",
              "    fill: var(--disabled-fill-color);\n",
              "    box-shadow: none;\n",
              "  }\n",
              "\n",
              "  .colab-df-spinner {\n",
              "    border: 2px solid var(--fill-color);\n",
              "    border-color: transparent;\n",
              "    border-bottom-color: var(--fill-color);\n",
              "    animation:\n",
              "      spin 1s steps(1) infinite;\n",
              "  }\n",
              "\n",
              "  @keyframes spin {\n",
              "    0% {\n",
              "      border-color: transparent;\n",
              "      border-bottom-color: var(--fill-color);\n",
              "      border-left-color: var(--fill-color);\n",
              "    }\n",
              "    20% {\n",
              "      border-color: transparent;\n",
              "      border-left-color: var(--fill-color);\n",
              "      border-top-color: var(--fill-color);\n",
              "    }\n",
              "    30% {\n",
              "      border-color: transparent;\n",
              "      border-left-color: var(--fill-color);\n",
              "      border-top-color: var(--fill-color);\n",
              "      border-right-color: var(--fill-color);\n",
              "    }\n",
              "    40% {\n",
              "      border-color: transparent;\n",
              "      border-right-color: var(--fill-color);\n",
              "      border-top-color: var(--fill-color);\n",
              "    }\n",
              "    60% {\n",
              "      border-color: transparent;\n",
              "      border-right-color: var(--fill-color);\n",
              "    }\n",
              "    80% {\n",
              "      border-color: transparent;\n",
              "      border-right-color: var(--fill-color);\n",
              "      border-bottom-color: var(--fill-color);\n",
              "    }\n",
              "    90% {\n",
              "      border-color: transparent;\n",
              "      border-bottom-color: var(--fill-color);\n",
              "    }\n",
              "  }\n",
              "</style>\n",
              "\n",
              "  <script>\n",
              "    async function quickchart(key) {\n",
              "      const quickchartButtonEl =\n",
              "        document.querySelector('#' + key + ' button');\n",
              "      quickchartButtonEl.disabled = true;  // To prevent multiple clicks.\n",
              "      quickchartButtonEl.classList.add('colab-df-spinner');\n",
              "      try {\n",
              "        const charts = await google.colab.kernel.invokeFunction(\n",
              "            'suggestCharts', [key], {});\n",
              "      } catch (error) {\n",
              "        console.error('Error during call to suggestCharts:', error);\n",
              "      }\n",
              "      quickchartButtonEl.classList.remove('colab-df-spinner');\n",
              "      quickchartButtonEl.classList.add('colab-df-quickchart-complete');\n",
              "    }\n",
              "    (() => {\n",
              "      let quickchartButtonEl =\n",
              "        document.querySelector('#df-8f1bd5f3-a88e-403d-b72f-bf166164f2fe button');\n",
              "      quickchartButtonEl.style.display =\n",
              "        google.colab.kernel.accessAllowed ? 'block' : 'none';\n",
              "    })();\n",
              "  </script>\n",
              "</div>\n",
              "\n",
              "    </div>\n",
              "  </div>\n"
            ],
            "application/vnd.google.colaboratory.intrinsic+json": {
              "type": "dataframe",
              "variable_name": "MADAR_df"
            }
          },
          "metadata": {},
          "execution_count": 16
        }
      ],
      "source": [
        "MADAR_df.head(10)"
      ]
    },
    {
      "cell_type": "code",
      "execution_count": 39,
      "metadata": {
        "id": "TS-KMKAZRdPI"
      },
      "outputs": [],
      "source": [
        "QADI_dir=\"/content/Arabic_Dialect_Identification/data\"\n",
        "file_labels = [ \"test\",\"trian\",\"valid\"]\n",
        "QADI_file_path=[os.path.join(QADI_dir,filename) for filename in os.listdir(QADI_dir) if filename.endswith(\".parquet\")]\n",
        "frames = [pd.read_parquet(Qfilepath).assign(split=label) for Qfilepath, label in zip(QADI_file_path, file_labels)]\n",
        "QADI_df=pd.concat(frames)\n",
        "label_mapping = {\n",
        "    0: 'OM', 1: 'SD', 2: 'SA', 3: 'KW', 4: 'QA', 5: 'LB',\n",
        "    6: 'JO', 7: 'SY', 8: 'IQ', 9: 'MA', 10: 'EG',\n",
        "    11: 'PL', 12: 'YE', 13: 'BH', 14: 'DZ', 15: 'AE',\n",
        "    16: 'TN', 17: 'LY'\n",
        "}\n",
        "QADI_df['label'] = QADI_df['label'].map(label_mapping)\n",
        "QADI_df=QADI_df.drop_duplicates().dropna()\n",
        "has_nan=QADI_df.isnull().sum().any()\n"
      ]
    },
    {
      "cell_type": "code",
      "execution_count": 40,
      "metadata": {
        "tags": [],
        "id": "N_23HLmFRdPJ",
        "outputId": "83b6c7e1-3882-4523-8523-28297a451788",
        "colab": {
          "base_uri": "https://localhost:8080/"
        }
      },
      "outputs": [
        {
          "output_type": "stream",
          "name": "stdout",
          "text": [
            "number of samples : 458197 \n",
            "number of trian samples : 440052 \n",
            "number of vaild samples : 8981\n",
            "number of test samples :9164\n"
          ]
        }
      ],
      "source": [
        "QADI_trian_df=QADI_df[QADI_df['split'] == 'trian']\n",
        "QADI_test_df=QADI_df[QADI_df['split'] == 'test']\n",
        "QADI_vaild_df=QADI_df[QADI_df['split'] == 'valid']\n",
        "print(\"number of samples : {} \\nnumber of trian samples : {} \\nnumber of vaild samples : {}\\nnumber of test samples :{}\".format(len(QADI_df),len(QADI_trian_df),len(QADI_vaild_df),len(QADI_test_df)))"
      ]
    },
    {
      "cell_type": "code",
      "execution_count": 41,
      "metadata": {
        "tags": [],
        "id": "RMZktM8dRdPK",
        "colab": {
          "base_uri": "https://localhost:8080/",
          "height": 363
        },
        "outputId": "00665655-2700-4803-8498-bfc35a3d2b64"
      },
      "outputs": [
        {
          "output_type": "execute_result",
          "data": {
            "text/plain": [
              "                    id label  \\\n",
              "0   910595516496515200    KW   \n",
              "1   847921262752129024    JO   \n",
              "2  1138977052055560192    EG   \n",
              "3   978901748604645376    AE   \n",
              "4   838068478179430400    KW   \n",
              "5  1180570878192562176    DZ   \n",
              "6  1125837506077970432    BH   \n",
              "7  1133104152131694592    JO   \n",
              "8  1107380111664398336    LB   \n",
              "9  1153151641333509888    LB   \n",
              "\n",
              "                                                text split  \n",
              "0  @A_E_92 استاذ عبدالعزيز  صارله الموضوع سنه يعن...  test  \n",
              "1  #كذبة_نيسان كل عام والكذاب بألف خير 🙈😂 https:/...  test  \n",
              "2                  @basitooo5 طمطم عاااتى طبق جبنة 🙄  test  \n",
              "3  @alsyasiyeh @alsyaaf يمكن متلاحقين السوق بيشتر...  test  \n",
              "4  @A_A_AlTammar عيل المدرب حمار حشاك .. مالها حل...  test  \n",
              "5  @X_NISOU @ALGtrend @bina_bilaa @Ss68Sarah @Ena...  test  \n",
              "6         الهُم انك عفو كريم تُحب العفو فأعفُ عنا ..  test  \n",
              "7  @emsamiira الحلو بكل الي بصير معك من مصايب  لس...  test  \n",
              "8  هذا ما قالته كلودين عون عن صحّة الرئيس https:/...  test  \n",
              "9  @AZAL84 @BassamAbouZeid @MokhtarGhazzawi هي شب...  test  "
            ],
            "text/html": [
              "\n",
              "  <div id=\"df-6be3e7ab-cc33-4581-a5aa-8ff76fbf8e94\" class=\"colab-df-container\">\n",
              "    <div>\n",
              "<style scoped>\n",
              "    .dataframe tbody tr th:only-of-type {\n",
              "        vertical-align: middle;\n",
              "    }\n",
              "\n",
              "    .dataframe tbody tr th {\n",
              "        vertical-align: top;\n",
              "    }\n",
              "\n",
              "    .dataframe thead th {\n",
              "        text-align: right;\n",
              "    }\n",
              "</style>\n",
              "<table border=\"1\" class=\"dataframe\">\n",
              "  <thead>\n",
              "    <tr style=\"text-align: right;\">\n",
              "      <th></th>\n",
              "      <th>id</th>\n",
              "      <th>label</th>\n",
              "      <th>text</th>\n",
              "      <th>split</th>\n",
              "    </tr>\n",
              "  </thead>\n",
              "  <tbody>\n",
              "    <tr>\n",
              "      <th>0</th>\n",
              "      <td>910595516496515200</td>\n",
              "      <td>KW</td>\n",
              "      <td>@A_E_92 استاذ عبدالعزيز  صارله الموضوع سنه يعن...</td>\n",
              "      <td>test</td>\n",
              "    </tr>\n",
              "    <tr>\n",
              "      <th>1</th>\n",
              "      <td>847921262752129024</td>\n",
              "      <td>JO</td>\n",
              "      <td>#كذبة_نيسان كل عام والكذاب بألف خير 🙈😂 https:/...</td>\n",
              "      <td>test</td>\n",
              "    </tr>\n",
              "    <tr>\n",
              "      <th>2</th>\n",
              "      <td>1138977052055560192</td>\n",
              "      <td>EG</td>\n",
              "      <td>@basitooo5 طمطم عاااتى طبق جبنة 🙄</td>\n",
              "      <td>test</td>\n",
              "    </tr>\n",
              "    <tr>\n",
              "      <th>3</th>\n",
              "      <td>978901748604645376</td>\n",
              "      <td>AE</td>\n",
              "      <td>@alsyasiyeh @alsyaaf يمكن متلاحقين السوق بيشتر...</td>\n",
              "      <td>test</td>\n",
              "    </tr>\n",
              "    <tr>\n",
              "      <th>4</th>\n",
              "      <td>838068478179430400</td>\n",
              "      <td>KW</td>\n",
              "      <td>@A_A_AlTammar عيل المدرب حمار حشاك .. مالها حل...</td>\n",
              "      <td>test</td>\n",
              "    </tr>\n",
              "    <tr>\n",
              "      <th>5</th>\n",
              "      <td>1180570878192562176</td>\n",
              "      <td>DZ</td>\n",
              "      <td>@X_NISOU @ALGtrend @bina_bilaa @Ss68Sarah @Ena...</td>\n",
              "      <td>test</td>\n",
              "    </tr>\n",
              "    <tr>\n",
              "      <th>6</th>\n",
              "      <td>1125837506077970432</td>\n",
              "      <td>BH</td>\n",
              "      <td>الهُم انك عفو كريم تُحب العفو فأعفُ عنا ..</td>\n",
              "      <td>test</td>\n",
              "    </tr>\n",
              "    <tr>\n",
              "      <th>7</th>\n",
              "      <td>1133104152131694592</td>\n",
              "      <td>JO</td>\n",
              "      <td>@emsamiira الحلو بكل الي بصير معك من مصايب  لس...</td>\n",
              "      <td>test</td>\n",
              "    </tr>\n",
              "    <tr>\n",
              "      <th>8</th>\n",
              "      <td>1107380111664398336</td>\n",
              "      <td>LB</td>\n",
              "      <td>هذا ما قالته كلودين عون عن صحّة الرئيس https:/...</td>\n",
              "      <td>test</td>\n",
              "    </tr>\n",
              "    <tr>\n",
              "      <th>9</th>\n",
              "      <td>1153151641333509888</td>\n",
              "      <td>LB</td>\n",
              "      <td>@AZAL84 @BassamAbouZeid @MokhtarGhazzawi هي شب...</td>\n",
              "      <td>test</td>\n",
              "    </tr>\n",
              "  </tbody>\n",
              "</table>\n",
              "</div>\n",
              "    <div class=\"colab-df-buttons\">\n",
              "\n",
              "  <div class=\"colab-df-container\">\n",
              "    <button class=\"colab-df-convert\" onclick=\"convertToInteractive('df-6be3e7ab-cc33-4581-a5aa-8ff76fbf8e94')\"\n",
              "            title=\"Convert this dataframe to an interactive table.\"\n",
              "            style=\"display:none;\">\n",
              "\n",
              "  <svg xmlns=\"http://www.w3.org/2000/svg\" height=\"24px\" viewBox=\"0 -960 960 960\">\n",
              "    <path d=\"M120-120v-720h720v720H120Zm60-500h600v-160H180v160Zm220 220h160v-160H400v160Zm0 220h160v-160H400v160ZM180-400h160v-160H180v160Zm440 0h160v-160H620v160ZM180-180h160v-160H180v160Zm440 0h160v-160H620v160Z\"/>\n",
              "  </svg>\n",
              "    </button>\n",
              "\n",
              "  <style>\n",
              "    .colab-df-container {\n",
              "      display:flex;\n",
              "      gap: 12px;\n",
              "    }\n",
              "\n",
              "    .colab-df-convert {\n",
              "      background-color: #E8F0FE;\n",
              "      border: none;\n",
              "      border-radius: 50%;\n",
              "      cursor: pointer;\n",
              "      display: none;\n",
              "      fill: #1967D2;\n",
              "      height: 32px;\n",
              "      padding: 0 0 0 0;\n",
              "      width: 32px;\n",
              "    }\n",
              "\n",
              "    .colab-df-convert:hover {\n",
              "      background-color: #E2EBFA;\n",
              "      box-shadow: 0px 1px 2px rgba(60, 64, 67, 0.3), 0px 1px 3px 1px rgba(60, 64, 67, 0.15);\n",
              "      fill: #174EA6;\n",
              "    }\n",
              "\n",
              "    .colab-df-buttons div {\n",
              "      margin-bottom: 4px;\n",
              "    }\n",
              "\n",
              "    [theme=dark] .colab-df-convert {\n",
              "      background-color: #3B4455;\n",
              "      fill: #D2E3FC;\n",
              "    }\n",
              "\n",
              "    [theme=dark] .colab-df-convert:hover {\n",
              "      background-color: #434B5C;\n",
              "      box-shadow: 0px 1px 3px 1px rgba(0, 0, 0, 0.15);\n",
              "      filter: drop-shadow(0px 1px 2px rgba(0, 0, 0, 0.3));\n",
              "      fill: #FFFFFF;\n",
              "    }\n",
              "  </style>\n",
              "\n",
              "    <script>\n",
              "      const buttonEl =\n",
              "        document.querySelector('#df-6be3e7ab-cc33-4581-a5aa-8ff76fbf8e94 button.colab-df-convert');\n",
              "      buttonEl.style.display =\n",
              "        google.colab.kernel.accessAllowed ? 'block' : 'none';\n",
              "\n",
              "      async function convertToInteractive(key) {\n",
              "        const element = document.querySelector('#df-6be3e7ab-cc33-4581-a5aa-8ff76fbf8e94');\n",
              "        const dataTable =\n",
              "          await google.colab.kernel.invokeFunction('convertToInteractive',\n",
              "                                                    [key], {});\n",
              "        if (!dataTable) return;\n",
              "\n",
              "        const docLinkHtml = 'Like what you see? Visit the ' +\n",
              "          '<a target=\"_blank\" href=https://colab.research.google.com/notebooks/data_table.ipynb>data table notebook</a>'\n",
              "          + ' to learn more about interactive tables.';\n",
              "        element.innerHTML = '';\n",
              "        dataTable['output_type'] = 'display_data';\n",
              "        await google.colab.output.renderOutput(dataTable, element);\n",
              "        const docLink = document.createElement('div');\n",
              "        docLink.innerHTML = docLinkHtml;\n",
              "        element.appendChild(docLink);\n",
              "      }\n",
              "    </script>\n",
              "  </div>\n",
              "\n",
              "\n",
              "<div id=\"df-f7e63297-b866-4fda-8efb-6ea1be6203c4\">\n",
              "  <button class=\"colab-df-quickchart\" onclick=\"quickchart('df-f7e63297-b866-4fda-8efb-6ea1be6203c4')\"\n",
              "            title=\"Suggest charts\"\n",
              "            style=\"display:none;\">\n",
              "\n",
              "<svg xmlns=\"http://www.w3.org/2000/svg\" height=\"24px\"viewBox=\"0 0 24 24\"\n",
              "     width=\"24px\">\n",
              "    <g>\n",
              "        <path d=\"M19 3H5c-1.1 0-2 .9-2 2v14c0 1.1.9 2 2 2h14c1.1 0 2-.9 2-2V5c0-1.1-.9-2-2-2zM9 17H7v-7h2v7zm4 0h-2V7h2v10zm4 0h-2v-4h2v4z\"/>\n",
              "    </g>\n",
              "</svg>\n",
              "  </button>\n",
              "\n",
              "<style>\n",
              "  .colab-df-quickchart {\n",
              "      --bg-color: #E8F0FE;\n",
              "      --fill-color: #1967D2;\n",
              "      --hover-bg-color: #E2EBFA;\n",
              "      --hover-fill-color: #174EA6;\n",
              "      --disabled-fill-color: #AAA;\n",
              "      --disabled-bg-color: #DDD;\n",
              "  }\n",
              "\n",
              "  [theme=dark] .colab-df-quickchart {\n",
              "      --bg-color: #3B4455;\n",
              "      --fill-color: #D2E3FC;\n",
              "      --hover-bg-color: #434B5C;\n",
              "      --hover-fill-color: #FFFFFF;\n",
              "      --disabled-bg-color: #3B4455;\n",
              "      --disabled-fill-color: #666;\n",
              "  }\n",
              "\n",
              "  .colab-df-quickchart {\n",
              "    background-color: var(--bg-color);\n",
              "    border: none;\n",
              "    border-radius: 50%;\n",
              "    cursor: pointer;\n",
              "    display: none;\n",
              "    fill: var(--fill-color);\n",
              "    height: 32px;\n",
              "    padding: 0;\n",
              "    width: 32px;\n",
              "  }\n",
              "\n",
              "  .colab-df-quickchart:hover {\n",
              "    background-color: var(--hover-bg-color);\n",
              "    box-shadow: 0 1px 2px rgba(60, 64, 67, 0.3), 0 1px 3px 1px rgba(60, 64, 67, 0.15);\n",
              "    fill: var(--button-hover-fill-color);\n",
              "  }\n",
              "\n",
              "  .colab-df-quickchart-complete:disabled,\n",
              "  .colab-df-quickchart-complete:disabled:hover {\n",
              "    background-color: var(--disabled-bg-color);\n",
              "    fill: var(--disabled-fill-color);\n",
              "    box-shadow: none;\n",
              "  }\n",
              "\n",
              "  .colab-df-spinner {\n",
              "    border: 2px solid var(--fill-color);\n",
              "    border-color: transparent;\n",
              "    border-bottom-color: var(--fill-color);\n",
              "    animation:\n",
              "      spin 1s steps(1) infinite;\n",
              "  }\n",
              "\n",
              "  @keyframes spin {\n",
              "    0% {\n",
              "      border-color: transparent;\n",
              "      border-bottom-color: var(--fill-color);\n",
              "      border-left-color: var(--fill-color);\n",
              "    }\n",
              "    20% {\n",
              "      border-color: transparent;\n",
              "      border-left-color: var(--fill-color);\n",
              "      border-top-color: var(--fill-color);\n",
              "    }\n",
              "    30% {\n",
              "      border-color: transparent;\n",
              "      border-left-color: var(--fill-color);\n",
              "      border-top-color: var(--fill-color);\n",
              "      border-right-color: var(--fill-color);\n",
              "    }\n",
              "    40% {\n",
              "      border-color: transparent;\n",
              "      border-right-color: var(--fill-color);\n",
              "      border-top-color: var(--fill-color);\n",
              "    }\n",
              "    60% {\n",
              "      border-color: transparent;\n",
              "      border-right-color: var(--fill-color);\n",
              "    }\n",
              "    80% {\n",
              "      border-color: transparent;\n",
              "      border-right-color: var(--fill-color);\n",
              "      border-bottom-color: var(--fill-color);\n",
              "    }\n",
              "    90% {\n",
              "      border-color: transparent;\n",
              "      border-bottom-color: var(--fill-color);\n",
              "    }\n",
              "  }\n",
              "</style>\n",
              "\n",
              "  <script>\n",
              "    async function quickchart(key) {\n",
              "      const quickchartButtonEl =\n",
              "        document.querySelector('#' + key + ' button');\n",
              "      quickchartButtonEl.disabled = true;  // To prevent multiple clicks.\n",
              "      quickchartButtonEl.classList.add('colab-df-spinner');\n",
              "      try {\n",
              "        const charts = await google.colab.kernel.invokeFunction(\n",
              "            'suggestCharts', [key], {});\n",
              "      } catch (error) {\n",
              "        console.error('Error during call to suggestCharts:', error);\n",
              "      }\n",
              "      quickchartButtonEl.classList.remove('colab-df-spinner');\n",
              "      quickchartButtonEl.classList.add('colab-df-quickchart-complete');\n",
              "    }\n",
              "    (() => {\n",
              "      let quickchartButtonEl =\n",
              "        document.querySelector('#df-f7e63297-b866-4fda-8efb-6ea1be6203c4 button');\n",
              "      quickchartButtonEl.style.display =\n",
              "        google.colab.kernel.accessAllowed ? 'block' : 'none';\n",
              "    })();\n",
              "  </script>\n",
              "</div>\n",
              "\n",
              "    </div>\n",
              "  </div>\n"
            ],
            "application/vnd.google.colaboratory.intrinsic+json": {
              "type": "dataframe",
              "variable_name": "QADI_df"
            }
          },
          "metadata": {},
          "execution_count": 41
        }
      ],
      "source": [
        "QADI_df.head(10)"
      ]
    },
    {
      "cell_type": "markdown",
      "metadata": {
        "id": "gDDQUWtr1tvu"
      },
      "source": [
        "## [1.2]"
      ]
    },
    {
      "cell_type": "code",
      "execution_count": 42,
      "metadata": {
        "id": "ICrvRCc8ucDZ",
        "colab": {
          "base_uri": "https://localhost:8080/",
          "height": 0
        },
        "outputId": "bc1e0e3c-9991-4733-9bf3-0a5da8432844"
      },
      "outputs": [
        {
          "output_type": "execute_result",
          "data": {
            "text/plain": [
              "    Region Unnamed: 2 Unnamed: 3  Country Unnamed: 5 Unnamed: 6     City  \\\n",
              "2  Maghreb  المغاربية         MA  Morocco     المغرب        RAB    Rabat   \n",
              "3  Maghreb  المغاربية         MA  Morocco     المغرب        FES      Fes   \n",
              "4  Maghreb  المغاربية         DZ  Algeria    الجزائر        ALG  Algiers   \n",
              "5  Maghreb  المغاربية         DZ  Algeria    الجزائر        ANB   Annaba   \n",
              "6  Maghreb  المغاربية         TN  Tunisia       تونس        TUN    Tunis   \n",
              "\n",
              "  Unnamed: 8  \n",
              "2     الرباط  \n",
              "3        فاس  \n",
              "4    الجزائر  \n",
              "5      عنابة  \n",
              "6       تونس  "
            ],
            "text/html": [
              "\n",
              "  <div id=\"df-72e2021c-883d-48ae-8b97-ea7f8493e633\" class=\"colab-df-container\">\n",
              "    <div>\n",
              "<style scoped>\n",
              "    .dataframe tbody tr th:only-of-type {\n",
              "        vertical-align: middle;\n",
              "    }\n",
              "\n",
              "    .dataframe tbody tr th {\n",
              "        vertical-align: top;\n",
              "    }\n",
              "\n",
              "    .dataframe thead th {\n",
              "        text-align: right;\n",
              "    }\n",
              "</style>\n",
              "<table border=\"1\" class=\"dataframe\">\n",
              "  <thead>\n",
              "    <tr style=\"text-align: right;\">\n",
              "      <th></th>\n",
              "      <th>Region</th>\n",
              "      <th>Unnamed: 2</th>\n",
              "      <th>Unnamed: 3</th>\n",
              "      <th>Country</th>\n",
              "      <th>Unnamed: 5</th>\n",
              "      <th>Unnamed: 6</th>\n",
              "      <th>City</th>\n",
              "      <th>Unnamed: 8</th>\n",
              "    </tr>\n",
              "  </thead>\n",
              "  <tbody>\n",
              "    <tr>\n",
              "      <th>2</th>\n",
              "      <td>Maghreb</td>\n",
              "      <td>المغاربية</td>\n",
              "      <td>MA</td>\n",
              "      <td>Morocco</td>\n",
              "      <td>المغرب</td>\n",
              "      <td>RAB</td>\n",
              "      <td>Rabat</td>\n",
              "      <td>الرباط</td>\n",
              "    </tr>\n",
              "    <tr>\n",
              "      <th>3</th>\n",
              "      <td>Maghreb</td>\n",
              "      <td>المغاربية</td>\n",
              "      <td>MA</td>\n",
              "      <td>Morocco</td>\n",
              "      <td>المغرب</td>\n",
              "      <td>FES</td>\n",
              "      <td>Fes</td>\n",
              "      <td>فاس</td>\n",
              "    </tr>\n",
              "    <tr>\n",
              "      <th>4</th>\n",
              "      <td>Maghreb</td>\n",
              "      <td>المغاربية</td>\n",
              "      <td>DZ</td>\n",
              "      <td>Algeria</td>\n",
              "      <td>الجزائر</td>\n",
              "      <td>ALG</td>\n",
              "      <td>Algiers</td>\n",
              "      <td>الجزائر</td>\n",
              "    </tr>\n",
              "    <tr>\n",
              "      <th>5</th>\n",
              "      <td>Maghreb</td>\n",
              "      <td>المغاربية</td>\n",
              "      <td>DZ</td>\n",
              "      <td>Algeria</td>\n",
              "      <td>الجزائر</td>\n",
              "      <td>ANB</td>\n",
              "      <td>Annaba</td>\n",
              "      <td>عنابة</td>\n",
              "    </tr>\n",
              "    <tr>\n",
              "      <th>6</th>\n",
              "      <td>Maghreb</td>\n",
              "      <td>المغاربية</td>\n",
              "      <td>TN</td>\n",
              "      <td>Tunisia</td>\n",
              "      <td>تونس</td>\n",
              "      <td>TUN</td>\n",
              "      <td>Tunis</td>\n",
              "      <td>تونس</td>\n",
              "    </tr>\n",
              "  </tbody>\n",
              "</table>\n",
              "</div>\n",
              "    <div class=\"colab-df-buttons\">\n",
              "\n",
              "  <div class=\"colab-df-container\">\n",
              "    <button class=\"colab-df-convert\" onclick=\"convertToInteractive('df-72e2021c-883d-48ae-8b97-ea7f8493e633')\"\n",
              "            title=\"Convert this dataframe to an interactive table.\"\n",
              "            style=\"display:none;\">\n",
              "\n",
              "  <svg xmlns=\"http://www.w3.org/2000/svg\" height=\"24px\" viewBox=\"0 -960 960 960\">\n",
              "    <path d=\"M120-120v-720h720v720H120Zm60-500h600v-160H180v160Zm220 220h160v-160H400v160Zm0 220h160v-160H400v160ZM180-400h160v-160H180v160Zm440 0h160v-160H620v160ZM180-180h160v-160H180v160Zm440 0h160v-160H620v160Z\"/>\n",
              "  </svg>\n",
              "    </button>\n",
              "\n",
              "  <style>\n",
              "    .colab-df-container {\n",
              "      display:flex;\n",
              "      gap: 12px;\n",
              "    }\n",
              "\n",
              "    .colab-df-convert {\n",
              "      background-color: #E8F0FE;\n",
              "      border: none;\n",
              "      border-radius: 50%;\n",
              "      cursor: pointer;\n",
              "      display: none;\n",
              "      fill: #1967D2;\n",
              "      height: 32px;\n",
              "      padding: 0 0 0 0;\n",
              "      width: 32px;\n",
              "    }\n",
              "\n",
              "    .colab-df-convert:hover {\n",
              "      background-color: #E2EBFA;\n",
              "      box-shadow: 0px 1px 2px rgba(60, 64, 67, 0.3), 0px 1px 3px 1px rgba(60, 64, 67, 0.15);\n",
              "      fill: #174EA6;\n",
              "    }\n",
              "\n",
              "    .colab-df-buttons div {\n",
              "      margin-bottom: 4px;\n",
              "    }\n",
              "\n",
              "    [theme=dark] .colab-df-convert {\n",
              "      background-color: #3B4455;\n",
              "      fill: #D2E3FC;\n",
              "    }\n",
              "\n",
              "    [theme=dark] .colab-df-convert:hover {\n",
              "      background-color: #434B5C;\n",
              "      box-shadow: 0px 1px 3px 1px rgba(0, 0, 0, 0.15);\n",
              "      filter: drop-shadow(0px 1px 2px rgba(0, 0, 0, 0.3));\n",
              "      fill: #FFFFFF;\n",
              "    }\n",
              "  </style>\n",
              "\n",
              "    <script>\n",
              "      const buttonEl =\n",
              "        document.querySelector('#df-72e2021c-883d-48ae-8b97-ea7f8493e633 button.colab-df-convert');\n",
              "      buttonEl.style.display =\n",
              "        google.colab.kernel.accessAllowed ? 'block' : 'none';\n",
              "\n",
              "      async function convertToInteractive(key) {\n",
              "        const element = document.querySelector('#df-72e2021c-883d-48ae-8b97-ea7f8493e633');\n",
              "        const dataTable =\n",
              "          await google.colab.kernel.invokeFunction('convertToInteractive',\n",
              "                                                    [key], {});\n",
              "        if (!dataTable) return;\n",
              "\n",
              "        const docLinkHtml = 'Like what you see? Visit the ' +\n",
              "          '<a target=\"_blank\" href=https://colab.research.google.com/notebooks/data_table.ipynb>data table notebook</a>'\n",
              "          + ' to learn more about interactive tables.';\n",
              "        element.innerHTML = '';\n",
              "        dataTable['output_type'] = 'display_data';\n",
              "        await google.colab.output.renderOutput(dataTable, element);\n",
              "        const docLink = document.createElement('div');\n",
              "        docLink.innerHTML = docLinkHtml;\n",
              "        element.appendChild(docLink);\n",
              "      }\n",
              "    </script>\n",
              "  </div>\n",
              "\n",
              "\n",
              "<div id=\"df-0885fa25-49f2-41d7-a946-f8479f0c9bf5\">\n",
              "  <button class=\"colab-df-quickchart\" onclick=\"quickchart('df-0885fa25-49f2-41d7-a946-f8479f0c9bf5')\"\n",
              "            title=\"Suggest charts\"\n",
              "            style=\"display:none;\">\n",
              "\n",
              "<svg xmlns=\"http://www.w3.org/2000/svg\" height=\"24px\"viewBox=\"0 0 24 24\"\n",
              "     width=\"24px\">\n",
              "    <g>\n",
              "        <path d=\"M19 3H5c-1.1 0-2 .9-2 2v14c0 1.1.9 2 2 2h14c1.1 0 2-.9 2-2V5c0-1.1-.9-2-2-2zM9 17H7v-7h2v7zm4 0h-2V7h2v10zm4 0h-2v-4h2v4z\"/>\n",
              "    </g>\n",
              "</svg>\n",
              "  </button>\n",
              "\n",
              "<style>\n",
              "  .colab-df-quickchart {\n",
              "      --bg-color: #E8F0FE;\n",
              "      --fill-color: #1967D2;\n",
              "      --hover-bg-color: #E2EBFA;\n",
              "      --hover-fill-color: #174EA6;\n",
              "      --disabled-fill-color: #AAA;\n",
              "      --disabled-bg-color: #DDD;\n",
              "  }\n",
              "\n",
              "  [theme=dark] .colab-df-quickchart {\n",
              "      --bg-color: #3B4455;\n",
              "      --fill-color: #D2E3FC;\n",
              "      --hover-bg-color: #434B5C;\n",
              "      --hover-fill-color: #FFFFFF;\n",
              "      --disabled-bg-color: #3B4455;\n",
              "      --disabled-fill-color: #666;\n",
              "  }\n",
              "\n",
              "  .colab-df-quickchart {\n",
              "    background-color: var(--bg-color);\n",
              "    border: none;\n",
              "    border-radius: 50%;\n",
              "    cursor: pointer;\n",
              "    display: none;\n",
              "    fill: var(--fill-color);\n",
              "    height: 32px;\n",
              "    padding: 0;\n",
              "    width: 32px;\n",
              "  }\n",
              "\n",
              "  .colab-df-quickchart:hover {\n",
              "    background-color: var(--hover-bg-color);\n",
              "    box-shadow: 0 1px 2px rgba(60, 64, 67, 0.3), 0 1px 3px 1px rgba(60, 64, 67, 0.15);\n",
              "    fill: var(--button-hover-fill-color);\n",
              "  }\n",
              "\n",
              "  .colab-df-quickchart-complete:disabled,\n",
              "  .colab-df-quickchart-complete:disabled:hover {\n",
              "    background-color: var(--disabled-bg-color);\n",
              "    fill: var(--disabled-fill-color);\n",
              "    box-shadow: none;\n",
              "  }\n",
              "\n",
              "  .colab-df-spinner {\n",
              "    border: 2px solid var(--fill-color);\n",
              "    border-color: transparent;\n",
              "    border-bottom-color: var(--fill-color);\n",
              "    animation:\n",
              "      spin 1s steps(1) infinite;\n",
              "  }\n",
              "\n",
              "  @keyframes spin {\n",
              "    0% {\n",
              "      border-color: transparent;\n",
              "      border-bottom-color: var(--fill-color);\n",
              "      border-left-color: var(--fill-color);\n",
              "    }\n",
              "    20% {\n",
              "      border-color: transparent;\n",
              "      border-left-color: var(--fill-color);\n",
              "      border-top-color: var(--fill-color);\n",
              "    }\n",
              "    30% {\n",
              "      border-color: transparent;\n",
              "      border-left-color: var(--fill-color);\n",
              "      border-top-color: var(--fill-color);\n",
              "      border-right-color: var(--fill-color);\n",
              "    }\n",
              "    40% {\n",
              "      border-color: transparent;\n",
              "      border-right-color: var(--fill-color);\n",
              "      border-top-color: var(--fill-color);\n",
              "    }\n",
              "    60% {\n",
              "      border-color: transparent;\n",
              "      border-right-color: var(--fill-color);\n",
              "    }\n",
              "    80% {\n",
              "      border-color: transparent;\n",
              "      border-right-color: var(--fill-color);\n",
              "      border-bottom-color: var(--fill-color);\n",
              "    }\n",
              "    90% {\n",
              "      border-color: transparent;\n",
              "      border-bottom-color: var(--fill-color);\n",
              "    }\n",
              "  }\n",
              "</style>\n",
              "\n",
              "  <script>\n",
              "    async function quickchart(key) {\n",
              "      const quickchartButtonEl =\n",
              "        document.querySelector('#' + key + ' button');\n",
              "      quickchartButtonEl.disabled = true;  // To prevent multiple clicks.\n",
              "      quickchartButtonEl.classList.add('colab-df-spinner');\n",
              "      try {\n",
              "        const charts = await google.colab.kernel.invokeFunction(\n",
              "            'suggestCharts', [key], {});\n",
              "      } catch (error) {\n",
              "        console.error('Error during call to suggestCharts:', error);\n",
              "      }\n",
              "      quickchartButtonEl.classList.remove('colab-df-spinner');\n",
              "      quickchartButtonEl.classList.add('colab-df-quickchart-complete');\n",
              "    }\n",
              "    (() => {\n",
              "      let quickchartButtonEl =\n",
              "        document.querySelector('#df-0885fa25-49f2-41d7-a946-f8479f0c9bf5 button');\n",
              "      quickchartButtonEl.style.display =\n",
              "        google.colab.kernel.accessAllowed ? 'block' : 'none';\n",
              "    })();\n",
              "  </script>\n",
              "</div>\n",
              "\n",
              "    </div>\n",
              "  </div>\n"
            ],
            "application/vnd.google.colaboratory.intrinsic+json": {
              "type": "dataframe",
              "variable_name": "class_criteria_df",
              "summary": "{\n  \"name\": \"class_criteria_df\",\n  \"rows\": 31,\n  \"fields\": [\n    {\n      \"column\": \"Region\",\n      \"properties\": {\n        \"dtype\": \"category\",\n        \"num_unique_values\": 7,\n        \"samples\": [\n          \"Maghreb\",\n          \"Nile_Basin\",\n          \"Yemen\"\n        ],\n        \"semantic_type\": \"\",\n        \"description\": \"\"\n      }\n    },\n    {\n      \"column\": \"Unnamed: 2\",\n      \"properties\": {\n        \"dtype\": \"category\",\n        \"num_unique_values\": 6,\n        \"samples\": [\n          \"\\u0627\\u0644\\u0645\\u063a\\u0627\\u0631\\u0628\\u064a\\u0629\",\n          \"\\u062d\\u0648\\u0636 \\u0627\\u0644\\u0646\\u064a\\u0644\",\n          \"\\u0641\\u0635\\u062d\\u0649\"\n        ],\n        \"semantic_type\": \"\",\n        \"description\": \"\"\n      }\n    },\n    {\n      \"column\": \"Unnamed: 3\",\n      \"properties\": {\n        \"dtype\": \"string\",\n        \"num_unique_values\": 19,\n        \"samples\": [\n          \"MA\",\n          \"SD\",\n          \"QA\"\n        ],\n        \"semantic_type\": \"\",\n        \"description\": \"\"\n      }\n    },\n    {\n      \"column\": \"Country\",\n      \"properties\": {\n        \"dtype\": \"string\",\n        \"num_unique_values\": 19,\n        \"samples\": [\n          \"Morocco\",\n          \"Sudan\",\n          \"Qatar\"\n        ],\n        \"semantic_type\": \"\",\n        \"description\": \"\"\n      }\n    },\n    {\n      \"column\": \"Unnamed: 5\",\n      \"properties\": {\n        \"dtype\": \"string\",\n        \"num_unique_values\": 19,\n        \"samples\": [\n          \"\\u0627\\u0644\\u0645\\u063a\\u0631\\u0628\",\n          \"\\u0627\\u0644\\u0633\\u0648\\u062f\\u0627\\u0646\",\n          \"\\u0642\\u0637\\u0631\"\n        ],\n        \"semantic_type\": \"\",\n        \"description\": \"\"\n      }\n    },\n    {\n      \"column\": \"Unnamed: 6\",\n      \"properties\": {\n        \"dtype\": \"string\",\n        \"num_unique_values\": 28,\n        \"samples\": [\n          \"ALX\",\n          \"JED\",\n          \"CAI\"\n        ],\n        \"semantic_type\": \"\",\n        \"description\": \"\"\n      }\n    },\n    {\n      \"column\": \"City\",\n      \"properties\": {\n        \"dtype\": \"string\",\n        \"num_unique_values\": 28,\n        \"samples\": [\n          \"Alexandria\",\n          \"Jeddah\",\n          \"Cairo\"\n        ],\n        \"semantic_type\": \"\",\n        \"description\": \"\"\n      }\n    },\n    {\n      \"column\": \"Unnamed: 8\",\n      \"properties\": {\n        \"dtype\": \"string\",\n        \"num_unique_values\": 28,\n        \"samples\": [\n          \"\\u0627\\u0644\\u0627\\u0633\\u0643\\u0646\\u062f\\u0631\\u064a\\u0629\",\n          \"\\u062c\\u062f\\u0629\",\n          \"\\u0627\\u0644\\u0642\\u0627\\u0647\\u0631\\u0629\"\n        ],\n        \"semantic_type\": \"\",\n        \"description\": \"\"\n      }\n    }\n  ]\n}"
            }
          },
          "metadata": {},
          "execution_count": 42
        }
      ],
      "source": [
        "class_criteria_df=pd.read_csv(\"/content/nlp_hw/dialect_name_unification.csv\")\n",
        "class_criteria_df = class_criteria_df.drop(labels = [\"Unnamed: 0\"], axis = 1)\n",
        "class_criteria_df=class_criteria_df.drop(index=[0,1],axis=0)\n",
        "class_criteria_df.head()"
      ]
    },
    {
      "cell_type": "code",
      "execution_count": 43,
      "metadata": {
        "tags": [],
        "id": "C7dwutrlRdPP",
        "colab": {
          "base_uri": "https://localhost:8080/"
        },
        "outputId": "716e8462-0c12-416c-e91f-e299e5220ced"
      },
      "outputs": [
        {
          "output_type": "stream",
          "name": "stdout",
          "text": [
            "number of samples : 112000\n"
          ]
        }
      ],
      "source": [
        "MADAR_df_merged=MADAR_df.merge(class_criteria_df,left_on=\"lang\",right_on=\"Unnamed: 6\",how=\"left\")\n",
        "MADAR_df_merged = MADAR_df_merged.drop(labels = [\"Unnamed: 6\",\"Unnamed: 3\",\"Region\",\"Country\",\"City\"], axis = 1)\n",
        "MADAR_df_merged.rename(columns={\"Unnamed: 5\" :\"Country\",\"Unnamed: 8\" :\"City\",\"Unnamed: 2\" :\"Region\"},inplace=True)\n",
        "MADAR_df_merged=MADAR_df_merged.drop_duplicates().dropna()\n",
        "has_nan=MADAR_df_merged.isna().any().any()\n",
        "# MADAR_df_merged.to_csv(\"dd.csv\",index=False)\n",
        "print(\"number of samples :\",len(MADAR_df_merged))\n",
        "# MADAR_df_merged.head(10)"
      ]
    },
    {
      "cell_type": "code",
      "execution_count": 44,
      "metadata": {
        "id": "wjpkkSQYRdPR",
        "colab": {
          "base_uri": "https://localhost:8080/"
        },
        "outputId": "155a69de-1f83-440e-e7e5-cada55629f51"
      },
      "outputs": [
        {
          "output_type": "stream",
          "name": "stdout",
          "text": [
            "number of samples : 458197\n"
          ]
        }
      ],
      "source": [
        "QADI_df_merged=QADI_df.merge(class_criteria_df,left_on=\"label\",right_on=\"Unnamed: 3\",how=\"left\")\n",
        "QADI_df_merged = QADI_df_merged.drop(labels = [\"Unnamed: 6\",\"Unnamed: 3\",\"Region\",\"Country\",\"City\",\"Unnamed: 8\"], axis = 1)\n",
        "QADI_df_merged.rename(columns={\"text\" :\"sent\",\"Unnamed: 5\" :\"Country\",\"Unnamed: 2\" :\"Region\"},inplace=True)\n",
        "\n",
        "QADI_df_merged=QADI_df_merged.drop_duplicates().dropna()\n",
        "has_nan=QADI_df_merged.isna().any().any()\n",
        "print(\"number of samples :\",len(QADI_df_merged))\n",
        "# QADI_df_merged.head(10)"
      ]
    },
    {
      "cell_type": "markdown",
      "metadata": {
        "id": "rY4IkAEPuceD"
      },
      "source": [
        "## [1.3]"
      ]
    },
    {
      "cell_type": "code",
      "execution_count": 45,
      "metadata": {
        "id": "qhXVRQJF1tvv"
      },
      "outputs": [],
      "source": [
        "excluded_columns = ['sentID.BTEC',\"lang\"]\n",
        "excluded_columns1 = ['id','label']\n",
        "MADAR_df_filtered = MADAR_df_merged.drop(columns=excluded_columns, errors='ignore')\n",
        "QADI_df__filtered = QADI_df_merged.drop(columns=excluded_columns1, errors='ignore')\n",
        "data_df = pd.concat([MADAR_df_filtered, QADI_df__filtered], ignore_index=True)"
      ]
    },
    {
      "cell_type": "code",
      "execution_count": 46,
      "metadata": {
        "id": "RgCuQfiJRdPT",
        "colab": {
          "base_uri": "https://localhost:8080/"
        },
        "outputId": "f068228f-470f-4ccb-8931-b660c7980dc7"
      },
      "outputs": [
        {
          "output_type": "stream",
          "name": "stdout",
          "text": [
            "number of samples : 570197 \n",
            "number of trian samples : 535652 \n",
            "number of vaild samples : 20181\n",
            "number of test samples :14364\n"
          ]
        }
      ],
      "source": [
        "data_trian_df=pd.concat([data_df[data_df['split'] == 'corpus-6-test-corpus-26-train'] ,data_df[data_df['split'] == 'corpus-6-train'],data_df[data_df['split'] == 'trian']])\n",
        "data_vaild_df=pd.concat([data_df[data_df['split'] == 'corpus-6-test-corpus-26-dev'],data_df[data_df['split'] == 'corpus-6-dev'],data_df[data_df['split'] == 'valid']])\n",
        "data_test_df= pd.concat([data_df[data_df['split'] == 'corpus-6-test-corpus-26-test'],data_df[data_df['split'] == 'test']])\n",
        "print(\"number of samples : {} \\nnumber of trian samples : {} \\nnumber of vaild samples : {}\\nnumber of test samples :{}\".format(len(data_df),len(data_trian_df),len(data_vaild_df),len(data_test_df)))"
      ]
    },
    {
      "cell_type": "code",
      "execution_count": 47,
      "metadata": {
        "id": "C468wqkyRdPU",
        "colab": {
          "base_uri": "https://localhost:8080/",
          "height": 363
        },
        "outputId": "e6c72f51-c915-4189-da30-1dba6bc13844"
      },
      "outputs": [
        {
          "output_type": "execute_result",
          "data": {
            "text/plain": [
              "                           split  \\\n",
              "0  corpus-6-test-corpus-26-train   \n",
              "1  corpus-6-test-corpus-26-train   \n",
              "2  corpus-6-test-corpus-26-train   \n",
              "3  corpus-6-test-corpus-26-train   \n",
              "4  corpus-6-test-corpus-26-train   \n",
              "5  corpus-6-test-corpus-26-train   \n",
              "6  corpus-6-test-corpus-26-train   \n",
              "7  corpus-6-test-corpus-26-train   \n",
              "8  corpus-6-test-corpus-26-train   \n",
              "9  corpus-6-test-corpus-26-train   \n",
              "\n",
              "                                              sent Region   Country City  \n",
              "0  شوفه هناك، قدام مكتب المعلومات السياحية بالضبط.  خليجي  السعودية  جدة  \n",
              "1                       ماقد سمعت بدا العنوان هنا.  خليجي  السعودية  جدة  \n",
              "2                 امشي سيدا لين ما تلاقي الصيدلية.  خليجي  السعودية  جدة  \n",
              "3                                      بكم الفطور؟  خليجي  السعودية  جدة  \n",
              "4                                 كيف أقدر اساعدك؟  خليجي  السعودية  جدة  \n",
              "5                    روح يسار عند الزواية الثالثة.  خليجي  السعودية  جدة  \n",
              "6                          تبا كريم وسكر في قهوتك؟  خليجي  السعودية  جدة  \n",
              "7          ممكن تعطيني كاش للشيك دا الميتين دولار؟  خليجي  السعودية  جدة  \n",
              "8                اذا لازم يظهر، اتصل عليا لو سمحت.  خليجي  السعودية  جدة  \n",
              "9                                      فين المقهى؟  خليجي  السعودية  جدة  "
            ],
            "text/html": [
              "\n",
              "  <div id=\"df-99bbfbf1-69ad-4b5c-9dbf-a015da5e0181\" class=\"colab-df-container\">\n",
              "    <div>\n",
              "<style scoped>\n",
              "    .dataframe tbody tr th:only-of-type {\n",
              "        vertical-align: middle;\n",
              "    }\n",
              "\n",
              "    .dataframe tbody tr th {\n",
              "        vertical-align: top;\n",
              "    }\n",
              "\n",
              "    .dataframe thead th {\n",
              "        text-align: right;\n",
              "    }\n",
              "</style>\n",
              "<table border=\"1\" class=\"dataframe\">\n",
              "  <thead>\n",
              "    <tr style=\"text-align: right;\">\n",
              "      <th></th>\n",
              "      <th>split</th>\n",
              "      <th>sent</th>\n",
              "      <th>Region</th>\n",
              "      <th>Country</th>\n",
              "      <th>City</th>\n",
              "    </tr>\n",
              "  </thead>\n",
              "  <tbody>\n",
              "    <tr>\n",
              "      <th>0</th>\n",
              "      <td>corpus-6-test-corpus-26-train</td>\n",
              "      <td>شوفه هناك، قدام مكتب المعلومات السياحية بالضبط.</td>\n",
              "      <td>خليجي</td>\n",
              "      <td>السعودية</td>\n",
              "      <td>جدة</td>\n",
              "    </tr>\n",
              "    <tr>\n",
              "      <th>1</th>\n",
              "      <td>corpus-6-test-corpus-26-train</td>\n",
              "      <td>ماقد سمعت بدا العنوان هنا.</td>\n",
              "      <td>خليجي</td>\n",
              "      <td>السعودية</td>\n",
              "      <td>جدة</td>\n",
              "    </tr>\n",
              "    <tr>\n",
              "      <th>2</th>\n",
              "      <td>corpus-6-test-corpus-26-train</td>\n",
              "      <td>امشي سيدا لين ما تلاقي الصيدلية.</td>\n",
              "      <td>خليجي</td>\n",
              "      <td>السعودية</td>\n",
              "      <td>جدة</td>\n",
              "    </tr>\n",
              "    <tr>\n",
              "      <th>3</th>\n",
              "      <td>corpus-6-test-corpus-26-train</td>\n",
              "      <td>بكم الفطور؟</td>\n",
              "      <td>خليجي</td>\n",
              "      <td>السعودية</td>\n",
              "      <td>جدة</td>\n",
              "    </tr>\n",
              "    <tr>\n",
              "      <th>4</th>\n",
              "      <td>corpus-6-test-corpus-26-train</td>\n",
              "      <td>كيف أقدر اساعدك؟</td>\n",
              "      <td>خليجي</td>\n",
              "      <td>السعودية</td>\n",
              "      <td>جدة</td>\n",
              "    </tr>\n",
              "    <tr>\n",
              "      <th>5</th>\n",
              "      <td>corpus-6-test-corpus-26-train</td>\n",
              "      <td>روح يسار عند الزواية الثالثة.</td>\n",
              "      <td>خليجي</td>\n",
              "      <td>السعودية</td>\n",
              "      <td>جدة</td>\n",
              "    </tr>\n",
              "    <tr>\n",
              "      <th>6</th>\n",
              "      <td>corpus-6-test-corpus-26-train</td>\n",
              "      <td>تبا كريم وسكر في قهوتك؟</td>\n",
              "      <td>خليجي</td>\n",
              "      <td>السعودية</td>\n",
              "      <td>جدة</td>\n",
              "    </tr>\n",
              "    <tr>\n",
              "      <th>7</th>\n",
              "      <td>corpus-6-test-corpus-26-train</td>\n",
              "      <td>ممكن تعطيني كاش للشيك دا الميتين دولار؟</td>\n",
              "      <td>خليجي</td>\n",
              "      <td>السعودية</td>\n",
              "      <td>جدة</td>\n",
              "    </tr>\n",
              "    <tr>\n",
              "      <th>8</th>\n",
              "      <td>corpus-6-test-corpus-26-train</td>\n",
              "      <td>اذا لازم يظهر، اتصل عليا لو سمحت.</td>\n",
              "      <td>خليجي</td>\n",
              "      <td>السعودية</td>\n",
              "      <td>جدة</td>\n",
              "    </tr>\n",
              "    <tr>\n",
              "      <th>9</th>\n",
              "      <td>corpus-6-test-corpus-26-train</td>\n",
              "      <td>فين المقهى؟</td>\n",
              "      <td>خليجي</td>\n",
              "      <td>السعودية</td>\n",
              "      <td>جدة</td>\n",
              "    </tr>\n",
              "  </tbody>\n",
              "</table>\n",
              "</div>\n",
              "    <div class=\"colab-df-buttons\">\n",
              "\n",
              "  <div class=\"colab-df-container\">\n",
              "    <button class=\"colab-df-convert\" onclick=\"convertToInteractive('df-99bbfbf1-69ad-4b5c-9dbf-a015da5e0181')\"\n",
              "            title=\"Convert this dataframe to an interactive table.\"\n",
              "            style=\"display:none;\">\n",
              "\n",
              "  <svg xmlns=\"http://www.w3.org/2000/svg\" height=\"24px\" viewBox=\"0 -960 960 960\">\n",
              "    <path d=\"M120-120v-720h720v720H120Zm60-500h600v-160H180v160Zm220 220h160v-160H400v160Zm0 220h160v-160H400v160ZM180-400h160v-160H180v160Zm440 0h160v-160H620v160ZM180-180h160v-160H180v160Zm440 0h160v-160H620v160Z\"/>\n",
              "  </svg>\n",
              "    </button>\n",
              "\n",
              "  <style>\n",
              "    .colab-df-container {\n",
              "      display:flex;\n",
              "      gap: 12px;\n",
              "    }\n",
              "\n",
              "    .colab-df-convert {\n",
              "      background-color: #E8F0FE;\n",
              "      border: none;\n",
              "      border-radius: 50%;\n",
              "      cursor: pointer;\n",
              "      display: none;\n",
              "      fill: #1967D2;\n",
              "      height: 32px;\n",
              "      padding: 0 0 0 0;\n",
              "      width: 32px;\n",
              "    }\n",
              "\n",
              "    .colab-df-convert:hover {\n",
              "      background-color: #E2EBFA;\n",
              "      box-shadow: 0px 1px 2px rgba(60, 64, 67, 0.3), 0px 1px 3px 1px rgba(60, 64, 67, 0.15);\n",
              "      fill: #174EA6;\n",
              "    }\n",
              "\n",
              "    .colab-df-buttons div {\n",
              "      margin-bottom: 4px;\n",
              "    }\n",
              "\n",
              "    [theme=dark] .colab-df-convert {\n",
              "      background-color: #3B4455;\n",
              "      fill: #D2E3FC;\n",
              "    }\n",
              "\n",
              "    [theme=dark] .colab-df-convert:hover {\n",
              "      background-color: #434B5C;\n",
              "      box-shadow: 0px 1px 3px 1px rgba(0, 0, 0, 0.15);\n",
              "      filter: drop-shadow(0px 1px 2px rgba(0, 0, 0, 0.3));\n",
              "      fill: #FFFFFF;\n",
              "    }\n",
              "  </style>\n",
              "\n",
              "    <script>\n",
              "      const buttonEl =\n",
              "        document.querySelector('#df-99bbfbf1-69ad-4b5c-9dbf-a015da5e0181 button.colab-df-convert');\n",
              "      buttonEl.style.display =\n",
              "        google.colab.kernel.accessAllowed ? 'block' : 'none';\n",
              "\n",
              "      async function convertToInteractive(key) {\n",
              "        const element = document.querySelector('#df-99bbfbf1-69ad-4b5c-9dbf-a015da5e0181');\n",
              "        const dataTable =\n",
              "          await google.colab.kernel.invokeFunction('convertToInteractive',\n",
              "                                                    [key], {});\n",
              "        if (!dataTable) return;\n",
              "\n",
              "        const docLinkHtml = 'Like what you see? Visit the ' +\n",
              "          '<a target=\"_blank\" href=https://colab.research.google.com/notebooks/data_table.ipynb>data table notebook</a>'\n",
              "          + ' to learn more about interactive tables.';\n",
              "        element.innerHTML = '';\n",
              "        dataTable['output_type'] = 'display_data';\n",
              "        await google.colab.output.renderOutput(dataTable, element);\n",
              "        const docLink = document.createElement('div');\n",
              "        docLink.innerHTML = docLinkHtml;\n",
              "        element.appendChild(docLink);\n",
              "      }\n",
              "    </script>\n",
              "  </div>\n",
              "\n",
              "\n",
              "<div id=\"df-0222c4b0-4f8f-4e79-979d-fa5cc682c16b\">\n",
              "  <button class=\"colab-df-quickchart\" onclick=\"quickchart('df-0222c4b0-4f8f-4e79-979d-fa5cc682c16b')\"\n",
              "            title=\"Suggest charts\"\n",
              "            style=\"display:none;\">\n",
              "\n",
              "<svg xmlns=\"http://www.w3.org/2000/svg\" height=\"24px\"viewBox=\"0 0 24 24\"\n",
              "     width=\"24px\">\n",
              "    <g>\n",
              "        <path d=\"M19 3H5c-1.1 0-2 .9-2 2v14c0 1.1.9 2 2 2h14c1.1 0 2-.9 2-2V5c0-1.1-.9-2-2-2zM9 17H7v-7h2v7zm4 0h-2V7h2v10zm4 0h-2v-4h2v4z\"/>\n",
              "    </g>\n",
              "</svg>\n",
              "  </button>\n",
              "\n",
              "<style>\n",
              "  .colab-df-quickchart {\n",
              "      --bg-color: #E8F0FE;\n",
              "      --fill-color: #1967D2;\n",
              "      --hover-bg-color: #E2EBFA;\n",
              "      --hover-fill-color: #174EA6;\n",
              "      --disabled-fill-color: #AAA;\n",
              "      --disabled-bg-color: #DDD;\n",
              "  }\n",
              "\n",
              "  [theme=dark] .colab-df-quickchart {\n",
              "      --bg-color: #3B4455;\n",
              "      --fill-color: #D2E3FC;\n",
              "      --hover-bg-color: #434B5C;\n",
              "      --hover-fill-color: #FFFFFF;\n",
              "      --disabled-bg-color: #3B4455;\n",
              "      --disabled-fill-color: #666;\n",
              "  }\n",
              "\n",
              "  .colab-df-quickchart {\n",
              "    background-color: var(--bg-color);\n",
              "    border: none;\n",
              "    border-radius: 50%;\n",
              "    cursor: pointer;\n",
              "    display: none;\n",
              "    fill: var(--fill-color);\n",
              "    height: 32px;\n",
              "    padding: 0;\n",
              "    width: 32px;\n",
              "  }\n",
              "\n",
              "  .colab-df-quickchart:hover {\n",
              "    background-color: var(--hover-bg-color);\n",
              "    box-shadow: 0 1px 2px rgba(60, 64, 67, 0.3), 0 1px 3px 1px rgba(60, 64, 67, 0.15);\n",
              "    fill: var(--button-hover-fill-color);\n",
              "  }\n",
              "\n",
              "  .colab-df-quickchart-complete:disabled,\n",
              "  .colab-df-quickchart-complete:disabled:hover {\n",
              "    background-color: var(--disabled-bg-color);\n",
              "    fill: var(--disabled-fill-color);\n",
              "    box-shadow: none;\n",
              "  }\n",
              "\n",
              "  .colab-df-spinner {\n",
              "    border: 2px solid var(--fill-color);\n",
              "    border-color: transparent;\n",
              "    border-bottom-color: var(--fill-color);\n",
              "    animation:\n",
              "      spin 1s steps(1) infinite;\n",
              "  }\n",
              "\n",
              "  @keyframes spin {\n",
              "    0% {\n",
              "      border-color: transparent;\n",
              "      border-bottom-color: var(--fill-color);\n",
              "      border-left-color: var(--fill-color);\n",
              "    }\n",
              "    20% {\n",
              "      border-color: transparent;\n",
              "      border-left-color: var(--fill-color);\n",
              "      border-top-color: var(--fill-color);\n",
              "    }\n",
              "    30% {\n",
              "      border-color: transparent;\n",
              "      border-left-color: var(--fill-color);\n",
              "      border-top-color: var(--fill-color);\n",
              "      border-right-color: var(--fill-color);\n",
              "    }\n",
              "    40% {\n",
              "      border-color: transparent;\n",
              "      border-right-color: var(--fill-color);\n",
              "      border-top-color: var(--fill-color);\n",
              "    }\n",
              "    60% {\n",
              "      border-color: transparent;\n",
              "      border-right-color: var(--fill-color);\n",
              "    }\n",
              "    80% {\n",
              "      border-color: transparent;\n",
              "      border-right-color: var(--fill-color);\n",
              "      border-bottom-color: var(--fill-color);\n",
              "    }\n",
              "    90% {\n",
              "      border-color: transparent;\n",
              "      border-bottom-color: var(--fill-color);\n",
              "    }\n",
              "  }\n",
              "</style>\n",
              "\n",
              "  <script>\n",
              "    async function quickchart(key) {\n",
              "      const quickchartButtonEl =\n",
              "        document.querySelector('#' + key + ' button');\n",
              "      quickchartButtonEl.disabled = true;  // To prevent multiple clicks.\n",
              "      quickchartButtonEl.classList.add('colab-df-spinner');\n",
              "      try {\n",
              "        const charts = await google.colab.kernel.invokeFunction(\n",
              "            'suggestCharts', [key], {});\n",
              "      } catch (error) {\n",
              "        console.error('Error during call to suggestCharts:', error);\n",
              "      }\n",
              "      quickchartButtonEl.classList.remove('colab-df-spinner');\n",
              "      quickchartButtonEl.classList.add('colab-df-quickchart-complete');\n",
              "    }\n",
              "    (() => {\n",
              "      let quickchartButtonEl =\n",
              "        document.querySelector('#df-0222c4b0-4f8f-4e79-979d-fa5cc682c16b button');\n",
              "      quickchartButtonEl.style.display =\n",
              "        google.colab.kernel.accessAllowed ? 'block' : 'none';\n",
              "    })();\n",
              "  </script>\n",
              "</div>\n",
              "\n",
              "    </div>\n",
              "  </div>\n"
            ],
            "application/vnd.google.colaboratory.intrinsic+json": {
              "type": "dataframe",
              "variable_name": "data_df"
            }
          },
          "metadata": {},
          "execution_count": 47
        }
      ],
      "source": [
        "data_df.head(10)"
      ]
    },
    {
      "cell_type": "markdown",
      "metadata": {
        "id": "2f22713d"
      },
      "source": [
        "# مهمة 02 : فهم وتحليل البيانات\n",
        "\n",
        "EDA"
      ]
    },
    {
      "cell_type": "markdown",
      "metadata": {
        "id": "03ef90d1"
      },
      "source": [
        "## [2.1]\n"
      ]
    },
    {
      "cell_type": "code",
      "execution_count": 48,
      "metadata": {
        "id": "c1b8c64b",
        "colab": {
          "base_uri": "https://localhost:8080/",
          "height": 829
        },
        "outputId": "569c5f11-aad1-4d39-f266-6c98ee262758"
      },
      "outputs": [
        {
          "output_type": "display_data",
          "data": {
            "text/plain": [
              "<Figure size 1000x1000 with 1 Axes>"
            ],
            "image/png": "[encoded data removed]"
          },
          "metadata": {}
        }
      ],
      "source": [
        "city_counts = data_trian_df.groupby('City')['sent'].count()\n",
        "city_counts = city_counts.sort_values(ascending=False)\n",
        "reshaped_labels= [get_display(arabic_reshaper.reshape(city)) for city in city_counts.index]\n",
        "plt.figure(figsize=(10, 10))\n",
        "plt.pie(city_counts, labels=reshaped_labels, autopct='%1.1f%%', startangle=140)\n",
        "plt.title(\"number of texts in each dialect for the cities\")\n",
        "plt.show()"
      ]
    },
    {
      "cell_type": "code",
      "execution_count": 49,
      "metadata": {
        "id": "JbGt-YXRRdPX",
        "colab": {
          "base_uri": "https://localhost:8080/",
          "height": 675
        },
        "outputId": "ca003d90-2bdb-43d7-ef75-3919e5818f24"
      },
      "outputs": [
        {
          "output_type": "display_data",
          "data": {
            "text/plain": [
              "<Figure size 800x800 with 1 Axes>"
            ],
            "image/png": "[encoded data removed]"
          },
          "metadata": {}
        }
      ],
      "source": [
        "country_counts = data_trian_df.groupby('Country')['sent'].count()\n",
        "country_counts = country_counts.sort_values(ascending=False)\n",
        "reshaped_labels= [get_display(arabic_reshaper.reshape(country)) for country in country_counts.index]\n",
        "plt.figure(figsize=(8, 8))\n",
        "plt.pie(country_counts, labels=reshaped_labels, autopct='%1.1f%%', startangle=140)\n",
        "plt.title(\"number of texts in each dialect for the Countries\")\n",
        "plt.show()"
      ]
    },
    {
      "cell_type": "code",
      "execution_count": 50,
      "metadata": {
        "id": "vteyepusRdPY",
        "colab": {
          "base_uri": "https://localhost:8080/",
          "height": 675
        },
        "outputId": "807027c4-9813-47bc-d7d5-f01f882878a7"
      },
      "outputs": [
        {
          "output_type": "display_data",
          "data": {
            "text/plain": [
              "<Figure size 800x800 with 1 Axes>"
            ],
            "image/png": "[encoded data removed]"
          },
          "metadata": {}
        }
      ],
      "source": [
        "region_counts = data_trian_df.groupby('Region')['sent'].count()\n",
        "region_counts = region_counts.sort_values(ascending=False)\n",
        "reshaped_labels= [get_display(arabic_reshaper.reshape(region)) for region in region_counts.index]\n",
        "plt.figure(figsize=(8, 8))\n",
        "plt.pie(region_counts, labels=reshaped_labels, autopct='%1.1f%%', startangle=140)\n",
        "plt.title(\"number of texts in each dialect for the Regions\")\n",
        "plt.show()"
      ]
    },
    {
      "cell_type": "markdown",
      "metadata": {
        "id": "dt7wHQQMRdPZ"
      },
      "source": [
        "<div dir=\"rtl\">\n",
        "ملاحظات :<br>\n",
        "حسب المناطق (regions):<br>\n",
        "- المنطقة الخليجية (glof) تحتوي اكبر نسبة من النصوص في مجموعة البيانات 34.3% .<br>\n",
        "-هناك نقص بالبيانات التي تمثل منطقة اليمني (yemen) في الداتا .<br>\n",
        "-المنطقة المغربيّة ومنطقة حوض النيل لديها نسب متقاربة بعدد النصوص ضمن الداتا .<br>\n",
        "حسب البلاد (countries):<br>\n",
        "- بلد ليبيا هي الاكثر مساهمة بعدد النصوص ضمن المنطقة المغاربيية ،اما في منطقة حوض النيل فعد النصوص من بلد مصر هي الاكثر ،وفي المنطقة الشاميية تعد النصوص من اللبنان وفلسطين الاكثر عددا ،واخيرا في المنطقة الخليجية العدد الاكبر من النصوص يوجد في بلد الكويت وقطر .<br>\n",
        "- بلد الجزائر وعمان يملكان عددا صغيرا من النصوص على الرغم من انتماءهم الى منطقتين بعدد نصوص كبير نسبيا .<br>\n",
        "حسب المدن (cities) <br>\n",
        "-النصوص ليست موزعة بالتساوي بين المدن حيث يوجد ٥ دول فقط بعدد نصوص اكبر اما بقية المدن فعدد النصوص فيها صغير .<br>\n",
        "مما سبق وجدنا ان البيانات تظهر تركيزا في عدد قليل من المدن مما يشير الى توزع غير متساو .<br>\n",
        "الاحظ ايضا ان البيانات في داتا مدار غير متوازنة فقد ظهر ذلك في تمثل عدد النصوص لكل مدينة بينما كان هناك توازن نوعا ما عند تمثيل عدد النصوص على  مستوى البلاد او المناطق حيث ان داتا كادي متوازنة نوعا ما لذلك عند اضافتها مع مدار قل عدم توازن البيانات بشكل ملحوظ  <br>\n",
        "</div>"
      ]
    },
    {
      "cell_type": "code",
      "execution_count": 51,
      "metadata": {
        "id": "BaGM7BkZRdPa"
      },
      "outputs": [],
      "source": [
        "# city_counts1 = data_trian_df.groupby('City')['sent'].count()\n",
        "# city_counts2 = data_trian_df.groupby('Country')['sent'].count()\n",
        "# city_counts3 = data_trian_df.groupby('Region')['sent'].count()\n",
        "\n",
        "# fig, axes = plt.subplots(1, 3, figsize=(16, 8))\n",
        "\n",
        "# axes[0].pie(city_counts1, labels=city_counts1.index, autopct='%1.1f%%', startangle=140)\n",
        "# axes[0].set_title(\"number of texts in each dialect for the cities\")\n",
        "\n",
        "# axes[1].pie(city_counts2, labels=city_counts2.index, autopct='%1.1f%%', startangle=140)\n",
        "# axes[1].set_title(\"number of texts in each dialect for the Countries\")\n",
        "\n",
        "# axes[2].pie(city_counts3, labels=city_counts3.index, autopct='%1.1f%%', startangle=140)\n",
        "# axes[2].set_title(\"number of texts in each dialect for the Regions\")\n",
        "# plt.tight_layout()\n",
        "# plt.show()"
      ]
    },
    {
      "cell_type": "markdown",
      "metadata": {
        "id": "24164796"
      },
      "source": [
        "## [2.2]"
      ]
    },
    {
      "cell_type": "code",
      "execution_count": 52,
      "metadata": {
        "id": "Z4c4zvp2RdPc",
        "colab": {
          "base_uri": "https://localhost:8080/"
        },
        "outputId": "29efa78f-2161-4ba0-c74c-5a5239cdeb44"
      },
      "outputs": [
        {
          "output_type": "stream",
          "name": "stdout",
          "text": [
            "عدد الكلمات الكلي (Total Tokens): 6308593\n",
            "عدد الكلمات الفريدة (Vocab Tokens): 488355\n"
          ]
        }
      ],
      "source": [
        "def tokenize_arabic_only(text):\n",
        "    tokens = wordpunct_tokenize(text)\n",
        "    arabic_tokens = [token for token in tokens if regex.match(r\"^\\p{IsArabic}+$\", token)]\n",
        "    return arabic_tokens\n",
        "\n",
        "data_trian_df['tokens'] = data_trian_df['sent'].apply(tokenize_arabic_only)\n",
        "\n",
        "all_tokens = [token for tokens_list in data_trian_df['tokens'] for token in tokens_list]\n",
        "total_tokens = len(all_tokens)\n",
        "unique_tokens = len(set(all_tokens))\n",
        "\n",
        "print(f\"عدد الكلمات الكلي (Total Tokens): {total_tokens}\")\n",
        "print(f\"عدد الكلمات الفريدة (Vocab Tokens): {unique_tokens}\")\n"
      ]
    },
    {
      "cell_type": "code",
      "execution_count": 53,
      "metadata": {
        "id": "pJZ0DAfPRdPd",
        "colab": {
          "base_uri": "https://localhost:8080/",
          "height": 206
        },
        "outputId": "0e5f794f-ec8e-4819-ee51-aed6e6e57030"
      },
      "outputs": [
        {
          "output_type": "execute_result",
          "data": {
            "text/plain": [
              "                           split  \\\n",
              "0  corpus-6-test-corpus-26-train   \n",
              "1  corpus-6-test-corpus-26-train   \n",
              "2  corpus-6-test-corpus-26-train   \n",
              "3  corpus-6-test-corpus-26-train   \n",
              "4  corpus-6-test-corpus-26-train   \n",
              "\n",
              "                                              sent Region   Country City  \\\n",
              "0  شوفه هناك، قدام مكتب المعلومات السياحية بالضبط.  خليجي  السعودية  جدة   \n",
              "1                       ماقد سمعت بدا العنوان هنا.  خليجي  السعودية  جدة   \n",
              "2                 امشي سيدا لين ما تلاقي الصيدلية.  خليجي  السعودية  جدة   \n",
              "3                                      بكم الفطور؟  خليجي  السعودية  جدة   \n",
              "4                                 كيف أقدر اساعدك؟  خليجي  السعودية  جدة   \n",
              "\n",
              "                                              tokens  \n",
              "0  [شوفه, هناك, قدام, مكتب, المعلومات, السياحية, ...  \n",
              "1                    [ماقد, سمعت, بدا, العنوان, هنا]  \n",
              "2             [امشي, سيدا, لين, ما, تلاقي, الصيدلية]  \n",
              "3                                      [بكم, الفطور]  \n",
              "4                                [كيف, أقدر, اساعدك]  "
            ],
            "text/html": [
              "\n",
              "  <div id=\"df-fbda8559-f6a2-4f2e-ba6a-ac2120feb9c7\" class=\"colab-df-container\">\n",
              "    <div>\n",
              "<style scoped>\n",
              "    .dataframe tbody tr th:only-of-type {\n",
              "        vertical-align: middle;\n",
              "    }\n",
              "\n",
              "    .dataframe tbody tr th {\n",
              "        vertical-align: top;\n",
              "    }\n",
              "\n",
              "    .dataframe thead th {\n",
              "        text-align: right;\n",
              "    }\n",
              "</style>\n",
              "<table border=\"1\" class=\"dataframe\">\n",
              "  <thead>\n",
              "    <tr style=\"text-align: right;\">\n",
              "      <th></th>\n",
              "      <th>split</th>\n",
              "      <th>sent</th>\n",
              "      <th>Region</th>\n",
              "      <th>Country</th>\n",
              "      <th>City</th>\n",
              "      <th>tokens</th>\n",
              "    </tr>\n",
              "  </thead>\n",
              "  <tbody>\n",
              "    <tr>\n",
              "      <th>0</th>\n",
              "      <td>corpus-6-test-corpus-26-train</td>\n",
              "      <td>شوفه هناك، قدام مكتب المعلومات السياحية بالضبط.</td>\n",
              "      <td>خليجي</td>\n",
              "      <td>السعودية</td>\n",
              "      <td>جدة</td>\n",
              "      <td>[شوفه, هناك, قدام, مكتب, المعلومات, السياحية, ...</td>\n",
              "    </tr>\n",
              "    <tr>\n",
              "      <th>1</th>\n",
              "      <td>corpus-6-test-corpus-26-train</td>\n",
              "      <td>ماقد سمعت بدا العنوان هنا.</td>\n",
              "      <td>خليجي</td>\n",
              "      <td>السعودية</td>\n",
              "      <td>جدة</td>\n",
              "      <td>[ماقد, سمعت, بدا, العنوان, هنا]</td>\n",
              "    </tr>\n",
              "    <tr>\n",
              "      <th>2</th>\n",
              "      <td>corpus-6-test-corpus-26-train</td>\n",
              "      <td>امشي سيدا لين ما تلاقي الصيدلية.</td>\n",
              "      <td>خليجي</td>\n",
              "      <td>السعودية</td>\n",
              "      <td>جدة</td>\n",
              "      <td>[امشي, سيدا, لين, ما, تلاقي, الصيدلية]</td>\n",
              "    </tr>\n",
              "    <tr>\n",
              "      <th>3</th>\n",
              "      <td>corpus-6-test-corpus-26-train</td>\n",
              "      <td>بكم الفطور؟</td>\n",
              "      <td>خليجي</td>\n",
              "      <td>السعودية</td>\n",
              "      <td>جدة</td>\n",
              "      <td>[بكم, الفطور]</td>\n",
              "    </tr>\n",
              "    <tr>\n",
              "      <th>4</th>\n",
              "      <td>corpus-6-test-corpus-26-train</td>\n",
              "      <td>كيف أقدر اساعدك؟</td>\n",
              "      <td>خليجي</td>\n",
              "      <td>السعودية</td>\n",
              "      <td>جدة</td>\n",
              "      <td>[كيف, أقدر, اساعدك]</td>\n",
              "    </tr>\n",
              "  </tbody>\n",
              "</table>\n",
              "</div>\n",
              "    <div class=\"colab-df-buttons\">\n",
              "\n",
              "  <div class=\"colab-df-container\">\n",
              "    <button class=\"colab-df-convert\" onclick=\"convertToInteractive('df-fbda8559-f6a2-4f2e-ba6a-ac2120feb9c7')\"\n",
              "            title=\"Convert this dataframe to an interactive table.\"\n",
              "            style=\"display:none;\">\n",
              "\n",
              "  <svg xmlns=\"http://www.w3.org/2000/svg\" height=\"24px\" viewBox=\"0 -960 960 960\">\n",
              "    <path d=\"M120-120v-720h720v720H120Zm60-500h600v-160H180v160Zm220 220h160v-160H400v160Zm0 220h160v-160H400v160ZM180-400h160v-160H180v160Zm440 0h160v-160H620v160ZM180-180h160v-160H180v160Zm440 0h160v-160H620v160Z\"/>\n",
              "  </svg>\n",
              "    </button>\n",
              "\n",
              "  <style>\n",
              "    .colab-df-container {\n",
              "      display:flex;\n",
              "      gap: 12px;\n",
              "    }\n",
              "\n",
              "    .colab-df-convert {\n",
              "      background-color: #E8F0FE;\n",
              "      border: none;\n",
              "      border-radius: 50%;\n",
              "      cursor: pointer;\n",
              "      display: none;\n",
              "      fill: #1967D2;\n",
              "      height: 32px;\n",
              "      padding: 0 0 0 0;\n",
              "      width: 32px;\n",
              "    }\n",
              "\n",
              "    .colab-df-convert:hover {\n",
              "      background-color: #E2EBFA;\n",
              "      box-shadow: 0px 1px 2px rgba(60, 64, 67, 0.3), 0px 1px 3px 1px rgba(60, 64, 67, 0.15);\n",
              "      fill: #174EA6;\n",
              "    }\n",
              "\n",
              "    .colab-df-buttons div {\n",
              "      margin-bottom: 4px;\n",
              "    }\n",
              "\n",
              "    [theme=dark] .colab-df-convert {\n",
              "      background-color: #3B4455;\n",
              "      fill: #D2E3FC;\n",
              "    }\n",
              "\n",
              "    [theme=dark] .colab-df-convert:hover {\n",
              "      background-color: #434B5C;\n",
              "      box-shadow: 0px 1px 3px 1px rgba(0, 0, 0, 0.15);\n",
              "      filter: drop-shadow(0px 1px 2px rgba(0, 0, 0, 0.3));\n",
              "      fill: #FFFFFF;\n",
              "    }\n",
              "  </style>\n",
              "\n",
              "    <script>\n",
              "      const buttonEl =\n",
              "        document.querySelector('#df-fbda8559-f6a2-4f2e-ba6a-ac2120feb9c7 button.colab-df-convert');\n",
              "      buttonEl.style.display =\n",
              "        google.colab.kernel.accessAllowed ? 'block' : 'none';\n",
              "\n",
              "      async function convertToInteractive(key) {\n",
              "        const element = document.querySelector('#df-fbda8559-f6a2-4f2e-ba6a-ac2120feb9c7');\n",
              "        const dataTable =\n",
              "          await google.colab.kernel.invokeFunction('convertToInteractive',\n",
              "                                                    [key], {});\n",
              "        if (!dataTable) return;\n",
              "\n",
              "        const docLinkHtml = 'Like what you see? Visit the ' +\n",
              "          '<a target=\"_blank\" href=https://colab.research.google.com/notebooks/data_table.ipynb>data table notebook</a>'\n",
              "          + ' to learn more about interactive tables.';\n",
              "        element.innerHTML = '';\n",
              "        dataTable['output_type'] = 'display_data';\n",
              "        await google.colab.output.renderOutput(dataTable, element);\n",
              "        const docLink = document.createElement('div');\n",
              "        docLink.innerHTML = docLinkHtml;\n",
              "        element.appendChild(docLink);\n",
              "      }\n",
              "    </script>\n",
              "  </div>\n",
              "\n",
              "\n",
              "<div id=\"df-e89bf065-dc7a-47bb-94b7-e482328ca408\">\n",
              "  <button class=\"colab-df-quickchart\" onclick=\"quickchart('df-e89bf065-dc7a-47bb-94b7-e482328ca408')\"\n",
              "            title=\"Suggest charts\"\n",
              "            style=\"display:none;\">\n",
              "\n",
              "<svg xmlns=\"http://www.w3.org/2000/svg\" height=\"24px\"viewBox=\"0 0 24 24\"\n",
              "     width=\"24px\">\n",
              "    <g>\n",
              "        <path d=\"M19 3H5c-1.1 0-2 .9-2 2v14c0 1.1.9 2 2 2h14c1.1 0 2-.9 2-2V5c0-1.1-.9-2-2-2zM9 17H7v-7h2v7zm4 0h-2V7h2v10zm4 0h-2v-4h2v4z\"/>\n",
              "    </g>\n",
              "</svg>\n",
              "  </button>\n",
              "\n",
              "<style>\n",
              "  .colab-df-quickchart {\n",
              "      --bg-color: #E8F0FE;\n",
              "      --fill-color: #1967D2;\n",
              "      --hover-bg-color: #E2EBFA;\n",
              "      --hover-fill-color: #174EA6;\n",
              "      --disabled-fill-color: #AAA;\n",
              "      --disabled-bg-color: #DDD;\n",
              "  }\n",
              "\n",
              "  [theme=dark] .colab-df-quickchart {\n",
              "      --bg-color: #3B4455;\n",
              "      --fill-color: #D2E3FC;\n",
              "      --hover-bg-color: #434B5C;\n",
              "      --hover-fill-color: #FFFFFF;\n",
              "      --disabled-bg-color: #3B4455;\n",
              "      --disabled-fill-color: #666;\n",
              "  }\n",
              "\n",
              "  .colab-df-quickchart {\n",
              "    background-color: var(--bg-color);\n",
              "    border: none;\n",
              "    border-radius: 50%;\n",
              "    cursor: pointer;\n",
              "    display: none;\n",
              "    fill: var(--fill-color);\n",
              "    height: 32px;\n",
              "    padding: 0;\n",
              "    width: 32px;\n",
              "  }\n",
              "\n",
              "  .colab-df-quickchart:hover {\n",
              "    background-color: var(--hover-bg-color);\n",
              "    box-shadow: 0 1px 2px rgba(60, 64, 67, 0.3), 0 1px 3px 1px rgba(60, 64, 67, 0.15);\n",
              "    fill: var(--button-hover-fill-color);\n",
              "  }\n",
              "\n",
              "  .colab-df-quickchart-complete:disabled,\n",
              "  .colab-df-quickchart-complete:disabled:hover {\n",
              "    background-color: var(--disabled-bg-color);\n",
              "    fill: var(--disabled-fill-color);\n",
              "    box-shadow: none;\n",
              "  }\n",
              "\n",
              "  .colab-df-spinner {\n",
              "    border: 2px solid var(--fill-color);\n",
              "    border-color: transparent;\n",
              "    border-bottom-color: var(--fill-color);\n",
              "    animation:\n",
              "      spin 1s steps(1) infinite;\n",
              "  }\n",
              "\n",
              "  @keyframes spin {\n",
              "    0% {\n",
              "      border-color: transparent;\n",
              "      border-bottom-color: var(--fill-color);\n",
              "      border-left-color: var(--fill-color);\n",
              "    }\n",
              "    20% {\n",
              "      border-color: transparent;\n",
              "      border-left-color: var(--fill-color);\n",
              "      border-top-color: var(--fill-color);\n",
              "    }\n",
              "    30% {\n",
              "      border-color: transparent;\n",
              "      border-left-color: var(--fill-color);\n",
              "      border-top-color: var(--fill-color);\n",
              "      border-right-color: var(--fill-color);\n",
              "    }\n",
              "    40% {\n",
              "      border-color: transparent;\n",
              "      border-right-color: var(--fill-color);\n",
              "      border-top-color: var(--fill-color);\n",
              "    }\n",
              "    60% {\n",
              "      border-color: transparent;\n",
              "      border-right-color: var(--fill-color);\n",
              "    }\n",
              "    80% {\n",
              "      border-color: transparent;\n",
              "      border-right-color: var(--fill-color);\n",
              "      border-bottom-color: var(--fill-color);\n",
              "    }\n",
              "    90% {\n",
              "      border-color: transparent;\n",
              "      border-bottom-color: var(--fill-color);\n",
              "    }\n",
              "  }\n",
              "</style>\n",
              "\n",
              "  <script>\n",
              "    async function quickchart(key) {\n",
              "      const quickchartButtonEl =\n",
              "        document.querySelector('#' + key + ' button');\n",
              "      quickchartButtonEl.disabled = true;  // To prevent multiple clicks.\n",
              "      quickchartButtonEl.classList.add('colab-df-spinner');\n",
              "      try {\n",
              "        const charts = await google.colab.kernel.invokeFunction(\n",
              "            'suggestCharts', [key], {});\n",
              "      } catch (error) {\n",
              "        console.error('Error during call to suggestCharts:', error);\n",
              "      }\n",
              "      quickchartButtonEl.classList.remove('colab-df-spinner');\n",
              "      quickchartButtonEl.classList.add('colab-df-quickchart-complete');\n",
              "    }\n",
              "    (() => {\n",
              "      let quickchartButtonEl =\n",
              "        document.querySelector('#df-e89bf065-dc7a-47bb-94b7-e482328ca408 button');\n",
              "      quickchartButtonEl.style.display =\n",
              "        google.colab.kernel.accessAllowed ? 'block' : 'none';\n",
              "    })();\n",
              "  </script>\n",
              "</div>\n",
              "\n",
              "    </div>\n",
              "  </div>\n"
            ],
            "application/vnd.google.colaboratory.intrinsic+json": {
              "type": "dataframe",
              "variable_name": "data_trian_df"
            }
          },
          "metadata": {},
          "execution_count": 53
        }
      ],
      "source": [
        "data_trian_df.head()"
      ]
    },
    {
      "cell_type": "markdown",
      "metadata": {
        "id": "KFerFDFqPwPI"
      },
      "source": [
        "## [2.3]"
      ]
    },
    {
      "cell_type": "code",
      "execution_count": 54,
      "metadata": {
        "id": "zU65GmMbP2Sm",
        "colab": {
          "base_uri": "https://localhost:8080/",
          "height": 148
        },
        "outputId": "5650305e-fe01-4f4b-d892-6336dd685c98"
      },
      "outputs": [
        {
          "output_type": "error",
          "ename": "NameError",
          "evalue": "name 'عظ' is not defined",
          "traceback": [
            "\u001b[0;31m---------------------------------------------------------------------------\u001b[0m",
            "\u001b[0;31mNameError\u001b[0m                                 Traceback (most recent call last)",
            "\u001b[0;32m<ipython-input-54-8fd2b25eff8f>\u001b[0m in \u001b[0;36m<cell line: 1>\u001b[0;34m()\u001b[0m\n\u001b[0;32m----> 1\u001b[0;31m \u001b[0mعظ\u001b[0m\u001b[0;34m\u001b[0m\u001b[0;34m\u001b[0m\u001b[0m\n\u001b[0m",
            "\u001b[0;31mNameError\u001b[0m: name 'عظ' is not defined"
          ]
        }
      ],
      "source": [
        "عظ"
      ]
    },
    {
      "cell_type": "code",
      "execution_count": null,
      "metadata": {
        "id": "voz0i2UsRdPh"
      },
      "outputs": [],
      "source": [
        "data = ' '.join(all_tokens)\n",
        "\n",
        "reshaped_text = arabic_reshaper.reshape(data)\n",
        "\n",
        "processed_data = get_display(reshaped_text)\n",
        "\n",
        "wordcloud = WordCloud(\n",
        "    font_path='arial',\n",
        "    background_color='white',\n",
        "    mode='RGB',\n",
        "    width=2000,\n",
        "    height=1000\n",
        ").generate(processed_data)\n",
        "\n",
        "plt.figure(figsize=(20, 10))\n",
        "plt.title(\"WordCloud\")\n",
        "plt.imshow(wordcloud)\n",
        "plt.axis(\"off\")\n",
        "plt.show()\n"
      ]
    },
    {
      "cell_type": "code",
      "execution_count": null,
      "metadata": {
        "id": "Wqvf1UY2RdP3"
      },
      "outputs": [],
      "source": [
        "\n",
        "# plt.figure(figsize=(20, 10))\n",
        "# plt.title(\"WordCloud\")\n",
        "# plt.imshow(wordcloud)\n",
        "# plt.axis(\"off\")\n",
        "# wordcloud_path = \"wordcloud_output.png\"\n",
        "# plt.savefig(wordcloud_path, dpi=300, bbox_inches='tight')\n",
        "# plt.show()\n",
        "# print(f\"تم حفظ الصورة في: {wordcloud_path}\")\n"
      ]
    },
    {
      "cell_type": "code",
      "execution_count": null,
      "metadata": {
        "id": "UD7vBbyQRdP3"
      },
      "outputs": [],
      "source": [
        "img = plt.imread(\"wordcloud_output.png\")\n",
        "plt.figure(figsize=(10, 10))\n",
        "plt.imshow(img)\n",
        "plt.axis(\"off\")\n",
        "plt.show()"
      ]
    },
    {
      "cell_type": "markdown",
      "metadata": {
        "id": "-4LEgCtvPwaQ"
      },
      "source": [
        "## [2.4]"
      ]
    },
    {
      "cell_type": "code",
      "execution_count": 55,
      "metadata": {
        "id": "GT2alNmjRdP5"
      },
      "outputs": [],
      "source": [
        "\n",
        "\n",
        "def get_most_common_words(tokens, n=10):\n",
        "    \"\"\"Return the n most common words.\"\"\"\n",
        "    word_freq = FreqDist(tokens)\n",
        "    return word_freq.most_common(n)\n",
        "\n",
        "def get_hapaxes(tokens, n=10):\n",
        "    \"\"\"Return the first n hapaxes (words that appear only once).\"\"\"\n",
        "    word_freq = FreqDist(tokens)\n",
        "    hapaxes = [word for word in word_freq.hapaxes()]\n",
        "    return hapaxes[:n]\n",
        "\n",
        "def get_most_common_bigrams(tokens, n=10):\n",
        "    \"\"\"Return the n most common bigrams.\"\"\"\n",
        "    bigram_freq = FreqDist(bigrams(tokens))\n",
        "    return bigram_freq.most_common(n)\n",
        "\n",
        "def get_most_common_trigrams(tokens, n=10):\n",
        "    \"\"\"Return the n most common trigrams.\"\"\"\n",
        "    trigram_freq = FreqDist(trigrams(tokens))\n",
        "    return trigram_freq.most_common(n)\n",
        "\n",
        "def get_most_important_bigrams(tokens, n=10):\n",
        "    \"\"\"Return the n most important bigrams using PMI.\"\"\"\n",
        "    bigram_finder = BigramCollocationFinder.from_words(tokens)\n",
        "    bigram_finder.apply_freq_filter(2)\n",
        "    return bigram_finder.nbest(BigramAssocMeasures().pmi, n)\n",
        "\n",
        "def get_most_important_trigrams(tokens, n=10):\n",
        "    \"\"\"Return the n most important trigrams using PMI.\"\"\"\n",
        "    trigram_finder = TrigramCollocationFinder.from_words(tokens)\n",
        "    trigram_finder.apply_freq_filter(2)\n",
        "    return trigram_finder.nbest(TrigramAssocMeasures().pmi, n)\n"
      ]
    },
    {
      "cell_type": "code",
      "execution_count": 56,
      "metadata": {
        "id": "HDy5nPVLRdP6"
      },
      "outputs": [],
      "source": [
        "def analyze_texts(dataframe, column='City', n=10):\n",
        "    \"\"\"Analyze texts and print results for each city.\"\"\"\n",
        "    city_tokens = {}\n",
        "\n",
        "    # تجميع جميع النصوص لكل مدينة\n",
        "    for index, row in dataframe.iterrows():\n",
        "        label = row[column]\n",
        "        tokens = row['tokens']\n",
        "        if pd.isna(label):\n",
        "            continue\n",
        "        if label not in city_tokens:\n",
        "            city_tokens[label] = []\n",
        "        city_tokens[label].extend(tokens)\n",
        "\n",
        "    # تحليل النصوص لكل مدينة\n",
        "    for city, tokens in city_tokens.items():\n",
        "        most_common = get_most_common_words(tokens, n)\n",
        "        hapaxes = get_hapaxes(tokens, n)\n",
        "        most_common_bigrams = get_most_common_bigrams(tokens, n)\n",
        "        most_common_trigrams = get_most_common_trigrams(tokens, n)\n",
        "        most_important_bigrams = get_most_important_bigrams(tokens, n)\n",
        "        most_important_trigrams = get_most_important_trigrams(tokens, n)\n",
        "\n",
        "        # طباعة النتائج لكل مدينة\n",
        "        print(f\"=== Results for {city} ===\")\n",
        "        print(\"Most Common Words: \", ', '.join([f\"{word} ({count})\" for word, count in most_common]))\n",
        "        print(\"Hapaxes: \", ', '.join(hapaxes))\n",
        "        print(\"Most Common Bigrams: \", ', '.join([f\"{' '.join(bigram)} ({count})\" for bigram, count in most_common_bigrams]))\n",
        "        print(\"Most Common Trigrams: \", ', '.join([f\"{' '.join(trigram)} ({count})\" for trigram, count in most_common_trigrams]))\n",
        "        print(\"Most Important Bigrams: \", ', '.join([' '.join(bigram) for bigram in most_important_bigrams]))\n",
        "        print(\"Most Important Trigrams: \", ', '.join([' '.join(trigram) for trigram in most_important_trigrams]))\n",
        "        print(\"=\" * 50)\n"
      ]
    },
    {
      "cell_type": "code",
      "execution_count": 57,
      "metadata": {
        "id": "feLDhboORdP8",
        "colab": {
          "base_uri": "https://localhost:8080/"
        },
        "outputId": "7fd62605-c51c-4ee0-a997-116a4635a295"
      },
      "outputs": [
        {
          "output_type": "stream",
          "name": "stdout",
          "text": [
            "=== Results for جدة ===\n",
            "Most Common Words:  لو (196), سمحت (182), ممكن (152), في (131), أبا (131), من (111), دا (107), على (92), فيه (71), هنا (65)\n",
            "Hapaxes:  شوفه, ماقد, سمعت, بدا, تلاقي, أقدر, الزواية, الثالثة, الميتين, اطفال\n",
            "Most Common Bigrams:  لو سمحت (181), من هنا (21), فيه أي (18), فين اقدر (15), سمحت ممكن (12), قريب من (11), ممكن اخذ (10), احس اني (10), سمحت أبا (9), أي مكان (9)\n",
            "Most Common Trigrams:  لو سمحت ممكن (12), قريب من هنا (10), لو سمحت أبا (9), لو سمحت فين (7), فين اقدر اشتري (6), لو سمحت أيش (6), لو سمحت كم (5), لو سمحت كيف (4), فيه أي مكان (4), لو سمحت انا (4)\n",
            "Most Important Bigrams:  الحي الصيني, الدرجة الثانية, السلم الكهربائي, حديقة الحيوانات, علاج لالم, لوس انجلوس, وول ستريت, اربعة ايام, الفرق بين, اهي فاتورتك\n",
            "Most Important Trigrams:  عنوان التواصل حقك, الخطوط الجوية اليابانية, اشتري ذكرى سنوية, إيه بي سي, اف اف اف, سنة الف وتسعمية, كاش ولا شحن, لف يمين عند, اشتري تذكرة مترو, بعدين لف يسار\n",
            "==================================================\n",
            "=== Results for حلب ===\n",
            "Most Common Words:  إذا (250), سمحت (207), بدي (164), ما (110), من (94), خرج (93), رح (92), في (87), هاد (85), ع (82)\n",
            "Hapaxes:  معلومات, السياح, سمعان, بهالعنوان, كريمة, بقهوتك, تصرفلي, الميتين, الكافيه, اطفال\n",
            "Most Common Bigrams:  إذا سمحت (206), في شي (29), ما عم (12), من هون (12), شكرا إلك (10), سمحت بدي (10), سمحت وين (9), وين بقدر (8), خرج آخد (8), في عنا (7)\n",
            "Most Common Trigrams:  إذا سمحت بدي (10), إذا سمحت وين (9), إذا سمحت اش (7), إذا سمحت خرج (6), إذا سمحت عطيني (6), إذا سمحت شقد (5), إذا سمحت شلون (5), في شي محلات (5), قريب من هون (5), إذا سمحت ما (4)\n",
            "Most Important Bigrams:  التصريح الجمركي, الحي الصيني, بالتوقيت المحلي, بشتغل بشركة, حديقة الحيوانات, عطلة وطنية, فنادق رخيصة, لاس فيغاس, لوس أنجلس, الضريبة وكلفة\n",
            "Most Important Trigrams:  الضريبة وكلفة الخدمة, القطار لحتى أوصل, أدق مكالمة خارجية, انسرقت مني شنتايتي, ينعن ينعن ينعن, عند تالت مفرق, الطرف تبعك عالخط, ايه بي سي, الخطوط الجوية اليابانية, بطاقتين درجة تانية\n",
            "==================================================\n",
            "=== Results for تونس ===\n",
            "Most Common Words:  في (1439), يعيشك (1072), نحب (927), هذا (841), تنجم (615), من (583), و (542), ما (534), على (518), نجم (516)\n",
            "Hapaxes:  اهوكا, بالادريسة, مراسلة, وزايدة, للمراسلة, لبخاص, الصوابع, نحسبوها, اوراقك, تسخنو\n",
            "Most Common Bigrams:  نجم ناخو (131), من هوني (78), يعيشك نحب (66), متاع الصباح (51), تنجم تقلي (45), نحب نمشي (45), وين نجم (44), ياخي نجم (41), نحب نحجز (40), نحب على (40)\n",
            "Most Common Trigrams:  قريب من هوني (19), نحس في روحي (18), صفر صفر صفر (16), وين نجم نلقى (15), في أنا ساعة (14), ايه بي سي (14), تسعة تسعة تسعة (14), عندك أي حاجة (11), تنجم تقلي كيفاش (11), بعد نص النهار (10)\n",
            "Most Important Bigrams:  إلترا فيولي, الإسعافات الأولية, البقري المشوي, التصادم والمسئولية, الصيادة فيشرمانز, شيك شخصي, صور متحركة, غولدن غيت, فيشرمانز وارف, فيما يخص\n",
            "Most Important Trigrams:  التصادم والمسئولية القانونية, الصيادة فيشرمانز وارف, لبرط الصيادة فيشرمانز, بلحم البقري المشوي, فيلتر إلترا فيولي, كسكروت بلحم البقري, انشاله معرفة طيبة, كوكا كولا لايت, البري او البحري, إتسكار لرحلة ركاب\n",
            "==================================================\n",
            "=== Results for صفاقس ===\n",
            "Most Common Words:  في (223), و (162), يعيشك (149), نحب (143), من (125), باش (118), هذا (100), على (96), تنجم (93), ما (78)\n",
            "Hapaxes:  أوكي, الإرشادات, منعرفش, تارى, الفارمسي, النجم, الثالثة, الكريمة, السكر, تصبلي\n",
            "Most Common Bigrams:  من هوني (25), موش هكا (14), انجم ناخذ (14), يعيشك نحب (11), في اما (11), صباح الخير (10), و عشرين (10), و ثلاثين (9), من فضلك (9), خمسة و (8)\n",
            "Most Common Trigrams:  في اما وقت (8), قريبة من هوني (5), عندي وجيعة في (5), ما فما حتى (4), و تسعمية و (4), دور على الليسار (3), صباح الخير شنحوالك (3), تنجم تعاوني باش (3), اربعة و عشرين (3), نحب نكري كرهبة (3)\n",
            "Most Important Bigrams:  ان شاء, بالوقت المحلي, تضيق السروال, حديقة الحيوانات, راس العام, شينو ياماد, طيران يونايتد, الفرق بين, باب الطلوع, تشرفت بمعرفتك\n",
            "Most Important Trigrams:  ان شاء الله, اسمي شينو ياماد, بالصرف والا بالكارطة, جويد جويد جويد, نشري حاجات للذكرى, بلاصة دبش النساء, الماكلة ماهياش داخلة, البيت خمس مية, صباح الخير شنحوالك, نحبوا طاولة بجنب\n",
            "==================================================\n",
            "=== Results for عمّان ===\n",
            "Most Common Words:  لو (222), سمحت (216), هاد (174), ممكن (167), أنا (166), من (157), على (155), بدي (148), راح (129), في (127)\n",
            "Hapaxes:  سمعت, الكريمة, والسكر, تصرفلي, بميتين, كلمني, الكوفي, للبريد, للتوصيل, الخاص\n",
            "Most Common Bigrams:  لو سمحت (215), أنا بدي (18), وين بقدر (18), من هون (17), في أي (16), من وين (14), أنا ما (13), راح يكون (13), سمحت أنا (12), ممكن تحكيلي (12)\n",
            "Most Common Trigrams:  لو سمحت أنا (12), من وين بقدر (10), لو سمحت ممكن (10), لو سمحت بدي (9), لو سمحت أعطيني (8), لو سمحت شو (8), لو سمحت وين (8), قريب من هون (7), لو سمحت كم (6), وين بقدر أشتري (6)\n",
            "Most Important Bigrams:  ألقي نظرة, الوول ستريت, انتبه للحفرة, تمرقلي الملح, جدول المواعيد, حديقة الحيوانات, دير بالك, سعرات حرارية, اشيائي الغالية, الدخلة التالتة\n",
            "Most Important Trigrams:  ساعتي كانت رقمية, بكون عطلة وطنية, ليلة راس السنة, يلعن يلعن يلعن, ضلك ماشي دغري, آخد جدول المواعيد, الخطوط الجوية اليابانية, تبدل الكراسي معي, أشتري هدايا تذكارية, شوية هدايا تذكارية\n",
            "==================================================\n",
            "=== Results for أسوان ===\n",
            "Most Common Words:  ممكن (223), لو (220), ده (212), سمحت (183), في (162), أنا (156), من (152), انا (149), عايز (146), كنت (132)\n",
            "Hapaxes:  ارشادات, عمرى, ماسمعت, متشوف, اساعدك, القهوة, تصرفلى, بمتين, يظهر, اطفال\n",
            "Most Common Bigrams:  لو سمحت (182), كنت عايز (99), كنت عاوز (23), من هنا (23), على طول (17), من فين (14), سمحت ممكن (14), سمحت أنا (14), ممكن اخد (12), أنا عايز (12)\n",
            "Most Common Trigrams:  لو سمحت ممكن (14), لو سمحت أنا (14), قريب من هنا (8), لو سمحت انا (7), لو سمحت كنت (7), ده لو سمحت (6), لو سمحت إنت (6), هنا لو سمحت (6), سمحت كنت عايز (5), كنت عايز آجر (5)\n",
            "Most Important Bigrams:  الكعوب عالية, الكوفي شوب, بالتوقيت المحلي, تضيق البنطلون, كريمة وسكر, لاس فيجاس, وال ستريت, ومصاريف الخدمة, إشارة المرور, ابص بصة\n",
            "Most Important Trigrams:  الخطوط الجوية اليابانية, اتوبيس المعالم السياحية, الكعوب عالية خالص, بيروح لوسط البلد, شركة الطيران هتدفعلي, اعمل مكالمة دولية, عند إشارة المرور, تذكرتين درجة تانية, موقف الأتوبيس بتاع, بالبريد الجوي لليابان\n",
            "==================================================\n",
            "=== Results for بغداد ===\n",
            "Most Common Words:  رجاء (157), هذا (145), اريد (143), ممكن (131), راح (121), من (110), على (108), اني (90), ما (86), هاي (83)\n",
            "Hapaxes:  عمري, سامع, الصيدلية, ثالث, اخليلك, بالكهوة, تصرفلي, أبو, الميتين, صايره\n",
            "Most Common Bigrams:  بلية زحمة (16), وين اكدر (14), ممكن اخذ (12), من رخصتك (12), هذا الشي (11), ممكن تكولي (10), اكو اي (9), رجاء اريد (8), اكدر احصل (8), هل هذا (7)\n",
            "Most Common Trigrams:  اكدر احصل على (6), وين اكدر احصل (4), دا ادور على (4), ممكن تكولي وين (3), اني اجيت من (3), لعنة على لعنة (3), على لعنة على (3), ممكن ترسملي خريطة (3), كبل لحد ما (2), شي رجاء اتصل (2)\n",
            "Most Important Bigrams:  الضريبة واجور, بالتوقيت المحلي, تشرين الأول, تناوشني الملح, خطوط يونايتد, لوح التزلج, يرجع يتصل, اربع ليالي, الجدول الزمني, انتبه للفتحة\n",
            "Most Important Trigrams:  الضريبة واجور الخدمة, لمدة ستة اشهر, تذكرتين درجة ثانية, احس نفسي بحالة, بالبريد الجوي لليابان, عنوان الاتصال مالتك, مكتبة قريبة منا, هدوم الغسيل مالتي, بعدين لوف يسره, ممكن تناوشني الملح\n",
            "==================================================\n",
            "=== Results for الجزائر ===\n",
            "Most Common Words:  من (340), فضلك (183), راني (176), حاب (148), و (142), اذا (142), تقدر (128), هاذ (123), في (122), على (122)\n",
            "Hapaxes:  معلومات, السياح, جامي, سمعت, الجيهة, صيدلية, الميتين, تاوعي, راهوم, فالشاك\n",
            "Most Common Bigrams:  من فضلك (183), راني حاب (126), في هاذ (22), من هنا (22), وين نقدر (21), نتحصل على (18), واش من (17), فضلك راني (17), نقدر نتحصل (17), اذا كاين (16)\n",
            "Most Common Trigrams:  من فضلك راني (17), نقدر نتحصل على (17), فضلك راني حاب (13), من فضلك اذا (10), من فضلك وين (9), من فضلك تقدر (9), من فضلك واش (9), دور على اليسار (7), راني حاب نكري (7), من فضلك شحال (6)\n",
            "Most Important Bigrams:  الأشياء المفقودة, السلم المتحرك, بأقصى سرعة, بالاكوا الخطوات, بدون طاكس, بلون غامق, تصريح السرقة, حديقة الحيوانات, دواعي سروري, طيران يونايتد\n",
            "Most Important Trigrams:  تقولو يتصل بيا, اللعنة اللعنة اللعنة, الخطوط الجوية اليابانية, نشري هدايا تذكارية, بعد منتصف النهار, لهاذ آلة التصوير, جاية المحطة البرية, سكوتش مع ماء, رانا جايين عليه, القسم تع النسا\n",
            "==================================================\n",
            "=== Results for الرياض ===\n",
            "Most Common Words:  لو (210), سمحت (208), هذا (155), في (141), ابغى (141), من (131), و (130), على (116), اقدر (113), تقدر (112)\n",
            "Hapaxes:  معلومات, السياح, قد, سمعت, تلقى, ثالث, بكريمة, تصرف, المئتين, الاتصال\n",
            "Most Common Bigrams:  لو سمحت (207), احصل على (24), اقدر احصل (23), وين اقدر (21), من هنا (18), هل هذا (17), تقدر تعلمني (13), اقدر اخذ (13), شكرا لك (12), سمحت ابغى (11)\n",
            "Most Common Trigrams:  اقدر احصل على (22), لو سمحت ابغى (11), لو سمحت تقدر (9), لو سمحت وين (8), وين اقدر اشتري (7), لو سمحت عطني (7), لو سمحت وش (7), امش على طول (6), أي نوع من (6), قريب من هنا (6)\n",
            "Most Important Bigrams:  اشتغل لشركة, السعرات الحرارية, الطرف الثاني, الكعب عالي, تأكيد رحلتي, حديقة الحيوانات, شهادة طبية, قائمة الطعام, لستة اشهر, للاس فيغاس\n",
            "Most Important Trigrams:  بوصل للسيد جونز, واشنطن دي سي, تذكرتين درجة سياحية, الخطوط الجوية اليابانية, اف اف اف, الكعب عالي جدا, إيه بي سي, هي المحطة الجاية, يسار عند الإشارة, سكان اليابان حوالي\n",
            "==================================================\n",
            "=== Results for فصحى ===\n",
            "Most Common Words:  من (2757), هل (2416), أن (1881), في (1590), فضلك (1371), إلى (951), هذا (917), على (771), أريد (667), ما (556)\n",
            "Hapaxes:  المائتي, حريمي, ستواجهني, صعوبات, سريرين, الفردي, فنحن, مستند, لتحديد, بتسخينه\n",
            "Most Common Bigrams:  من فضلك (1369), يمكن أن (274), هل يمكن (242), هل يمكنك (183), فضلك هل (163), هل يمكنني (152), هل لديك (141), يمكنك أن (139), لك أن (133), هل لك (132)\n",
            "Most Common Trigrams:  هل يمكن أن (224), من فضلك هل (163), هل لك أن (131), هل يمكنك أن (118), هل لي أن (72), هل من الممكن (66), من الممكن أن (63), من فضلك أريد (56), هل يمكنني أن (56), بالقرب من هنا (44)\n",
            "Most Important Bigrams:  الإسعافات الأولية, الث انية, بأزمة ربوية, جريب فروت, جولدن جيت, حيوان برونكس, درسا خصوصيا, سينسيناتي ريدز, لاحظ الفجوة, مثير للاهتمام\n",
            "Most Important Trigrams:  بناقل حركة أوتوماتيكي, جسر جولدن جيت, سدادة حوض الاستحمام, وبيض مقلي وقهوة, صة شعر وشامبو, للأشعة فوق البنفسجية, تبلغ تعريفة البرقية, تبيع بضائع معفاة, بعمل أشعة سينية, ارتداء ملابس سهرة\n",
            "==================================================\n",
            "=== Results for فاس ===\n",
            "Most Common Words:  واش (247), عافاك (199), ممكن (167), ديال (157), من (149), شي (124), بغيت (112), غادي (107), هاد (102), في (76)\n",
            "Hapaxes:  ماسبقليش, سمعت, بهاد, الصيدلية, سيرعلى, ليسر, مئتي, خصه, المقهى, الدراري\n",
            "Most Common Bigrams:  واش كاين (37), كاين شي (34), واش عندك (32), شوية ديال (25), واش ممكن (20), يمكن لي (18), شي حاجة (15), من بعد (13), واش يمكن (13), ممكن ناخد (13)\n",
            "Most Common Trigrams:  واش كاين شي (28), واش يمكن لي (9), شحال ديال الوقت (8), واش عندك شي (8), بغيت شوية ديال (7), فين يمكن لي (7), أنا متأكد بلي (4), يمكن لي ناخد (4), كاين شي بلاصة (4), الخطوط الجوية اليابانية (3)\n",
            "Most Important Bigrams:  الأدوية الباردة, الحاجات الغالية, انتبه للحفرة, بالتوقيت المحلي, جدول زمني, خطوط يونايتد, عطلة وطنية, لحم الخنزير, متاجر شاملة, مليون نسمة\n",
            "Most Important Trigrams:  ياماغوتشي جهة اتصالك, انسة ياماغوتشي جهة, الخط المكالمة تقبلات, تعطيني جدول زمني, مرحبا انسة ياماغوتشي, اللعنة اللعنة اللعنة, الخطوط الجوية اليابانية, غرفة بجوج فراشات, سكان اليابان تقريبا, هو عطلة وطنية\n",
            "==================================================\n",
            "=== Results for صنعاء ===\n",
            "Most Common Words:  لو (173), سمحت (153), من (137), هذا (134), في (127), ممكن (126), اشتي (116), انا (103), هو (88), هانا (73)\n",
            "Hapaxes:  هوذاك, سمعتش, ابدا, العنوان, القهوة, الميتين, أطفالي, للبريد, للتوصيل, الخاص\n",
            "Most Common Bigrams:  لو سمحت (152), من هانا (16), ايش من (15), به هانا (11), قريب من (11), من اين (11), به اي (10), ممكن تقل (10), ممكن تدي (10), تدي لي (10)\n",
            "Most Common Trigrams:  ممكن تدي لي (10), ممكن تقل لي (8), قريب من هانا (6), لو سمحت اين (6), من اين اقدر (5), لو سمحت اشتي (5), لو سمحت اديلي (5), لو سمحت قل (5), سمحت قل لي (5), لو سمحت ممكن (5)\n",
            "Most Important Bigrams:  اشاره المرور, الجوية اليابانية, جدول زمني, حديقه الحيوانات, كريمه وسكر, لاس فيغاس, لوس انجلس, محلات شاملة, الركن الثالث, الين الياباني\n",
            "Most Important Trigrams:  واشنطن دي سي, عند اشاره المرور, الطيران عيدفع لحقي, اللعنه اللعنه اللعنه, عند الركن الثالث, تذكرتين درجه ثانيه, عيدفع لحقي الفندق, بينحس أنني مش, يسار عند الركن, بين احس بتعب\n",
            "==================================================\n",
            "=== Results for طرابلس ===\n",
            "Most Common Words:  في (267), من (256), و (175), نبي (148), هدا (128), هل (117), فضلك (115), نقدر (100), اني (86), ممكن (80)\n",
            "Hapaxes:  اوني, معلومات, السواح, ماعمريش, سمعت, تقاطع, بميتين, حتكلفك, للبريد, زيادة\n",
            "Most Common Bigrams:  من فضلك (114), لو سمحت (60), هل في (29), من هنايا (21), و الا (21), وين نقدر (20), هل نقدر (17), نقدر ناخد (13), في اي (13), نقدر نحصل (12)\n",
            "Most Common Trigrams:  قريب من هنايا (7), من وين نقدر (6), وين نقدر نشري (6), هل في اي (6), لو سمحت نبي (5), من فضلك نبي (5), من فضلك شن (5), من فضلك وين (5), هل نقدر ناخد (5), لو سمحت اني (4)\n",
            "Most Important Bigrams:  الجوية اليابانية, بالتوقيت المحلي, تضيق السروال, تمدلي الملح, حديقة الحيوانات, راس السنة, عدد سكان, لاس فيغاس, لوس انجلس, وول ستريت\n",
            "Most Important Trigrams:  المسافرين ترافلز شيك, شيك المسافرين ترافلز, تبدل كرسيك معاي, واشنطن دي سي, عدد سكان اليابان, زفت زفت زفت, ان شاء الله, عالي بالنسبه ليا, بالبريد الجوي لليابان, لي لوس انجلس\n",
            "==================================================\n",
            "=== Results for السلط ===\n",
            "Most Common Words:  لو (223), سمحت (217), و (156), بدي (149), من (144), على (135), رح (134), بقدر (107), هاد (107), بتقدر (105)\n",
            "Hapaxes:  معلومات, السياح, عمري, سمعت, هالعنوان, الصيدلية, هالفطور, بقهوتك, تصرف, بميتين\n",
            "Most Common Bigrams:  لو سمحت (216), بقدر اخذ (27), من هون (22), وين بقدر (20), سمحت بدي (13), رح يكون (12), بتقدر تحكيلي (12), من وين (12), في اي (12), قريب من (11)\n",
            "Most Common Trigrams:  لو سمحت بدي (13), من وين بقدر (11), قريب من هون (10), لو سمحت وين (9), لو سمحت شو (8), لو سمحت بقدر (8), لو سمحت بتقدر (7), وين بقدر اشتري (6), لو سمحت انا (6), لو سمحت قديش (5)\n",
            "Most Important Bigrams:  انسى الفتحة, بالتوقيت المحلي, بشكل كافي, حديقة الحيوانات, ست اشهر, لاس فيغاس, لحم خنزير, لوس انجلوس, محلات شاملة, مكالمتك انقبلت\n",
            "Most Important Trigrams:  ينعن ينعن ينعن, بطاقات بريدية لليابان, هوه عطلة رسمية, ل لاس فيغاس, ل لوس انجلوس, اي محلات شاملة, سكان اليابان حوالي, اشتري هدايا تذكارية, اشوف معالم المدينة, عالي بالنسبة الي\n",
            "==================================================\n",
            "=== Results for القاهرة ===\n",
            "Most Common Words:  من (1443), ممكن (1380), في (1288), ده (1154), عايز (854), لو (786), سمحت (700), و (692), فضلك (675), انا (589)\n",
            "Hapaxes:  تلقي, التالته, واسعه, انصح, نفسها, مستند, تدفيه, الصحة, والرياضة, يحسن\n",
            "Most Common Bigrams:  من فضلك (673), لو سمحت (589), من هنا (115), إذا سمحت (102), اد ايه (90), ممكن آخد (63), قريب من (51), أنا عايز (50), انا مش (48), فضلك ممكن (45)\n",
            "Most Common Trigrams:  قريب من هنا (48), من فضلك ممكن (45), من فضلك عايز (34), لو سمحت ممكن (31), لو سمحت عايز (24), ممكن من فضلك (22), لو سمحت أنا (22), ده لو سمحت (21), ده من فضلك (20), لو سمحت فين (19)\n",
            "Most Important Bigrams:  احمر شفايف, النصب التذكاري, بأربع ابواب, باكو شيكولاته, بالفلوس المعدنية, بجنيهات استرليني, تيكي بوينت, رباط ضاغط, رجال الاعمال, سانتا مونيكا\n",
            "Most Important Trigrams:  سعراتها الحرارية قليلة, مركز التجارة العالمي, اشعة فوق بنفسجية, زفت زفت زفت, الرحلات الغير مباشرة, درجة رجال الاعمال, شامبو للشعر الجاف, ك ي م, أشوف ليستة الأسعار, خطوط بان الامريكية\n",
            "==================================================\n",
            "=== Results for بنغازي ===\n",
            "Most Common Words:  في (254), لو (231), سمحت (201), نبي (151), و (146), هضا (145), من (109), نقدر (99), على (98), تقدر (96)\n",
            "Hapaxes:  ماعمريش, سمعت, بالعنوان, الصيدلية, للشوكة, الثالثة, تصرفلي, كلمني, مالية, للبريد\n",
            "Most Common Bigrams:  لو سمحت (200), نقدر ناخذ (28), في أي (24), وين نقدر (21), من هنا (16), و لا (15), قريب من (13), نبي شوية (12), هل في (12), تقدر تقولي (11)\n",
            "Most Common Trigrams:  لو سمحت نبي (10), لو سمحت وين (9), قريب من هنا (9), لو سمحت شن (7), وين نقدر نشري (6), لو سمحت عطيني (6), مش حاس اني (5), لو سمحت تقدر (5), لو سمحت كم (4), لو سمحت نقدر (4)\n",
            "Most Important Bigrams:  أربع ليلات, بالتوقيت المحلي, تشرفت بمعرفتك, حديقة الحيوانات, سته سبعه, سعرات حرارية, للاس فيغاس, للوس انجلس, ماعندكش مانع, محلات شاملة\n",
            "Most Important Trigrams:  خمسه سته سبعه, زفت زفت زفت, اربعه خمسه سته, ندير تشيك اوت, ندير مكالمة دولية, بالبريد الجوي لليابان, لف يسار عند, الكعب عالي بكل, قطارات عشان نوصل, واحد تشيز برغر\n",
            "==================================================\n",
            "=== Results for الموصل ===\n",
            "Most Common Words:  رجاءا (212), هل (166), هذا (145), غاح (142), اغيد (140), ما (127), اي (121), على (119), من (112), انا (102)\n",
            "Hapaxes:  اسمعتو, كبل, اتغيذ, كريمه, بالقهوي, تصرفلي, قيمتو, الجيخانه, اتكلف, خميسي\n",
            "Most Common Bigrams:  احصل على (30), هل اكو (30), هل عندك (20), وين اطيق (19), اكو اي (19), هل هذا (17), اطيق احصل (16), رجاءا اغيد (11), اي شي (11), ممكن احصل (11)\n",
            "Most Common Trigrams:  اطيق احصل على (15), هل اكو اي (14), ممكن احصل على (11), اي نوع من (6), وين اطيق اشتغي (6), ما عدشعر مليح (5), اغيد احصل على (4), بس دقيقه رجاءا (4), هل عندك اي (4), هل تمانع اذا (4)\n",
            "Most Important Bigrams:  اتصالك بدى, التعداد السكاني, الجوية اليابانية, بالتوقيت المحلي, تشرين الاول, تعبغلي الملح, ستت شهور, بالاف وتسعمي, جيين عليه, طيران يونايتد\n",
            "Most Important Trigrams:  الضرايب ورسم الخدمه, لعنة علي لعنة, علي لعنة علي, عد ثالث زاويه, حواس الغسيل مالتي, سكوتش مع ماي, اغير القطارات حتى, ساعتي هي كانت, بالبريد الجوي لليابان, اشتغي طوابع بريديي\n",
            "==================================================\n",
            "=== Results for الخرطوم ===\n",
            "Most Common Words:  من (322), في (243), ممكن (228), فضلك (213), هل (182), داير (155), ح (141), ما (128), دا (124), و (119)\n",
            "Hapaxes:  السياح, حصل, سمعت, بالعنوان, كريمة, شيكي, البي, يكلف, وتمنين, للبريد\n",
            "Most Common Bigrams:  من فضلك (213), هل عندك (32), هل هناك (27), وين ممكن (20), ممكن احصل (19), شكرا ليك (17), ح يكون (13), ممكن اخد (13), احصل على (13), فضلك ممكن (12)\n",
            "Most Common Trigrams:  من فضلك ممكن (12), من فضلك داير (11), ممكن احصل على (11), هل هناك اي (9), من فضلك هل (9), هل عندك اي (8), من فضلك وين (8), ممكن من فضلك (7), دا من فضلك (7), وين ممكن اشتري (6)\n",
            "Most Important Bigrams:  السعرات الحرارية, بسرعة قدر, توقيت محلي, جدول زمني, حديقة الحيوان, قدر الإمكان, متاجر شاملة, مكالمتك اتقبلت, وول استريت, أضع طلب\n",
            "Most Important Trigrams:  بسرعة قدر الإمكان, العنة العنة العنة, تبدل المقاعد معاي, عند الكورنة التالتة, تمرر لي الملح, بعض دواء النزلة, كاش ول شحن, الخطوط الجوية اليابانية, القطر التالي إلى, لم أرجع لليابان\n",
            "==================================================\n",
            "=== Results for مسقط ===\n",
            "Most Common Words:  من (292), في (250), هل (187), على (120), فضلك (115), هذا (103), إلى (97), اقدر (80), ما (73), أن (70)\n",
            "Hapaxes:  اهو, امام, ماسمعت, بالهعنوان, سير, للتقاطع, نحط, بالقهوة, تصرفلي, بمائتي\n",
            "Most Common Bigrams:  من فضلك (114), لو سمحت (65), اقدر احصل (22), احصل على (19), هل عندك (18), وين اقدر (17), يمكن أن (17), هل في (16), هل يمكن (15), في أي (13)\n",
            "Most Common Trigrams:  اقدر احصل على (17), هل يمكن أن (11), من فضلك هل (10), من فضلك وين (7), هل في أي (6), أي نوع من (5), وين اقدر احصل (5), وين اقدر اشتري (5), هل عندك أي (5), هل اقدر احصل (5)\n",
            "Most Important Bigrams:  إعادة تأكيد, الحي الصيني, السعرات الحرارية, السنة الميلادية, انتبه للحفره, بالتوقيت المحلي, جدول زمني, حديقة الحيوان, قمت بالحجز, لاس فيغاس\n",
            "Most Important Trigrams:  رأس السنة الميلادية, تدفع شركة الطيران, الأعمال التجارية لدي, تغيير الكراسي معي, وعقب لف يسار, اللعنة اللعنة اللعنة, الخطوط الجوية اليابانية, لمشاهدة معالم المدينة, الحافلة التي تذهب, طريق البريد الجوي\n",
            "==================================================\n",
            "=== Results for الاسكندرية ===\n",
            "Most Common Words:  فى (229), دة (217), أنا (212), من (204), لو (197), ممكن (191), سمحت (161), عاوز (148), دى (87), على (85)\n",
            "Hapaxes:  الاستعلامات, عمرى, سمعت, امشى, روح, الثالثة, بميتين, بيكلف, ثمانين, للإيميل\n",
            "Most Common Bigrams:  لو سمحت (160), من فضلك (80), أنا عاوز (36), ممكن آخد (22), أد إيه (20), فى أى (19), من هنا (19), سمحت أنا (16), قريب من (16), فضلك عاوز (14)\n",
            "Most Common Trigrams:  لو سمحت أنا (16), من فضلك عاوز (14), قريب من هنا (12), دة لو سمحت (12), لو سمحت ممكن (11), لو سمحت فين (7), لو سمحت عاوز (6), ممكن لو سمحت (6), مش حاسس إنى (5), حاسس إنى كويس (5)\n",
            "Most Important Bigrams:  بالتوقيت المحلى, تعداد سكان, جنينة الحيوانات, فنادق رخيصة, كريمة وسكر, وول ستريت, أكون بمشى, الكوفى شوب, سكوتش وميا, عربيتى عطلت\n",
            "Most Important Trigrams:  الخطوط الجوية اليابانية, تعداد سكان اليابان, شركة الطيران هتدفع, بالبريد الجوى لليابان, أشترى هدايا تذكارية, ترسم لى خريطة, غير رسوم جمركية, تبدل الكراسى معايا, شمال عند الناصية, يكون معاك رخصة\n",
            "==================================================\n",
            "=== Results for الرباط ===\n",
            "Most Common Words:  واش (1540), عافاك (1129), شي (1127), ديال (964), بغيت (946), هاد (905), من (855), غادي (822), و (743), على (650)\n",
            "Hapaxes:  استعلامات, صعوبة, واسعة, الصبع, الصوص, تسخنو, الصحة, والرياضة, اكتوبر, وطني\n",
            "Most Common Bigrams:  واش يمكن (214), واش عندك (195), يمكن لي (186), يمكن ليك (168), كاين شي (156), عندك شي (144), هاد الشي (140), واش كاين (113), بغيت شي (112), واش تقدر (104)\n",
            "Most Common Trigrams:  واش كاين شي (96), واش يمكن لي (94), واش عندك شي (93), واش يمكن ليك (75), يمكن لي نحصل (38), نقدر نحصل على (34), لي نحصل على (34), واش كاينة شي (28), قريب من هنا (24), واش نقدر نحصل (18)\n",
            "Most Important Bigrams:  الشهادة الطبية, جدول زمني, عدساتي اللاصقة, غيت بريدج, لتيكي بوينت, متمنياتي الخالصة, ميكي هاياكاوا, الأقراص المدمجة, السعرات الحرارية, ريزا كوباياشي\n",
            "Most Important Trigrams:  نجلس فالقدام دالطيارة, البري اولا البحري, اخمسطاش غالون دالبنزين, استمارة التصريح الجمركي, غالون دالبنزين العادي, الورقة النقدية لصرف, رد البال لراسك, اثنين ثلاثة أربعة, النقدية لصرف صغير, معاياش كايسد لحانوت\n",
            "==================================================\n",
            "=== Results for دمشق ===\n",
            "Most Common Words:  بدي (144), ممكن (134), من (124), سمحت (117), لو (113), على (103), هاد (102), رح (101), في (78), ما (77)\n",
            "Hapaxes:  السياح, بالزبط, سمعت, بهيك, إمشي, تصرفلي, أطفال, وزيادة, بالظبط, للتوصيل\n",
            "Most Common Bigrams:  لو سمحت (106), ممكن تعطيني (22), من هون (21), من وين (18), إذا بتريد (17), وين فيني (17), إذا سمحت (11), بدي شوية (11), قريب من (11), سمحت بدي (10)\n",
            "Most Common Trigrams:  من وين فيني (12), قريب من هون (11), لو سمحت بدي (10), لو سمحت وين (7), لو سمحت شو (6), وين فيني اشتري (5), عم دور على (5), بدي استأجر سيارة (4), ممكن ترسملي خريطة (4), لو سمحت رح (4)\n",
            "Most Important Bigrams:  أكد رحلتي, أوتيلات رخيصة, الحي الصيني, بشتغل بشركة, تناولني الملح, حديقة الحيوانات, درج الكهربا, كريما وسكر, لاس فيغاس, لوس أنجلوس\n",
            "Most Important Trigrams:  ارجع أكد رحلتي, عالشمال عند إشارة, عند إشارة المرور, تدفعلي شركة الطيران, تتبادل معي بالمقعد, يلعن يلعن يلعن, الطرف التاني عالخط, عنوان الاتصال تبعك, سنة ألف وتسعمية, إيه بي سي\n",
            "==================================================\n",
            "=== Results for بيروت ===\n",
            "Most Common Words:  بتريد (1047), بدي (982), من (801), ما (749), فيك (743), إزا (654), في (576), و (572), شي (543), هيدا (534)\n",
            "Hapaxes:  استعلامات, السياح, بهالعنوان, بقهوتك, للإيميل, تلاتي, صعوبات, صبابط, الأصابيع, العراض\n",
            "Most Common Bigrams:  إزا بتريد (562), إذا بتريد (471), عمول معروف (358), في شي (181), من هون (114), بقدر آخد (87), أي ساعة (66), فيي اخد (66), عن اذنك (59), بتريد بدي (59)\n",
            "Most Common Trigrams:  إزا بتريد بدي (32), إذا بتريد بدي (27), إزا بتريد فيك (26), أريب من هون (24), في شي محل (20), قريب من هون (19), عمول معروف بدي (18), إزا بتريد وين (18), عن اذنك فيك (16), عمول معروف فيك (15)\n",
            "Most Important Bigrams:  إرشادات الأمان, التصادم والمسؤولية, بشهر العسل, بهالمركز التجاري, بيعتمد عالعجقة, حاضنة أطفال, دفعة مسبقة, راكيتات للاجار, ستايت بيلدينج, سيسيناتي ردس\n",
            "Most Important Trigrams:  التصادم والمسؤولية القانونية, أليل السعرات الحرارية, مشغل الاتصالات الخارجية, تكبس عزر التصوير, هالشيك السياحي لنقدي, بتعمل بوأت فراغك, إعزمك عحفلة عيد, الصحن الأزرأ المميز, احضر لعبة فوتبول, صروف هالشيك السياحي\n",
            "==================================================\n",
            "=== Results for الدوحة ===\n",
            "Most Common Words:  في (1592), لو (1405), سمحت (1384), ممكن (1058), من (761), هذي (730), حق (615), بغيت (603), على (559), ما (507)\n",
            "Hapaxes:  قط, بهالعنوان, فانلة, التسليم, صعوبات, العريضة, يثبت, تسخنه, صديق, الصحة\n",
            "Most Common Bigrams:  لو سمحت (1380), ممكن تعطيني (168), من هني (93), سمحت ممكن (84), وين اقدر (71), الساعة كم (70), مسامحة بس (64), مرة ثانية (57), في اليابان (54), سمحت بغيت (44)\n",
            "Most Common Trigrams:  لو سمحت ممكن (84), لو سمحت بغيت (44), لو سمحت وين (44), لو سمحت في (43), قريب من هني (40), لو سمحت عطني (34), ان شاء الله (31), لو سمحت لو (30), سمحت لو سمحت (30), لو سمحت ابغي (30)\n",
            "Most Important Bigrams:  ابغيكم تنتبهون, البالوعة مسدودة, المحادثة الانجليزية, المراكز التجارية, بجينز وجوتي, تيكي بوينت, حضرة الضابط, ستيت بيلدينج, سنسناتي ريدز, فانتوم اوف\n",
            "Most Important Trigrams:  جسر قولدن قيت, العيش وشوربة الميسو, ذا فانتوم اوف, فانتوم اوف ذي, بروحه وحط شريطة, اون ذا روكس, لصاقات بريد جوي, ك ي م, شهادة طبية ورصيد, نروح تيكي بوينت\n",
            "==================================================\n",
            "=== Results for البصرة ===\n",
            "Most Common Words:  رجاءا (176), اريد (141), راح (141), هذا (116), من (114), تكدر (94), انا (94), ما (90), اكدر (87), هاي (76)\n",
            "Hapaxes:  معلومات, السياح, سامع, يسرة, ثالث, كريمة, بكهوتك, الميتين, خابرني, سترة\n",
            "Most Common Bigrams:  بلا زحمة (23), وين اكدر (15), اكدر احصل (13), احصل على (10), تكدر تكلي (9), ما اكدر (9), اي شي (8), رجاءا انا (8), رجاءا وين (8), انا اسف (8)\n",
            "Most Common Trigrams:  اكدر احصل على (6), بلا زحمة اريد (4), وين اكدر اشتري (4), تكدر تكلي وين (3), تكدر تكلي على (3), اوه انا اسف (3), سكوج وماي رجاءا (3), ممكن احصل على (3), العاشر من تشرين (2), بلا زحمة شكد (2)\n",
            "Most Important Bigrams:  بالتوقيت المحلي, تعبرلي الملح, عطلة وطنية, للاس فيكاس, مكالمتك انقبلت, البلا ضرائب, الدرج الكهربائي, ترسملي خريطة, سكوج وماي, مشغل المكالمات\n",
            "Most Important Trigrams:  تبدل مقعدك وياي, اللعنة اللعنة اللعنة, كاش لو تحميل, اشتري هدايا تذكارية, بعدين اكسر يسرى, الرحلة سبعمية وتلاثة, الخطوط الجوية اليابانية, عادي لو نقي, عندي وجع راس, الساعة ثمانية ونص\n",
            "==================================================\n",
            "=== Results for القدس ===\n",
            "Most Common Words:  في (237), لو (225), سمحت (220), على (156), بدي (143), و (133), بتقدر (127), هدا (120), من (119), رح (98)\n",
            "Hapaxes:  استعلامات, السياح, عمري, سمعت, لتلاقي, الكورنر, السكر, الكريمة, تصرفلي, الميتين\n",
            "Most Common Bigrams:  لو سمحت (220), في عندك (28), من هون (25), وين بقدر (21), بتقدر تعطيني (17), بقدر أخد (13), بتقدر تحكيلي (12), في عنا (10), سمحت بدي (10), على الساعة (10)\n",
            "Most Common Trigrams:  لو سمحت بدي (10), لو سمحت بتقدر (9), لو سمحت وين (9), قريب من هون (8), وين بقدر أشتري (7), لو سمحت أعطيني (7), لو سمحت شو (7), هون لو سمحت (7), لو سمحت قديش (6), لو سمحت بقدر (6)\n",
            "Most Important Bigrams:  أوتيلات رخيصة, الحي الصيني, بالتوقيت المحلي, بشتغل بشركة, حديقة الحيوانات, شكر للعمال, لوس أنجلوس, نسجل خروج, وال ستريت, الفرق بين\n",
            "Most Important Trigrams:  لايمتا بيضل فاتح, يلعن يلعن يلعن, إيه بي سي, أنا بشتغل بشركة, بكون مبسوط ازا, عم نيجي عليه, الكعب كتير عالي, خليك ماشي دغري, يكون معك رخصة, برغر مع جبنة\n",
            "==================================================\n"
          ]
        }
      ],
      "source": [
        "analyze_texts(data_trian_df)"
      ]
    },
    {
      "cell_type": "code",
      "execution_count": 58,
      "metadata": {
        "id": "V87VeNoVRdP9",
        "colab": {
          "base_uri": "https://localhost:8080/"
        },
        "outputId": "b15c2bc3-b057-4bee-89ce-cedc7ef9f21a"
      },
      "outputs": [
        {
          "output_type": "stream",
          "name": "stdout",
          "text": [
            "=== Results for السعودية ===\n",
            "Most Common Words:  من (6647), اللي (4787), الله (4582), في (4227), على (3585), و (3000), ما (2481), بس (1816), كل (1803), ولا (1650)\n",
            "Hapaxes:  الزواية, للأيميل, صعوبات, اقترحلك, بسريرين, كدة, مجعد, تدفيه, أعز, والصحة\n",
            "Most Common Bigrams:  لو سمحت (404), شاء الله (191), كل شي (167), صح الله (146), من اللي (131), صح لسانك (130), الله يبارك (125), في كل (118), حسبي الله (116), اكثر من (111)\n",
            "Most Common Trigrams:  ان شاء الله (91), صح الله لسانك (87), أعجبني فيديو على (78), الله يبارك فيك (76), الله ونعم الوكيل (64), صح الله بدنك (52), خالد بن عمره (45), ما شاء الله (38), حسبي الله ونعم (36), ولاقوة الا بالله (31)\n",
            "Most Important Bigrams:  آند كومباني, أسه رلك, ابشروا بالخساره, اصب بناظري, الآ شناط, الأيفون والهواوي, البالغين العاقلين, السوا والمفوتر, الصالحه الباره, اللئيم تمردا\n",
            "Most Important Trigrams:  الآ شناط وسباح, الأيفون والهواوي والمساويك, السوا والمفوتر للانترنت, تلاته صبايصي زنقر, صبايصي زنقر كويكلي, كنتاكي تلاته صبايصي, لاصحاب السوا والمفوتر, منيل بستين نيله, والهتان والماطر واسترجع, ﯙﺎﻧﺎ ﻣﺎﺧطﯾت ﻓي\n",
            "==================================================\n",
            "=== Results for سوريا ===\n",
            "Most Common Words:  من (3428), ما (2786), بس (2077), و (2055), الله (1683), على (1433), يا (1433), اللي (1367), في (1319), عم (1300)\n",
            "Hapaxes:  بهالعنوان, بقهوتك, عريض, للاستعمال, المفرد, إثبات, تسخنو, مصممة, ترتيبات, أتساعد\n",
            "Most Common Bigrams:  العفاريت الزرق (231), إذا سمحت (217), اعتقلوه العفاريت (189), شاء الله (177), لو سمحت (129), ان شاء (119), في شي (91), ما عم (82), كل شي (79), كل يوم (77)\n",
            "Most Common Trigrams:  اعتقلوه العفاريت الزرق (183), ان شاء الله (118), العفاريت الزرق بتاريخ (70), العفاريت الزرق من (64), مواليد اعتقلوه العفاريت (53), العفاريت الزرق تبع (30), الزرق بتاريخ من (27), إن شاء الله (26), شو عم يصير (23), و ماحدا بيعرف (23)\n",
            "Most Important Bigrams:  ازرعوها بدقن, الإجراءات الرسمية, الاقيها جمبي, البوكسينغ داي, التنازلي لنهاية, الحبه قبه, السندويشة الثالثة, العد التنازلي, الفردوس الاعلى, المضحك المبكي\n",
            "Most Important Trigrams:  العد التنازلي لنهاية, رفقاتك مانسيوك بعدهن, سيداتي وسادتي برحلتنا, لوحات مونيت هالبيتزا, اشتروها وحطوا مصرياتها, بأهلها يكفيك شرها, بدلة غامقة لإلي, عطي هالشراب لابنك, وحطوا مصرياتها بجيبتهم, ويقلك كبوس الزر\n",
            "==================================================\n",
            "=== Results for تونس ===\n",
            "Most Common Words:  و (4398), في (4363), من (2424), ما (2063), على (1946), يا (1346), يعيشك (1330), هذا (1205), اللي (1188), باش (1187)\n",
            "Hapaxes:  بالادريسة, وزايدة, للمراسلة, لبخاص, نحسبوها, اوراقك, تسخنو, تدعيم, اسال, بالتمديد\n",
            "Most Common Bigrams:  شاء الله (190), ان شاء (147), في تونس (145), نجم ناخو (134), من هوني (105), و ما (100), من غير (96), يعيشك نحب (77), كل واحد (62), يا رب (61)\n",
            "Most Common Trigrams:  ان شاء الله (136), الله يبارك فيك (46), إن شاء الله (24), عايزة اموت عايزة (24), اموت عايزة اموت (24), قريب من هوني (22), نحس في روحي (20), ربي يخليك ليا (19), وين نجم نلقى (16), صفر صفر صفر (16)\n",
            "Most Important Bigrams:  آجمل ايامي, آند كومباني, أشكالها تقع, إلترا فيولي, الإيمان بالقضا, التصادم والمسئولية, الصيادة فيشرمانز, الطمع والعناد, المصر بتقولوها, بجلد الثور\n",
            "Most Important Trigrams:  الصيادة فيشرمانز وارف, بعينك مابدك ياها, ضائقتك وتعطيك ماسألت, ضربني وبكى سبقني, لبرط الصيادة فيشرمانز, وبكى سبقني وشكى, يسة بجلد الثور, سرقت آجمل ايامي, بمطارح دمعة بعينك, دمعة بعينك مابدك\n",
            "==================================================\n",
            "=== Results for الأردن ===\n",
            "Most Common Words:  ما (5978), من (5099), و (4822), بس (3768), يا (3156), الله (3112), في (2847), اللي (2777), على (2676), مش (2634)\n",
            "Hapaxes:  تصرفلي, الأصابع, تستخدمها, مموج, خمرة, تسخنه, إتطور, بساعدني, همبرغر, وجبته\n",
            "Most Common Bigrams:  لو سمحت (464), يا رب (377), شاء الله (325), و الله (225), ما في (192), ان شاء (192), في ناس (179), بس ما (145), كل شي (135), يا الله (125)\n",
            "Most Common Trigrams:  ان شاء الله (188), ما شاء الله (71), الله يبارك فيك (34), الله ونعم الوكيل (33), وان شاء الله (29), إن شاء الله (29), يا الله شو (28), حسبي الله ونعم (27), الله يبارك بعمرك (27), لو سمحت بدي (22)\n",
            "Most Important Bigrams:  أغلبك بهالشغلة, ادح امبو, اغصبوني وغطت, الاحتباس الحراري, البلية مايضحك, الترحيب بالشامبانيا, الريد بول, الصاع صاعين, الطين بلة, الفراشات بيمرق\n",
            "Most Important Trigrams:  الفراشات بيمرق ربيعا, بتاريخها ومعلقه بعنوانها, بثمامها معذبه بتاريخها, صبحك ندى ندو, مراري وطفيها بدمعي, معذبه بتاريخها ومعلقه, نستضيف مونديال الناشئات, واسح ادح امبو, وطفيها بدمعي وابكي, الحور الكينا وميكون\n",
            "==================================================\n",
            "=== Results for مصر ===\n",
            "Most Common Words:  من (13461), في (11366), مش (11100), اللي (9692), ده (9592), و (8571), يا (8431), بس (6419), انا (6201), على (6045)\n",
            "Hapaxes:  تصرفلى, وتلات, بالتوصيل, لاستخدام, تسخنه, أكتوبرعيد, التوعية, للوجبة, هتلقيها, معظ\n",
            "Most Common Bigrams:  لو سمحت (991), من فضلك (763), شاء الله (572), من غير (515), مش عارف (440), انا مش (410), ولا ايه (398), ان شاء (396), في مصر (370), اكتر من (333)\n",
            "Most Common Trigrams:  ان شاء الله (391), من غير ما (96), الله ونعم الوكيل (82), كل سنه وانت (82), قريب من هنا (68), إن شاء الله (62), اكتر من كده (59), سنه وانت طيب (59), لو سمحت ممكن (58), كل سنة و (54)\n",
            "Most Important Bigrams:  آفات خرابي, أذكرومحاسن موتاكم, أساطير الأولين, أعقل اليحب, أكرمت اللئيم, أيوب ودولت, إتمشى إتعشى, إسعافات أولية, احترامی لرایک, ازهي عصورها\n",
            "Most Important Trigrams:  أعقل اليحب شيعقله, الأنتي بوليتيكال كوريكتنس, المداين لازرع رملك, لونزلت حاتمش الاعالاقل١٠مساءا, نطوى الأنين بالحنين, اليحب شيعقله ياهلا, بتفجیر کنیسه القدسین, حدتاني سبقني وخدبيدها, وعهود وصدود وآلام, هينضموا للجولة الاختيارية\n",
            "==================================================\n",
            "=== Results for العراق ===\n",
            "Most Common Words:  من (3455), ما (2242), بس (2125), على (1778), مو (1674), اللي (1427), هذا (1225), الله (1118), لو (1067), والله (957)\n",
            "Hapaxes:  الصيدلية, اخليلك, بالكهوة, وتلث, للتسليم, ببوز, عريض, بسريرين, كشي, المصادف\n",
            "Most Common Bigrams:  شاء الله (159), ان شاء (103), اي والله (100), مو بس (68), بس مو (66), ما ادري (64), اكثر من (61), كل واحد (56), اي شي (56), اهم شي (48)\n",
            "Most Common Trigrams:  ان شاء الله (102), وان شاء الله (17), ما شاء الله (17), اطيق احصل على (15), هل اكو اي (14), ممكن احصل على (14), اكدر احصل على (12), أن شاء الله (12), أضفت فيديو إلى (10), فيديو إلى قائمة (10)\n",
            "Most Important Bigrams:  ابلع الريج, اتصالك بدى, اجوني وفتشوني, استمارة البيان, الاخطبوط والحبار, الخارطة نمحيها, السمچه ماكوله, العوامية والقطيف, المسيحية انحظرت, اليومية الضرورية\n",
            "Most Important Trigrams:  السمچه ماكوله مذمومه, ساندرو وسيديبي وكانسيلو, محچية اجوني وفتشوني, يفاوض ساندرو وسيديبي, المسيحية انحظرت والبلد, تكملة لقصة غار, حچاية محچية اجوني, لقصة غار حراء, استمارة البيان الكمركي, تعبها وتغفى بعيون\n",
            "==================================================\n",
            "=== Results for الجزائر ===\n",
            "Most Common Words:  و (3574), من (2837), في (2796), الله (1970), ما (1800), على (1613), يا (1412), انا (1383), مش (1201), لي (1052)\n",
            "Hapaxes:  الجيهة, صيدلية, الميتين, تاوعي, راهوم, فالشاك, عيطلي, للبرية, تزيدلها, تبعثها\n",
            "Most Common Bigrams:  شاء الله (481), ان شاء (362), غازي المطيري (294), من فضلك (185), الله يبارك (141), ربي يحفظك (138), راني حاب (126), الحمد لله (118), يا رب (117), كل واحد (86)\n",
            "Most Common Trigrams:  ان شاء الله (357), ما شاء الله (45), يا رب يا (42), رب يا رب (40), إن شاء الله (33), الله ونعم الوكيل (30), أن شاء الله (26), الله يبارك فيك (25), حسبي الله ونعم (19), نفوطي مانفوطيش نفوطي (18)\n",
            "Most Important Bigrams:  اريد استرجاع, اسقاس امقاس, الرحب والسعد, الريس برايز, الريسان لكبار, الصاع صاعين, انبرى لسانا, ايمن سرحاني, بالاكوا الخطوات, بالخط العريض\n",
            "Most Important Trigrams:  وجبت اريد استرجاع, حطني فدارك يارياض, بالامس وجبت اريد, بسامسونج بعته بالامس, بشق الن فس, بعته بالامس وجبت, قبرها اكو مقاطعة, سفير ركن القصيم, ويسكنه فسيح جناته, فخار يكسر بعضو\n",
            "==================================================\n",
            "=== Results for فصحى ===\n",
            "Most Common Words:  من (2757), هل (2416), أن (1881), في (1590), فضلك (1371), إلى (951), هذا (917), على (771), أريد (667), ما (556)\n",
            "Hapaxes:  المائتي, حريمي, ستواجهني, صعوبات, سريرين, الفردي, فنحن, مستند, لتحديد, بتسخينه\n",
            "Most Common Bigrams:  من فضلك (1369), يمكن أن (274), هل يمكن (242), هل يمكنك (183), فضلك هل (163), هل يمكنني (152), هل لديك (141), يمكنك أن (139), لك أن (133), هل لك (132)\n",
            "Most Common Trigrams:  هل يمكن أن (224), من فضلك هل (163), هل لك أن (131), هل يمكنك أن (118), هل لي أن (72), هل من الممكن (66), من الممكن أن (63), من فضلك أريد (56), هل يمكنني أن (56), بالقرب من هنا (44)\n",
            "Most Important Bigrams:  الإسعافات الأولية, الث انية, بأزمة ربوية, جريب فروت, جولدن جيت, حيوان برونكس, درسا خصوصيا, سينسيناتي ريدز, لاحظ الفجوة, مثير للاهتمام\n",
            "Most Important Trigrams:  بناقل حركة أوتوماتيكي, جسر جولدن جيت, سدادة حوض الاستحمام, وبيض مقلي وقهوة, صة شعر وشامبو, للأشعة فوق البنفسجية, تبلغ تعريفة البرقية, تبيع بضائع معفاة, بعمل أشعة سينية, ارتداء ملابس سهرة\n",
            "==================================================\n",
            "=== Results for المغرب ===\n",
            "Most Common Words:  من (2910), و (2884), واش (2211), شي (2203), على (2104), لي (1703), ديال (1678), هاد (1616), في (1591), الله (1446)\n",
            "Hapaxes:  ماسبقليش, سيرعلى, مئتي, خصه, برمانونت, اثبات, بصديقي, كتهدف, لتعزيز, الغطى\n",
            "Most Common Bigrams:  واش عندك (228), واش يمكن (227), كاين شي (218), شي حاجة (215), يمكن لي (205), يمكن ليك (175), شاء الله (170), من بعد (161), واش كاين (160), هاد الشي (158)\n",
            "Most Common Trigrams:  واش كاين شي (131), ان شاء الله (117), واش يمكن لي (103), واش عندك شي (101), واش يمكن ليك (76), تفو تفو تفو (60), يمكن لي نحصل (38), نقدر نحصل على (34), لي نحصل على (34), إن شاء الله (34)\n",
            "Most Important Bigrams:  الأعراس احتفالات, التقني سيحاول, الشطيح والرديح, العادات والتقاليد, الفك الملام, النيميرو دسوم, بالعشوب كيساعد, بتنقيد تفجير, بحد ذاته, بقصة الإعجاب\n",
            "Most Important Trigrams:  موسوعة غنيس كاكبر, هواتف نقالة وأجهزة, محد يستاهله وانه, ميعرفش رشدي اباضة, نشطاء يدقون ناقوس, يدقون ناقوس الخطر, الثقافية كاتعطى للفنانين, الطاقم التقني سيحاول, بنسى رجوعك تعبان, بوميل الطاقم التقني\n",
            "==================================================\n",
            "=== Results for اليمن ===\n",
            "Most Common Words:  من (2254), في (1247), اللي (1090), ما (1049), على (1018), الله (996), و (761), بس (757), يا (729), لو (579)\n",
            "Hapaxes:  هوذاك, سمعتش, أطفالي, للبريد, للتوصيل, اواجه, واسعه, تجعيد, تبرز, يثيت\n",
            "Most Common Bigrams:  لو سمحت (157), ھ ھ (117), شاء الله (95), تقنية اخبار (81), كل شي (66), ان شاء (61), ماشاء الله (53), حتى لو (50), من اللي (44), اكثر من (40)\n",
            "Most Common Trigrams:  ھ ھ ھ (90), ان شاء الله (58), جواس جواس جواس (31), قادر قادر قادر (29), احلام احلام احلام (27), الله اكبر الله (20), اكبر الله اكبر (20), إيران برا برا (16), الله ونعم الوكيل (15), برا برا إيران (15)\n",
            "Most Important Bigrams:  أثنين وخميس, أكابر وينهلك, الانتقالات الشتوية, التجافي تباشير, الجنس الناعم, الداخل والخارج, العقوبه اساء, الفائز بالايفوون, المدرعات والدبابات, الملوك والامراء\n",
            "Most Important Trigrams:  اﻟﺸﺒﺎﺏ ﻗﻄﻊ ﺻﻼﺗﻪ, بالروح بالدم نفديك, مقادير وظروف وهقاوي, وشفيك متغير وحالك, وظروف وهقاوي وقيل, ﺁﻋﺠﺒڪ ﺻﺂﺭ ﺕ, ﺍﻥ ڪﺴﺒﺘﻨﻲ ڪﺴﺒﺖ, ﺧﺴﺮﺗﻨﻲ ﺧﺴ ﺮﺕ, ﺪ ﺁﻋﺠﺒڪ ﺻﺂﺭ, ﺳﻨ ﺪ ﺁﻋﺠﺒڪ\n",
            "==================================================\n",
            "=== Results for ليبيا ===\n",
            "Most Common Words:  في (10125), من (7865), و (5759), اللي (5689), مش (3985), ما (3605), الله (3255), يا (3034), بس (2871), علي (2176)\n",
            "Hapaxes:  اوني, بميتين, حتكلفك, حنلاقي, لإستخدام, اوخيك, والرياضه, صممت, لتشجيع, هامبرجر\n",
            "Most Common Bigrams:  شاء الله (599), ان شاء (347), لو سمحت (276), في ليبيا (256), مش عارف (228), كل شي (211), اللي في (205), الله يبارك (182), يبارك فيك (177), من غير (153)\n",
            "Most Common Trigrams:  ان شاء الله (333), الله يبارك فيك (151), الله ونعم الوكيل (112), إن شاء الله (101), ما شاء الله (75), وان شاء الله (52), حسبي الله ونعم (48), حسبنا الله ونعم (45), بارك الله فيك (40), شاء الله ربي (39)\n",
            "Most Important Bigrams:  آذان صاغية, أيا صوفيا, إياد الريماوي, اتواطيها وشايبنا, ادعوني استجب, ارموا العباء, استخفاف بعقول, اقصر بإنش, الاماراتيين مذبوحين, التيكي تاكا\n",
            "Most Important Trigrams:  توت عنخ امون, ثقال الروز همتنا, ذوبي مأحلى مرسما, سفرتح لاروشن لاباب, طواعية وبرغبته وغيرته, يقلبوهن ثانويات تخصصية, المزيته ليدي قاقا, لتعليب الأخلاقيات الركيكة, ماعملنا بنظل مقصرين, مثنى وثلاث ورباع\n",
            "==================================================\n",
            "=== Results for السودان ===\n",
            "Most Common Words:  في (4155), ما (3611), من (3071), دي (2348), دا (1768), يا (1557), و (1522), بس (1390), انا (1340), ده (1199)\n",
            "Hapaxes:  بالعنوان, شيكي, يكلف, وتمنين, للبريد, للتسليم, أواجه, عريضة, اصابع, لاستعمال\n",
            "Most Common Bigrams:  من فضلك (214), شاء الله (161), ولا شنو (127), دي ما (112), اكتر من (99), ان شاء (96), في ناس (91), الناس دي (89), انا ما (86), زي ما (80)\n",
            "Most Common Trigrams:  ان شاء الله (94), سلمية سلمية سلمية (36), إن شاء الله (30), الله ونعم الوكيل (21), ما شاء الله (20), في البلد دي (19), بغض النظر عن (14), من فضلك ممكن (12), مساء الخير واشوفكم (12), جيشنا يرجع بس (12)\n",
            "Most Important Bigrams:  آمنه ومطمئنه, اكلتي شربتي, الحابل بالنابل, الخان أوطانو, الدومة وودالبصير, السعرات الحرارية, السماد العضوي, الشقلة مساحته, العنك والعن, الكايد اعدائي\n",
            "Most Important Trigrams:  الشقلة مساحته ومبني, العنك والعن الخلفوك, غرفتيين وبرندتيين وحمام, مداخل الدومة وودالبصير, مساحته ومبني غرفتيين, وبرندتيين وحمام ومطبخ, ومبني غرفتيين وبرندتيين, ﺍﻟﺠﺮﺍﺡ ﻭﺍﻻﺑﺘﺴﺎﻣﺔ ﻭﻛﻞ, ﺍﻟﻨﻮﺍﺭ ﻳﺎﺭﻳﺖ ﺗﻌﻮﺩ, ﺍﻧﺴﺎﻥ ﻋﺰﻳﻴﻴﺰ ﺑﻐﺎﺩﻱ\n",
            "==================================================\n",
            "=== Results for عُمان ===\n",
            "Most Common Words:  ما (4803), من (4209), اللي (2592), في (2180), الله (1960), على (1513), بس (1486), و (1408), شي (1271), كل (1224)\n",
            "Hapaxes:  بالهعنوان, للتقاطع, تصرفلي, بمائتي, للأطفال, وتكلف, سنتا, للبريد, للتسليم, واجهت\n",
            "Most Common Bigrams:  شاء الله (352), ما شاء (153), كل شي (150), ان شاء (149), اللي ما (121), من فضلك (115), اهم شي (105), بس ما (86), يا رب (78), لو سمحت (77)\n",
            "Most Common Trigrams:  ما شاء الله (151), ان شاء الله (148), الله يبارك فيك (34), ربي يبارك فيك (25), ماجدات ماجدات ماجدات (23), من كثر ما (22), الله ونعم الوكيل (21), بارك الله فيك (19), إن شاء الله (18), اقدر احصل على (17)\n",
            "Most Important Bigrams:  اساسية واحتياطية, اسعى للخيرات, الأثمان غلوك, التسفير والمقاصة, الجدر يطلعه, الحبه قبه, الرشاقة واللياقة, الستاير وتكشفها, السعرات الحرارية, العريضه ونحلم\n",
            "Most Important Trigrams:  التسفير والمقاصة والتامين, الستاير وتكشفها ودامك, صابغ بالثياب وباللحى, وعى اسعى للخيرات, الجدر يطلعه الملاس, شلنا العصا والعمامه, يخاوينا رفعنا مقامه, ﺴ ﺒ ﺖ, الأثمان غلوك بالحيل, ذعذاعها منعش وللنفس\n",
            "==================================================\n",
            "=== Results for لبنان ===\n",
            "Most Common Words:  ما (9612), من (6323), و (4712), بس (4432), عم (3516), يا (3366), مش (3316), في (3001), شو (2872), شي (2808)\n",
            "Hapaxes:  استعلامات, بهالعنوان, بقهوتك, للإيميل, تلاتي, صعوبات, صبابط, الأصابيع, العراض, إقترح\n",
            "Most Common Bigrams:  إزا بتريد (562), ما في (492), إذا بتريد (471), ما حدا (377), عمول معروف (358), في شي (327), كل شي (323), بس ما (295), يا ريت (252), ما عم (229)\n",
            "Most Common Trigrams:  ما في شي (66), ثورة ثورة ثورة (52), كلن يعني كلن (48), ان شاء الله (39), نبيه بري نبيه (39), بري نبيه بري (39), يا عيب الشوم (36), من بعد ما (33), ما بعرف شو (33), اكتر من هيك (33)\n",
            "Most Important Bigrams:  الأحوط وجوبا, التحكم المروري, التصادم والمسؤولية, السوقية والصعاليك, المتخلف ونعود, بتواضع والفارغات, بهالجامعه وبتهتف, جابوه بيستعروا, حاميلا حدودا, حفة قبرو\n",
            "Most Important Trigrams:  المتخلف ونعود للتوقيت, بتواضع والفارغات رؤوسهن, والفارغات رؤوسهن شوامخ, السنابل تنحني بتواضع, تنحني بتواضع والفارغات, للثاني لقيه مسوي, يور ماوس أوباما, أليل السعرات الحرارية, التصادم والمسؤولية القانونية, سحب سلاحه وقوص\n",
            "==================================================\n",
            "=== Results for قطر ===\n",
            "Most Common Words:  من (9437), في (8145), ما (5263), على (5120), اللي (4656), الله (4431), و (4182), بس (3497), لو (2741), ولا (2592)\n",
            "Hapaxes:  بهالعنوان, فانلة, العريضة, تسخنه, الترتيبات, تحويلة, هامبرقر, تشيز, تاخد, للاجراءات\n",
            "Most Common Bigrams:  لو سمحت (1396), حسبي الله (385), شاء الله (283), كل شي (251), في قطر (237), الدب الداشر (199), ونعم الوكيل (183), الله ونعم (181), ان شاء (173), ممكن تعطيني (170)\n",
            "Most Common Trigrams:  الله ونعم الوكيل (179), ان شاء الله (170), حسبي الله ونعم (138), حسبي الله عليهم (95), لو سمحت ممكن (84), حسبي الله عليكم (64), ما شاء الله (51), لو سمحت بغيت (44), لو سمحت وين (44), لو سمحت في (43)\n",
            "Most Important Bigrams:  آذانك وأصفح, أبواب الأرزاق, أعتبره أنجاز, أفلام الأكشن, أهتمامها بالمواطن, احقاقا للحق, الأنذال مخطوطه, الاعداديه والثانويه, الاورده والشراين, البالوعة مسدودة\n",
            "Most Important Trigrams:  الردوف الملس خدرانة, المزايا الفريده علمه, بالخزينه ومابها شحاذ, موقعناالنوايف والنوادر خصمهم, يرتكي للثقالي وبدولته, أبواب الأرزاق وتزيل, أراجع سالف أعوامي, شحاذ لكنك بأجنده, فارقت غارب قعوووده, لأجتك هرجه طايشه\n",
            "==================================================\n",
            "=== Results for فلسطين ===\n",
            "Most Common Words:  ما (7658), من (7438), مش (5518), بس (5493), في (5085), يا (4792), اللي (4325), الله (4239), و (3653), انا (3632)\n",
            "Hapaxes:  استعلامات, لتلاقي, الكورنر, تصرفلي, الميتين, للبريد, للتوصيل, صعوبات, لاستعمال, الصوص\n",
            "Most Common Bigrams:  يا رب (624), شاء الله (542), مش عارف (308), في ناس (280), ان شاء (267), لو سمحت (250), ما في (248), كل ما (240), الناس اللي (225), انا مش (207)\n",
            "Most Common Trigrams:  ان شاء الله (266), ما شاء الله (148), الله ونعم الوكيل (103), حسبي الله ونعم (78), إن شاء الله (60), الله يبارك فيك (57), وان شاء الله (54), مش عارف كيف (41), من كتر ما (41), كل عام وانتي (38)\n",
            "Most Important Bigrams:  أدوات كهربائية, ادوات الخياطه, اذكروا محاسن, الاسمراني شبكنا, الدنيي قبلتها, الفرخه الدايخه, الكيادة الكوادة, الماتدور نادال, المهدي المنتظر, اولد فاشن\n",
            "Most Important Trigrams:  اذكروا محاسن موتاكم, الدنيي قبلتها وعشقتها, وبطتنا بطت بطتكم, ﺑﺪﻛﻢ ﺗﻨﺒﺴﻄﻮ ﻫﺎﻟﻘﺪ, ﺗﻨﺒﺴﻄﻮ ﻫﺎﻟﻘﺪ ﻛﺂﻥ, ﻫﺎﻟﻘﺪ ﻛﺂﻥ خريت, بتتفاعل بتعاتب بتداري, مثنى وثلاث ورباع, ويسكنها فسيح جناته, ﺑﻌﺮﻑ ﺑﺪﻛﻢ ﺗﻨﺒﺴﻄﻮ\n",
            "==================================================\n",
            "=== Results for الإمارات ===\n",
            "Most Common Words:  من (6248), ما (5451), و (5052), في (4833), اللي (4365), الله (3765), على (3060), بس (2143), يا (2011), كل (1769)\n",
            "Hapaxes:  جلالة, هجوومكم, افرهم, الحبس, صجها, يبيضها, لتدارك, لازلنا, فبداية, وللامة\n",
            "Most Common Bigrams:  شاء الله (423), ان شاء (239), كل شي (181), اكثر من (149), الله يبارك (143), في كل (132), و ما (116), اللي ما (114), بس ما (106), بعد ما (103)\n",
            "Most Common Trigrams:  ان شاء الله (234), ما شاء الله (86), شاهد الموضوع كامل (74), الله يبارك فيك (68), إن شاء الله (63), من كثر ما (44), ان شا الله (43), الله ونعم الوكيل (28), بارك الله فيك (27), وان شاء الله (27)\n",
            "Most Important Bigrams:  أمرنا بذكره, ارسلها تلو, ازماني وعلمني, البلبوصه عالسرير, الحاليين والسابقين, الحكومةموافقتنهم ضمنيا, الخيط والمخيط, الفقه الحاليين, بأثر رجعي, باسكن روبنز\n",
            "Most Important Trigrams:  الفقه الحاليين والسابقين, جائزه نوبل للسلام, سبح وهلل واسلك, قتلونا هنبقى شهدا, واشواقي ارسلها تلو, والرحمه وحلو التراحيب, وعدس وفول وتجي, وهلي وإياك تتغلى, ارسلها تلو الاشواق, الحاليين والسابقين والقادمين\n",
            "==================================================\n",
            "=== Results for الكويت ===\n",
            "Most Common Words:  من (10047), اللي (7185), ما (6313), و (5507), الله (5383), على (4759), في (4111), بس (4092), مو (3563), كل (2949)\n",
            "Hapaxes:  ارباحها, تعدة, ضعفاء, وجيرانك, حادثة, كنابل, يأجرون, أجنبية, المستأجرة, بمحامي\n",
            "Most Common Bigrams:  شاء الله (367), كل شي (360), ان شاء (258), الله يبارك (245), طال عمرك (219), صباح الخير (199), كل يوم (189), اكثر من (187), هذا اللي (177), اي والله (170)\n",
            "Most Common Trigrams:  ان شاء الله (250), الله يبارك فيك (138), حكيم والبحاره إعليميه (79), نوخذاك حكيم والبحاره (76), الله ونعم الوكيل (75), جزاك الله خير (71), ما شاء الله (64), حسبي الله ونعم (59), الله يجزاك خير (49), صباح الخير يا (48)\n",
            "Most Important Bigrams:  آلتفاصيل عإبر, أبناءناس وأسرمحترمه, أدي أديله, ابجبر اكسور, ابددد للدوامات, اتعين بقطاع, اخلاصها للخيل, اخماس بسداس, اشعل بياضي, اعايد كاسب\n",
            "Most Important Trigrams:  بالاحلام مافقت وعاده, بضعته بشته وثوبه, تنفخ بجربه مشقوقه, معبوچ وكونهم فنشوها, يالسعودية ياديار الشيم, إنسى المحبہ وأعتبرهآ, اجلكم فالعيد سقت, القرفه والبكو والربيبه, المحبہ وأعتبرهآ موآجيب, جرآلي إنسى المحبہ\n",
            "==================================================\n",
            "=== Results for البحرين ===\n",
            "Most Common Words:  من (5466), في (4546), ما (4382), اللي (3571), و (3385), على (2788), الله (2717), بس (2422), يا (2145), لا (1744)\n",
            "Hapaxes:  هلالى, فاهمينكم, مشجعيين, شعرفهم, يعلفون, ويرقدون, بيوقفك, التعل, موني, ٢٠١٢م\n",
            "Most Common Bigrams:  شاء الله (273), كل شي (191), ان شاء (159), اللي ما (126), اي والله (115), اللي في (113), من اللي (113), في البحرين (105), كل يوم (103), من زمان (96)\n",
            "Most Common Trigrams:  ان شاء الله (157), ما شاء الله (55), الله يبارك فيك (38), إن شاء الله (37), الله ونعم الوكيل (35), تعقل تعقل تعقل (33), حسبي الله ونعم (27), حسبي الله عليهم (20), بارك الله فيك (20), ما عليك زود (19)\n",
            "Most Important Bigrams:  آرائي مستقلة, أحبج وآحبج, أسيرك وعطني, أعقب نهاره, اتمرمق بتراب, ادناة الداني, اذبلته تصوبني, ارتجاج بالمخ, اصون واتعبني, الاوديه ومنابت\n",
            "Most Important Trigrams:  اذبلته تصوبني بسهم, اصون واتعبني ممشاي, جاير مبغا الدوا, لته ولقيتك أوفى, والبعض يدوسك لوتحترق, والظراب وبطون الاوديه, وبطون الاوديه ومنابت, وجيبي تلاطمنا وبجينا, وراكتيش وسميدو وبوسكتس, ولانعلم الغيب ولايعلم\n",
            "==================================================\n"
          ]
        }
      ],
      "source": [
        "analyze_texts(data_trian_df,\"Country\")"
      ]
    },
    {
      "cell_type": "code",
      "execution_count": null,
      "metadata": {
        "id": "aCyu7xtsRdP-"
      },
      "outputs": [],
      "source": [
        "analyze_texts(data_trian_df,\"Region\")"
      ]
    },
    {
      "cell_type": "markdown",
      "metadata": {
        "id": "wV363oJORdP_"
      },
      "source": []
    },
    {
      "cell_type": "markdown",
      "metadata": {
        "id": "ZgzDVRqCQ72Q"
      },
      "source": [
        "## [2.5]"
      ]
    },
    {
      "cell_type": "code",
      "execution_count": null,
      "metadata": {
        "id": "3WFp0g3DQ72V"
      },
      "outputs": [],
      "source": [
        "from collections import Counter\n",
        "\n",
        "def find_distinctive_words(dataframe, column='City', threshold=10):\n",
        "    dialect_words = {}\n",
        "    all_words = set()\n",
        "    for index, row in dataframe.iterrows():\n",
        "        dialect = row[column]\n",
        "        if pd.isna(dialect):\n",
        "            continue\n",
        "        tokens = row['tokens']\n",
        "        if dialect not in dialect_words:\n",
        "            dialect_words[dialect] = Counter()\n",
        "        dialect_words[dialect].update(tokens)\n",
        "        all_words.update(tokens)\n",
        "    distinctive_words = {\n",
        "        dialect: {\n",
        "            word: count\n",
        "            for word, count in dialect_words[dialect].items()\n",
        "            if count ==1\n",
        "        }\n",
        "        for dialect in dialect_words\n",
        "    }\n",
        "\n",
        "    distinctive_words_sorted = {\n",
        "        dialect: dict(sorted(words.items(), key=lambda x: x[1]))\n",
        "        for dialect, words in distinctive_words.items()\n",
        "    }\n",
        "\n",
        "    for dialect, words in distinctive_words_sorted.items():\n",
        "        print(f\"\\nالكلمات المميزة في لهجة {dialect}:\")\n",
        "        if words:\n",
        "            print(', '.join([f\"{word} ({count})\" for word, count in words.items()]))\n",
        "        else:\n",
        "            print(\"لا توجد كلمات مميزة تتجاوز العتبة المحددة\")\n",
        "\n",
        "    return distinctive_words_sorted\n",
        "\n",
        "\n",
        "\n"
      ]
    },
    {
      "cell_type": "code",
      "source": [
        "from collections import Counter\n",
        "\n",
        "def find_distinctive_words(dataframe, column='City', base_threshold=10,low_threshold=2):\n",
        "    \"\"\"\n",
        "    يجد الكلمات المميزة لكل لهجة والتي تكرارها يتجاوز عتبة معينة مرتبة بحسب تكرارها.\n",
        "\n",
        "    Args:\n",
        "        dataframe: DataFrame يحتوي على البيانات.\n",
        "        column: اسم العمود الذي يمثل اللهجات (City, Country, or Region).\n",
        "        base_threshold: عتبة أساسية يتم تعديلها حسب حجم البيانات وتوازنها.\n",
        "\n",
        "    Returns:\n",
        "        distinctive_words_sorted: قاموس يحتوي على الكلمات المميزة لكل لهجة مرتبة حسب تكرارها.\n",
        "    \"\"\"\n",
        "    dialect_words = {}\n",
        "    all_words = set()\n",
        "    dialect_sizes = {}  # لحفظ حجم البيانات لكل لهجة\n",
        "\n",
        "    for index, row in dataframe.iterrows():\n",
        "        dialect = row[column]\n",
        "        if pd.isna(dialect):\n",
        "            continue\n",
        "        tokens = row['tokens']\n",
        "        if dialect not in dialect_words:\n",
        "            dialect_words[dialect] = Counter()\n",
        "            dialect_sizes[dialect] = 0  # تهيئة حجم البيانات\n",
        "        dialect_words[dialect].update(tokens)\n",
        "        all_words.update(tokens)\n",
        "        dialect_sizes[dialect] += len(tokens)  # تحديث حجم البيانات\n",
        "\n",
        "    distinctive_words = {}\n",
        "    for dialect in dialect_words:\n",
        "        # حساب العتبة الديناميكية\n",
        "        threshold = base_threshold + int(dialect_sizes[dialect] / 1000)\n",
        "\n",
        "        # استخدام عتبة منخفضة للمدن ذات عدد نصوص قليل\n",
        "        if dialect_sizes[dialect] < int(0.017 * len(dataframe)):\n",
        "            threshold = low_threshold\n",
        "\n",
        "        distinctive_words[dialect] = {\n",
        "            word: count\n",
        "            for word, count in dialect_words[dialect].items()\n",
        "            if count > threshold and all(\n",
        "                word not in dialect_words[other_dialect]\n",
        "                for other_dialect in dialect_words if other_dialect != dialect\n",
        "            )\n",
        "        }\n",
        "\n",
        "    distinctive_words_sorted = {\n",
        "        dialect: dict(sorted(words.items(), key=lambda item: item[1], reverse=True))\n",
        "        for dialect, words in distinctive_words.items()\n",
        "    }\n",
        "\n",
        "    for dialect, words in distinctive_words_sorted.items():\n",
        "        print(f\"\\nالكلمات المميزة في لهجة {dialect}:\")\n",
        "        if words:\n",
        "            print(', '.join([f\"{word} ({count})\" for word, count in words.items()]))\n",
        "        else:\n",
        "            print(\"لا توجد كلمات مميزة تتجاوز العتبة المحددة\")\n",
        "\n",
        "    return distinctive_words_sorted"
      ],
      "metadata": {
        "id": "U0Lwayi80WBf"
      },
      "execution_count": null,
      "outputs": []
    },
    {
      "cell_type": "code",
      "execution_count": null,
      "metadata": {
        "id": "ySDEpejjRdQB"
      },
      "outputs": [],
      "source": [
        "c=find_distinctive_words(data_trian_df)"
      ]
    },
    {
      "cell_type": "code",
      "execution_count": null,
      "metadata": {
        "id": "-RzG0Bb5RdQC"
      },
      "outputs": [],
      "source": [
        "co=find_distinctive_words(data_trian_df,\"Country\")"
      ]
    },
    {
      "cell_type": "code",
      "execution_count": null,
      "metadata": {
        "id": "hI7_54GKRdQD"
      },
      "outputs": [],
      "source": [
        "re=find_distinctive_words(data_trian_df,\"Region\")"
      ]
    },
    {
      "cell_type": "markdown",
      "metadata": {
        "id": "k-XoxEuZumNP"
      },
      "source": [
        "## [2.6]"
      ]
    },
    {
      "cell_type": "code",
      "execution_count": null,
      "metadata": {
        "id": "aqrU9IWhupgG"
      },
      "outputs": [],
      "source": [
        "import pandas as pd\n",
        "import seaborn as sns\n",
        "import matplotlib.pyplot as plt\n",
        "from sklearn.metrics import jaccard_score\n",
        "import numpy as np\n",
        "\n",
        "def analyze_dialect_similarity(dataframe, column='City'):\n",
        "    # إعداد البيانات\n",
        "    dataframe = dataframe.dropna(subset=[column])\n",
        "    unique_dialects = dataframe[column].unique()\n",
        "\n",
        "    # حساب الكلمات المميزة لكل لهجة\n",
        "    distinctive_words = find_distinctive_words(dataframe, column=column, threshold=1)\n",
        "\n",
        "    # إنشاء مصفوفة التشابه\n",
        "    similarity_matrix = np.zeros((len(unique_dialects), len(unique_dialects)))\n",
        "\n",
        "    for i, dialect1 in enumerate(unique_dialects):\n",
        "        for j, dialect2 in enumerate(unique_dialects):\n",
        "            if i == j:\n",
        "                similarity_matrix[i, j] = 1.0\n",
        "            else:\n",
        "                words1 = set(distinctive_words.get(dialect1, {}).keys())\n",
        "                words2 = set(distinctive_words.get(dialect2, {}).keys())\n",
        "                if words1 and words2:\n",
        "                    similarity_matrix[i, j] = len(words1 & words2) / len(words1 | words2)\n",
        "                else:\n",
        "                    similarity_matrix[i, j] = 0.0\n",
        "\n",
        "    # إنشاء خريطة الحرارة\n",
        "    plt.figure(figsize=(10, 8))\n",
        "    sns.heatmap(\n",
        "        similarity_matrix,\n",
        "        xticklabels=unique_dialects,\n",
        "        yticklabels=unique_dialects,\n",
        "        cmap='coolwarm',\n",
        "        annot=True,\n",
        "        fmt=\".2f\"\n",
        "    )\n",
        "    plt.title(\"تشابه الكلمات بين اللهجات\")\n",
        "    plt.xlabel(\"اللهجة\")\n",
        "    plt.ylabel(\"اللهجة\")\n",
        "    plt.show()\n",
        "\n",
        "    # ملاحظات إضافية\n",
        "    print(\"\\nملاحظات:\")\n",
        "    for i, dialect1 in enumerate(unique_dialects):\n",
        "        similar_dialects = [\n",
        "            (unique_dialects[j], similarity_matrix[i, j])\n",
        "            for j in range(len(unique_dialects)) if i != j and similarity_matrix[i, j] > 0.5\n",
        "        ]\n",
        "        if similar_dialects:\n",
        "            print(f\"اللهجة {dialect1} تتشابه بشكل كبير مع: {', '.join([f'{d[0]} ({d[1]:.2f})' for d in similar_dialects])}\")\n",
        "        else:\n",
        "            print(f\"اللهجة {dialect1} ليس لها تشابه كبير مع اللهجات الأخرى.\")\n",
        "\n",
        "\n"
      ]
    },
    {
      "cell_type": "code",
      "execution_count": null,
      "metadata": {
        "id": "UcQS8oIpRdQH"
      },
      "outputs": [],
      "source": [
        "\n",
        "analyze_dialect_similarity(data_trian_df, column='City')"
      ]
    },
    {
      "cell_type": "markdown",
      "metadata": {
        "id": "mgvjgPIxuqXI"
      },
      "source": [
        "## [2.7]"
      ]
    },
    {
      "cell_type": "code",
      "execution_count": null,
      "metadata": {
        "id": "JmoYTIAFutAR"
      },
      "outputs": [],
      "source": []
    },
    {
      "cell_type": "markdown",
      "metadata": {
        "id": "oFmJ2HWqRNZa"
      },
      "source": [
        "# مهمة 03 : تنظيف وتوحيد النص\n",
        "\n",
        "normalization and cleaning Text"
      ]
    },
    {
      "cell_type": "markdown",
      "metadata": {
        "id": "cwaCNfS9RNZc"
      },
      "source": [
        "## [3.1]\n"
      ]
    },
    {
      "cell_type": "code",
      "execution_count": null,
      "metadata": {
        "id": "LhllhojDRNZd"
      },
      "outputs": [],
      "source": []
    },
    {
      "cell_type": "markdown",
      "metadata": {
        "id": "MbJeF_CxRNZd"
      },
      "source": [
        "## [3.2]"
      ]
    },
    {
      "cell_type": "code",
      "execution_count": null,
      "metadata": {
        "id": "M_bO-W2DRNZe"
      },
      "outputs": [],
      "source": []
    },
    {
      "cell_type": "markdown",
      "metadata": {
        "id": "GY-HhD2YRNZe"
      },
      "source": [
        "## [3.3]"
      ]
    },
    {
      "cell_type": "code",
      "execution_count": null,
      "metadata": {
        "id": "l-5TSuHWRNZe"
      },
      "outputs": [],
      "source": []
    },
    {
      "cell_type": "markdown",
      "metadata": {
        "id": "KV9D86kbRNZe"
      },
      "source": [
        "## [3.4]"
      ]
    },
    {
      "cell_type": "code",
      "execution_count": null,
      "metadata": {
        "id": "AbnvizuQ1txm"
      },
      "outputs": [],
      "source": []
    },
    {
      "cell_type": "markdown",
      "metadata": {
        "id": "Jp-C0ZwrS8AY"
      },
      "source": [
        "# مهمة 04  : بناء النموذج المرجعي\n",
        "\n",
        "Model Baseline"
      ]
    },
    {
      "cell_type": "markdown",
      "metadata": {
        "id": "pwtVy8DES8AZ"
      },
      "source": [
        "## [4.1]\n"
      ]
    },
    {
      "cell_type": "code",
      "execution_count": null,
      "metadata": {
        "id": "fr9DTvvQ1tyt"
      },
      "outputs": [],
      "source": []
    },
    {
      "cell_type": "markdown",
      "metadata": {
        "id": "npObP2JLUBgw"
      },
      "source": [
        "## [4.2]"
      ]
    },
    {
      "cell_type": "code",
      "execution_count": null,
      "metadata": {
        "id": "V_KxmQdgUBg5"
      },
      "outputs": [],
      "source": []
    },
    {
      "cell_type": "markdown",
      "metadata": {
        "id": "pTIrTECWUBg5"
      },
      "source": [
        "## [4.3]"
      ]
    },
    {
      "cell_type": "code",
      "execution_count": null,
      "metadata": {
        "id": "OqmCKe5lUBg6"
      },
      "outputs": [],
      "source": []
    },
    {
      "cell_type": "markdown",
      "metadata": {
        "id": "6v0njm5qUBg6"
      },
      "source": [
        "## [4.4]"
      ]
    },
    {
      "cell_type": "code",
      "execution_count": null,
      "metadata": {
        "id": "DltX5hcnUHT1"
      },
      "outputs": [],
      "source": []
    },
    {
      "cell_type": "markdown",
      "metadata": {
        "id": "I8DcdwLUvaCc"
      },
      "source": [
        "## [4.5]"
      ]
    },
    {
      "cell_type": "code",
      "execution_count": null,
      "metadata": {
        "id": "tasleVJ4vdWb"
      },
      "outputs": [],
      "source": []
    },
    {
      "cell_type": "markdown",
      "metadata": {
        "id": "6CpLPudVvd7y"
      },
      "source": [
        "## [4.6]"
      ]
    },
    {
      "cell_type": "code",
      "execution_count": null,
      "metadata": {
        "id": "AF_8KYkvvhSB"
      },
      "outputs": [],
      "source": []
    },
    {
      "cell_type": "markdown",
      "metadata": {
        "id": "GYDQvpdX1ty1"
      },
      "source": [
        "# مهمة 05 : التدريب باستخدام نماذج التعلم العميق\n",
        "\n",
        "Deep learning"
      ]
    },
    {
      "cell_type": "markdown",
      "metadata": {
        "id": "r1vhyHDP1ty2"
      },
      "source": [
        "The Comparison Dictionary example"
      ]
    },
    {
      "cell_type": "code",
      "execution_count": null,
      "metadata": {
        "id": "MoozCAAZ1ty3"
      },
      "outputs": [],
      "source": [
        "comparison_table = {}\n",
        "\n",
        "comparison_table['question_step_number'] = []\n",
        "comparison_table['model_name'] = []\n",
        "comparison_table['features'] = []\n",
        "comparison_table['model_parameters'] = []\n",
        "comparison_table['preprocessing_methods'] = []\n",
        "comparison_table['accuracy'] = []\n",
        "comparison_table['balance_accuracy'] = []"
      ]
    },
    {
      "cell_type": "markdown",
      "metadata": {
        "id": "w56uRlY51ty5"
      },
      "source": [
        "Filling the dictionary example"
      ]
    },
    {
      "cell_type": "code",
      "execution_count": null,
      "metadata": {
        "id": "6SsdHNCb1ty6"
      },
      "outputs": [],
      "source": [
        "comparison_table['question_step_number'].append(\"3.5\")\n",
        "comparison_table['model_name'].append('logistic_regression')\n",
        "comparison_table['features'].append('bag of words')\n",
        "comparison_table['model_parameters'].append('default')\n",
        "comparison_table['preprocessing_methods'].append(\"remove links\")\n",
        "comparison_table['accuracy'].append(accuracy)\n",
        "comparison_table['balance_accuracy'].append(balance_accuracy_value)"
      ]
    },
    {
      "cell_type": "markdown",
      "metadata": {
        "id": "oPI-rzcR1ty8"
      },
      "source": [
        "## [5.1]"
      ]
    },
    {
      "cell_type": "code",
      "execution_count": null,
      "metadata": {
        "id": "e35V2qPp1ty-"
      },
      "outputs": [],
      "source": []
    },
    {
      "cell_type": "markdown",
      "metadata": {
        "id": "FsWTneZz1tzA"
      },
      "source": [
        "## [5.2]"
      ]
    },
    {
      "cell_type": "markdown",
      "metadata": {
        "id": "2YpU7EC2wSGf"
      },
      "source": [
        "### [5.2.1]"
      ]
    },
    {
      "cell_type": "code",
      "execution_count": null,
      "metadata": {
        "id": "MlYZ5s_Jwcuc"
      },
      "outputs": [],
      "source": []
    },
    {
      "cell_type": "markdown",
      "metadata": {
        "id": "3XTpb8jsweVq"
      },
      "source": [
        "### [5.2.2]"
      ]
    },
    {
      "cell_type": "code",
      "execution_count": null,
      "metadata": {
        "id": "k8NhWHBGwh-Z"
      },
      "outputs": [],
      "source": []
    },
    {
      "cell_type": "markdown",
      "metadata": {
        "id": "-lzdA_wYwisH"
      },
      "source": [
        "### [5.2.3]"
      ]
    },
    {
      "cell_type": "code",
      "execution_count": null,
      "metadata": {
        "id": "Kqw7TlrA1tzB"
      },
      "outputs": [],
      "source": []
    },
    {
      "cell_type": "markdown",
      "metadata": {
        "id": "dAybNjGb1tzC"
      },
      "source": [
        "## [5.3]"
      ]
    },
    {
      "cell_type": "code",
      "execution_count": null,
      "metadata": {
        "id": "_xYyAjsH1tzE"
      },
      "outputs": [],
      "source": []
    },
    {
      "cell_type": "markdown",
      "metadata": {
        "id": "dhEWd2XL1tzF"
      },
      "source": [
        "## [5.4]"
      ]
    },
    {
      "cell_type": "code",
      "execution_count": null,
      "metadata": {
        "id": "fl0Thdey1tzH"
      },
      "outputs": [],
      "source": []
    },
    {
      "cell_type": "markdown",
      "metadata": {
        "id": "Hm1ApAEU1tzI"
      },
      "source": [
        "## [5.5]"
      ]
    },
    {
      "cell_type": "code",
      "execution_count": null,
      "metadata": {
        "id": "rjmRxR_n1tzJ"
      },
      "outputs": [],
      "source": []
    },
    {
      "cell_type": "markdown",
      "metadata": {
        "id": "SjIWhs-91tzK"
      },
      "source": [
        "## [5.6]"
      ]
    },
    {
      "cell_type": "code",
      "execution_count": null,
      "metadata": {
        "id": "cqQfx3X71tzL"
      },
      "outputs": [],
      "source": []
    },
    {
      "cell_type": "markdown",
      "metadata": {
        "id": "OKsXw6ox1tzN"
      },
      "source": [
        "# مهمة 06 : التمثيل الداللي\n",
        "\n",
        "Semantic representation"
      ]
    },
    {
      "cell_type": "markdown",
      "metadata": {
        "id": "ocl-3hXm1tzO"
      },
      "source": [
        "## [6.1]"
      ]
    },
    {
      "cell_type": "code",
      "execution_count": null,
      "metadata": {
        "id": "KgywpAyb1tzP"
      },
      "outputs": [],
      "source": []
    },
    {
      "cell_type": "markdown",
      "metadata": {
        "id": "GvfnG-d11tzR"
      },
      "source": [
        "## [6.2]"
      ]
    },
    {
      "cell_type": "code",
      "execution_count": null,
      "metadata": {
        "id": "4jtXsE3V1tzT"
      },
      "outputs": [],
      "source": []
    },
    {
      "cell_type": "markdown",
      "metadata": {
        "id": "AvuOQes91t0C"
      },
      "source": [
        "# Final Results"
      ]
    },
    {
      "cell_type": "code",
      "execution_count": null,
      "metadata": {
        "id": "9hgTzDdb1t0E"
      },
      "outputs": [],
      "source": [
        "df = pd.DataFrame(comparison_table)\n",
        "df"
      ]
    },
    {
      "cell_type": "code",
      "execution_count": null,
      "metadata": {
        "id": "xel-m5951t0F"
      },
      "outputs": [],
      "source": [
        "df.to_csv(\"[your_name].csv\", index=False)"
      ]
    }
  ],
  "metadata": {
    "colab": {
      "collapsed_sections": [
        "3400638b",
        "2f22713d",
        "oFmJ2HWqRNZa",
        "Jp-C0ZwrS8AY",
        "OKsXw6ox1tzN"
      ],
      "provenance": [],
      "include_colab_link": true
    },
    "kernelspec": {
      "display_name": "tf",
      "language": "python",
      "name": "python3"
    },
    "language_info": {
      "codemirror_mode": {
        "name": "ipython",
        "version": 3
      },
      "file_extension": ".py",
      "mimetype": "text/x-python",
      "name": "python",
      "nbconvert_exporter": "python",
      "pygments_lexer": "ipython3",
      "version": "3.9.20"
    }
  },
  "nbformat": 4,
  "nbformat_minor": 0
}